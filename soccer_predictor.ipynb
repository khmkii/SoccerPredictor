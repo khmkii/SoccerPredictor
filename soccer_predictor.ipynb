{
 "cells": [
  {
   "cell_type": "code",
   "execution_count": 1,
   "metadata": {},
   "outputs": [
    {
     "data": {
      "text/html": [
       "<script>requirejs.config({paths: { 'plotly': ['https://cdn.plot.ly/plotly-latest.min']},});if(!window.Plotly) {{require(['plotly'],function(plotly) {window.Plotly=plotly;});}}</script>"
      ],
      "text/vnd.plotly.v1+html": [
       "<script>requirejs.config({paths: { 'plotly': ['https://cdn.plot.ly/plotly-latest.min']},});if(!window.Plotly) {{require(['plotly'],function(plotly) {window.Plotly=plotly;});}}</script>"
      ]
     },
     "metadata": {},
     "output_type": "display_data"
    }
   ],
   "source": [
    "import pandas as pd\n",
    "import requests\n",
    "import csv\n",
    "import re\n",
    "import math\n",
    "from plotly.offline import download_plotlyjs, init_notebook_mode, iplot\n",
    "from plotly.graph_objs import *\n",
    "import plotly.figure_factory as ff\n",
    "import datetime\n",
    "import numpy as np\n",
    "init_notebook_mode(connected=True)"
   ]
  },
  {
   "cell_type": "code",
   "execution_count": 2,
   "metadata": {
    "collapsed": true
   },
   "outputs": [],
   "source": [
    "with open('token.txt', 'r') as fileobj:\n",
    "    token = fileobj.read().strip()"
   ]
  },
  {
   "cell_type": "code",
   "execution_count": 3,
   "metadata": {
    "collapsed": true
   },
   "outputs": [],
   "source": [
    "API_TOKEN = token\n",
    "URL_ROOT = 'http://api.football-data.org/'\n",
    "API_ROOT = 'v1/competitions/'"
   ]
  },
  {
   "cell_type": "code",
   "execution_count": 4,
   "metadata": {
    "collapsed": true
   },
   "outputs": [],
   "source": [
    "headers = {'X-Auth-Token': API_TOKEN, 'X-Response-Control': 'minified'}"
   ]
  },
  {
   "cell_type": "code",
   "execution_count": 5,
   "metadata": {
    "collapsed": true
   },
   "outputs": [],
   "source": [
    "PREMIERSHIP_ID = '445/'\n",
    "PREMIERSHIP_ROOT = URL_ROOT + API_ROOT + PREMIERSHIP_ID\n",
    "\n",
    "CHAMPIONSHIP_ID = '446/'\n",
    "CHAMPIONSHIP_ROOT = URL_ROOT + API_ROOT + CHAMPIONSHIP_ID\n",
    "\n",
    "LEAGUE1_ID = '447/'\n",
    "LEAGUE1_ROOT = URL_ROOT + API_ROOT + LEAGUE1_ID\n",
    "\n",
    "LEAGUE2_ID = '448/'\n",
    "LEAGUE2_ROOT = URL_ROOT + API_ROOT + LEAGUE2_ID\n",
    "\n",
    "ROOTS = [PREMIERSHIP_ROOT, CHAMPIONSHIP_ROOT, LEAGUE1_ROOT, LEAGUE2_ROOT]"
   ]
  },
  {
   "cell_type": "code",
   "execution_count": 6,
   "metadata": {
    "collapsed": true
   },
   "outputs": [],
   "source": [
    "rt = requests.get(ROOTS[0] + 'teams/', headers=headers)"
   ]
  },
  {
   "cell_type": "code",
   "execution_count": 7,
   "metadata": {
    "collapsed": true
   },
   "outputs": [],
   "source": [
    "rf = requests.get(ROOTS[0] + 'fixtures/', headers=headers)"
   ]
  },
  {
   "cell_type": "code",
   "execution_count": 8,
   "metadata": {
    "collapsed": true
   },
   "outputs": [],
   "source": [
    "rff = rf.json()"
   ]
  },
  {
   "cell_type": "code",
   "execution_count": 9,
   "metadata": {
    "collapsed": true
   },
   "outputs": [],
   "source": [
    "rft = rt.json()"
   ]
  },
  {
   "cell_type": "code",
   "execution_count": 10,
   "metadata": {
    "collapsed": true
   },
   "outputs": [],
   "source": [
    "team_names = [team_dict['name'] for team_dict in rft['teams']]"
   ]
  },
  {
   "cell_type": "code",
   "execution_count": 11,
   "metadata": {
    "collapsed": true
   },
   "outputs": [],
   "source": [
    "def date_reader(date_string):\n",
    "    rem = re.match(r'\\d{4}-\\d{2}-\\d{2}', date_string)\n",
    "    return rem.group(0)\n",
    "\n",
    "list_of_fixtures = rff.get('fixtures')\n",
    "\n",
    "with open('scoresheet.csv', 'wt') as file:\n",
    "    writer = csv.writer(file)\n",
    "    writer.writerow(('Date', 'Home Team', 'Home Score', 'Away Score', 'Away Team'))\n",
    "    for fixture in list_of_fixtures:\n",
    "        if fixture['status'] == 'FINISHED':\n",
    "            scores = fixture['result']\n",
    "            writer.writerow((\n",
    "                date_reader(fixture['date']),\n",
    "                fixture['homeTeamName'],\n",
    "                scores['goalsHomeTeam'],\n",
    "                scores['goalsAwayTeam'],\n",
    "                fixture['awayTeamName'],\n",
    "            ))"
   ]
  },
  {
   "cell_type": "code",
   "execution_count": 12,
   "metadata": {
    "collapsed": true
   },
   "outputs": [],
   "source": [
    "df = pd.read_csv('scoresheet.csv')"
   ]
  },
  {
   "cell_type": "code",
   "execution_count": 13,
   "metadata": {
    "collapsed": true
   },
   "outputs": [],
   "source": [
    "df['Date'] = pd.to_datetime(df['Date'])"
   ]
  },
  {
   "cell_type": "code",
   "execution_count": 14,
   "metadata": {
    "collapsed": true
   },
   "outputs": [],
   "source": [
    "total_games = df.shape[0]\n",
    "\n",
    "league_average_home_goals_scored = df['Home Score'].sum() / total_games\n",
    "league_average_away_goals_scored = df['Away Score'].sum() / total_games\n",
    "league_average_goals_conceded_at_home = league_average_away_goals_scored\n",
    "league_average_goals_conceded_at_away = league_average_home_goals_scored\n",
    "\n",
    "team_strengths = {}\n",
    "\n",
    "for team in team_names:\n",
    "    team_home_matches = df[df['Home Team'] == team]\n",
    "    team_home_games = team_home_matches.shape[0]\n",
    "    \n",
    "    if not team_home_matches.empty:\n",
    "        team_home_goals = team_home_matches['Home Score'].sum()\n",
    "        if team_home_goals:\n",
    "            home_attack_strength = (\n",
    "                team_home_goals / team_home_games\n",
    "            ) / league_average_home_goals_scored\n",
    "        else:\n",
    "            home_attack_strength = 1\n",
    "        team_home_conceded = team_home_matches['Away Score'].sum()\n",
    "        if team_home_conceded:\n",
    "            home_defence_strength = (\n",
    "                team_home_conceded / team_home_games\n",
    "            ) / league_average_goals_conceded_at_home\n",
    "        else:\n",
    "            home_defence_strength = 1\n",
    "    else:\n",
    "        home_attack_strength = 1\n",
    "        home_defence_strength = 1\n",
    "    \n",
    "    team_away_matches = df[df['Away Team'] == team]\n",
    "    team_away_games = team_away_matches.shape[0]\n",
    "    \n",
    "    if not team_away_matches.empty:\n",
    "        team_away_goals = team_away_matches['Away Score'].sum()\n",
    "        if team_away_goals:\n",
    "            away_attack_strength = (\n",
    "                team_away_goals / team_away_games\n",
    "            ) / league_average_away_goals_scored\n",
    "        else:\n",
    "            away_attack_strength = 1\n",
    "        team_away_conceded = team_away_matches['Home Score'].sum()\n",
    "        if team_away_conceded:\n",
    "            away_defence_strength = (\n",
    "                team_away_conceded / team_away_games\n",
    "            ) / league_average_goals_conceded_at_away\n",
    "        else:\n",
    "            away_defence_strength = 1\n",
    "    else:\n",
    "        away_attack_strength = 1\n",
    "        away_defence_strength = 1\n",
    "        \n",
    "    team_strengths.update({team: {\n",
    "        'home_attack': home_attack_strength,\n",
    "        'home_defence': home_defence_strength,\n",
    "        'away_attack': away_attack_strength,\n",
    "        'away_defence': away_defence_strength\n",
    "    }})"
   ]
  },
  {
   "cell_type": "code",
   "execution_count": 15,
   "metadata": {
    "collapsed": true
   },
   "outputs": [],
   "source": [
    "def poisson_goals(goals, mu):\n",
    "    return ( mu ** goals * math.e ** -mu ) / math.factorial(goals)"
   ]
  },
  {
   "cell_type": "code",
   "execution_count": 16,
   "metadata": {
    "collapsed": true
   },
   "outputs": [],
   "source": [
    "def teams_data_tuple(teamHome, teamAway):\n",
    "    teamHomeAttack = team_strengths[teamHome]['home_attack']\n",
    "    teamAwayAttack = team_strengths[teamAway]['away_attack']\n",
    "    teamHomeDefence = team_strengths[teamHome]['home_defence']\n",
    "    teamAwayDefence = team_strengths[teamAway]['away_defence']\n",
    "    \n",
    "    return teamHomeAttack, teamAwayAttack, teamHomeDefence, teamAwayDefence"
   ]
  },
  {
   "cell_type": "code",
   "execution_count": 17,
   "metadata": {
    "collapsed": true
   },
   "outputs": [],
   "source": [
    "def table_strengths(strengths_dict):\n",
    "    table_data = [\n",
    "        ['Team', 'Home Attack', 'Home Defence', 'Away Attack', 'Away Defence'],\n",
    "    ]\n",
    "    table_data.append(\n",
    "        [\n",
    "            'League Average', round(league_average_home_goals_scored, 5), round(league_average_goals_conceded_at_home, 5),\n",
    "            round(league_average_away_goals_scored, 5), round(league_average_goals_conceded_at_away, 5),\n",
    "        ]\n",
    "    )\n",
    "    for key, value in strengths_dict.items():\n",
    "        table_data.append(\n",
    "            [key, round(value['home_attack'], 5), round(value['home_defence'], 5), round(value['away_attack'], 5), round(value['away_defence'], 5)]\n",
    "        )\n",
    "    table = ff.create_table(table_data)\n",
    "    iplot(table)"
   ]
  },
  {
   "cell_type": "code",
   "execution_count": 18,
   "metadata": {
    "collapsed": true
   },
   "outputs": [],
   "source": [
    "def match_prediction(home_team, away_team):\n",
    "\n",
    "    home_at, away_at, home_def, away_def = teams_data_tuple(home_team, away_team)\n",
    "    \n",
    "    home_team_goals = home_at * away_def * league_average_home_goals_scored\n",
    "    away_team_goals = away_at * home_def * league_average_away_goals_scored\n",
    "    \n",
    "    scores_tuple = [[h, a] for h in range(0, 11) for a in range(0, 11)]\n",
    "    for result in scores_tuple:\n",
    "        result.append(\n",
    "            poisson_goals(result[0], home_team_goals) * poisson_goals(result[1], away_team_goals)\n",
    "        )\n",
    "\n",
    "    short_home = home_team.split()[0]\n",
    "    short_away = away_team.split()[0]\n",
    "        \n",
    "    home_win = 0\n",
    "    for prediction in scores_tuple:\n",
    "        if prediction[0] > prediction[1]:\n",
    "            home_win += prediction[2]\n",
    "        \n",
    "    away_win = 0\n",
    "    for prediction in scores_tuple:\n",
    "        if prediction[0] < prediction[1]:\n",
    "            away_win += prediction[2]\n",
    "            \n",
    "    draw = 0\n",
    "    for prediction in scores_tuple:\n",
    "        if prediction[0] == prediction[1]:\n",
    "            draw += prediction[2]\n",
    "    \n",
    "    scores_tuple.sort(key=lambda x: x[2], reverse=True)\n",
    "    most_likely = scores_tuple[0]\n",
    "    \n",
    "    table_wld = [\n",
    "        [\"Result\", \"Probability\"],\n",
    "        [\"{} Win\".format(short_home), home_win],\n",
    "        [\"{} Win\".format(short_away), away_win],\n",
    "        [\"Draw\", draw],\n",
    "        [\"Most Probable Score: {} - {}\".format(\n",
    "            most_likely[0], most_likely[1]\n",
    "            ), most_likely[2]\n",
    "        ]\n",
    "    ]\n",
    "\n",
    "    table_wld = ff.create_table(table_wld)\n",
    "    iplot(table_wld)"
   ]
  },
  {
   "cell_type": "code",
   "execution_count": 19,
   "metadata": {
    "collapsed": true
   },
   "outputs": [],
   "source": [
    "def match_plot(teamA, teamB):\n",
    "    home_at, away_at, home_def, away_def = teams_data_tuple(teamA, teamB)\n",
    "    goals = np.arange(0, 11)\n",
    "    home_team_goals = home_at * away_def * league_average_home_goals_scored\n",
    "    away_team_goals = away_at * home_def * league_average_away_goals_scored\n",
    "    h_plot = Scatter(\n",
    "        x = goals,\n",
    "        y = np.array([poisson_goals(i, home_team_goals) for i in goals]),\n",
    "        mode = 'lines',\n",
    "        name = teamA,\n",
    "    )\n",
    "    a_plot = Scatter(\n",
    "        x = goals,\n",
    "        y = np.array([poisson_goals(i, away_team_goals) for i in goals]),\n",
    "        mode = 'lines',\n",
    "        name = teamB,\n",
    "    )\n",
    "    data = [h_plot, a_plot]\n",
    "    iplot(data)"
   ]
  },
  {
   "cell_type": "code",
   "execution_count": 20,
   "metadata": {
    "collapsed": true
   },
   "outputs": [],
   "source": [
    "def implied_probability(numerator, denominator):\n",
    "    return denominator / (numerator + denominator)"
   ]
  },
  {
   "cell_type": "code",
   "execution_count": 21,
   "metadata": {},
   "outputs": [
    {
     "data": {
      "text/html": [
       "<div>\n",
       "<style>\n",
       "    .dataframe thead tr:only-child th {\n",
       "        text-align: right;\n",
       "    }\n",
       "\n",
       "    .dataframe thead th {\n",
       "        text-align: left;\n",
       "    }\n",
       "\n",
       "    .dataframe tbody tr th {\n",
       "        vertical-align: top;\n",
       "    }\n",
       "</style>\n",
       "<table border=\"1\" class=\"dataframe\">\n",
       "  <thead>\n",
       "    <tr style=\"text-align: right;\">\n",
       "      <th></th>\n",
       "      <th>Date</th>\n",
       "      <th>Home Team</th>\n",
       "      <th>Home Score</th>\n",
       "      <th>Away Score</th>\n",
       "      <th>Away Team</th>\n",
       "    </tr>\n",
       "  </thead>\n",
       "  <tbody>\n",
       "    <tr>\n",
       "      <th>350</th>\n",
       "      <td>2018-04-28</td>\n",
       "      <td>Swansea City FC</td>\n",
       "      <td>0</td>\n",
       "      <td>1</td>\n",
       "      <td>Chelsea FC</td>\n",
       "    </tr>\n",
       "    <tr>\n",
       "      <th>351</th>\n",
       "      <td>2018-04-29</td>\n",
       "      <td>West Ham United FC</td>\n",
       "      <td>1</td>\n",
       "      <td>4</td>\n",
       "      <td>Manchester City FC</td>\n",
       "    </tr>\n",
       "    <tr>\n",
       "      <th>352</th>\n",
       "      <td>2018-04-29</td>\n",
       "      <td>Manchester United FC</td>\n",
       "      <td>2</td>\n",
       "      <td>1</td>\n",
       "      <td>Arsenal FC</td>\n",
       "    </tr>\n",
       "    <tr>\n",
       "      <th>353</th>\n",
       "      <td>2018-04-30</td>\n",
       "      <td>Tottenham Hotspur FC</td>\n",
       "      <td>2</td>\n",
       "      <td>0</td>\n",
       "      <td>Watford FC</td>\n",
       "    </tr>\n",
       "    <tr>\n",
       "      <th>354</th>\n",
       "      <td>2018-05-04</td>\n",
       "      <td>Brighton &amp; Hove Albion</td>\n",
       "      <td>1</td>\n",
       "      <td>0</td>\n",
       "      <td>Manchester United FC</td>\n",
       "    </tr>\n",
       "    <tr>\n",
       "      <th>355</th>\n",
       "      <td>2018-05-05</td>\n",
       "      <td>Stoke City FC</td>\n",
       "      <td>1</td>\n",
       "      <td>2</td>\n",
       "      <td>Crystal Palace FC</td>\n",
       "    </tr>\n",
       "    <tr>\n",
       "      <th>356</th>\n",
       "      <td>2018-05-05</td>\n",
       "      <td>AFC Bournemouth</td>\n",
       "      <td>1</td>\n",
       "      <td>0</td>\n",
       "      <td>Swansea City FC</td>\n",
       "    </tr>\n",
       "    <tr>\n",
       "      <th>357</th>\n",
       "      <td>2018-05-05</td>\n",
       "      <td>Watford FC</td>\n",
       "      <td>2</td>\n",
       "      <td>1</td>\n",
       "      <td>Newcastle United FC</td>\n",
       "    </tr>\n",
       "    <tr>\n",
       "      <th>358</th>\n",
       "      <td>2018-05-05</td>\n",
       "      <td>West Bromwich Albion FC</td>\n",
       "      <td>1</td>\n",
       "      <td>0</td>\n",
       "      <td>Tottenham Hotspur FC</td>\n",
       "    </tr>\n",
       "    <tr>\n",
       "      <th>359</th>\n",
       "      <td>2018-05-05</td>\n",
       "      <td>Leicester City FC</td>\n",
       "      <td>0</td>\n",
       "      <td>2</td>\n",
       "      <td>West Ham United FC</td>\n",
       "    </tr>\n",
       "    <tr>\n",
       "      <th>360</th>\n",
       "      <td>2018-05-05</td>\n",
       "      <td>Everton FC</td>\n",
       "      <td>1</td>\n",
       "      <td>1</td>\n",
       "      <td>Southampton FC</td>\n",
       "    </tr>\n",
       "    <tr>\n",
       "      <th>361</th>\n",
       "      <td>2018-05-06</td>\n",
       "      <td>Manchester City FC</td>\n",
       "      <td>0</td>\n",
       "      <td>0</td>\n",
       "      <td>Huddersfield Town</td>\n",
       "    </tr>\n",
       "    <tr>\n",
       "      <th>362</th>\n",
       "      <td>2018-05-06</td>\n",
       "      <td>Arsenal FC</td>\n",
       "      <td>5</td>\n",
       "      <td>0</td>\n",
       "      <td>Burnley FC</td>\n",
       "    </tr>\n",
       "    <tr>\n",
       "      <th>363</th>\n",
       "      <td>2018-05-06</td>\n",
       "      <td>Chelsea FC</td>\n",
       "      <td>1</td>\n",
       "      <td>0</td>\n",
       "      <td>Liverpool FC</td>\n",
       "    </tr>\n",
       "    <tr>\n",
       "      <th>364</th>\n",
       "      <td>2018-05-08</td>\n",
       "      <td>Swansea City FC</td>\n",
       "      <td>0</td>\n",
       "      <td>1</td>\n",
       "      <td>Southampton FC</td>\n",
       "    </tr>\n",
       "    <tr>\n",
       "      <th>365</th>\n",
       "      <td>2018-05-09</td>\n",
       "      <td>Chelsea FC</td>\n",
       "      <td>1</td>\n",
       "      <td>1</td>\n",
       "      <td>Huddersfield Town</td>\n",
       "    </tr>\n",
       "    <tr>\n",
       "      <th>366</th>\n",
       "      <td>2018-05-09</td>\n",
       "      <td>Leicester City FC</td>\n",
       "      <td>3</td>\n",
       "      <td>1</td>\n",
       "      <td>Arsenal FC</td>\n",
       "    </tr>\n",
       "    <tr>\n",
       "      <th>367</th>\n",
       "      <td>2018-05-09</td>\n",
       "      <td>Manchester City FC</td>\n",
       "      <td>3</td>\n",
       "      <td>1</td>\n",
       "      <td>Brighton &amp; Hove Albion</td>\n",
       "    </tr>\n",
       "    <tr>\n",
       "      <th>368</th>\n",
       "      <td>2018-05-09</td>\n",
       "      <td>Tottenham Hotspur FC</td>\n",
       "      <td>1</td>\n",
       "      <td>0</td>\n",
       "      <td>Newcastle United FC</td>\n",
       "    </tr>\n",
       "    <tr>\n",
       "      <th>369</th>\n",
       "      <td>2018-05-10</td>\n",
       "      <td>West Ham United FC</td>\n",
       "      <td>0</td>\n",
       "      <td>0</td>\n",
       "      <td>Manchester United FC</td>\n",
       "    </tr>\n",
       "  </tbody>\n",
       "</table>\n",
       "</div>"
      ],
      "text/plain": [
       "          Date                Home Team  Home Score  Away Score  \\\n",
       "350 2018-04-28          Swansea City FC           0           1   \n",
       "351 2018-04-29       West Ham United FC           1           4   \n",
       "352 2018-04-29     Manchester United FC           2           1   \n",
       "353 2018-04-30     Tottenham Hotspur FC           2           0   \n",
       "354 2018-05-04   Brighton & Hove Albion           1           0   \n",
       "355 2018-05-05            Stoke City FC           1           2   \n",
       "356 2018-05-05          AFC Bournemouth           1           0   \n",
       "357 2018-05-05               Watford FC           2           1   \n",
       "358 2018-05-05  West Bromwich Albion FC           1           0   \n",
       "359 2018-05-05        Leicester City FC           0           2   \n",
       "360 2018-05-05               Everton FC           1           1   \n",
       "361 2018-05-06       Manchester City FC           0           0   \n",
       "362 2018-05-06               Arsenal FC           5           0   \n",
       "363 2018-05-06               Chelsea FC           1           0   \n",
       "364 2018-05-08          Swansea City FC           0           1   \n",
       "365 2018-05-09               Chelsea FC           1           1   \n",
       "366 2018-05-09        Leicester City FC           3           1   \n",
       "367 2018-05-09       Manchester City FC           3           1   \n",
       "368 2018-05-09     Tottenham Hotspur FC           1           0   \n",
       "369 2018-05-10       West Ham United FC           0           0   \n",
       "\n",
       "                  Away Team  \n",
       "350              Chelsea FC  \n",
       "351      Manchester City FC  \n",
       "352              Arsenal FC  \n",
       "353              Watford FC  \n",
       "354    Manchester United FC  \n",
       "355       Crystal Palace FC  \n",
       "356         Swansea City FC  \n",
       "357     Newcastle United FC  \n",
       "358    Tottenham Hotspur FC  \n",
       "359      West Ham United FC  \n",
       "360          Southampton FC  \n",
       "361       Huddersfield Town  \n",
       "362              Burnley FC  \n",
       "363            Liverpool FC  \n",
       "364          Southampton FC  \n",
       "365       Huddersfield Town  \n",
       "366              Arsenal FC  \n",
       "367  Brighton & Hove Albion  \n",
       "368     Newcastle United FC  \n",
       "369    Manchester United FC  "
      ]
     },
     "execution_count": 21,
     "metadata": {},
     "output_type": "execute_result"
    }
   ],
   "source": [
    "df.tail(20)"
   ]
  },
  {
   "cell_type": "code",
   "execution_count": 22,
   "metadata": {},
   "outputs": [
    {
     "data": {
      "application/vnd.plotly.v1+json": {
       "data": [
        {
         "colorscale": [
          [
           0,
           "#00083e"
          ],
          [
           0.5,
           "#ededee"
          ],
          [
           1,
           "#ffffff"
          ]
         ],
         "hoverinfo": "none",
         "opacity": 0.75,
         "showscale": false,
         "type": "heatmap",
         "z": [
          [
           0,
           0,
           0,
           0,
           0
          ],
          [
           0.5,
           0.5,
           0.5,
           0.5,
           0.5
          ],
          [
           1,
           1,
           1,
           1,
           1
          ],
          [
           0.5,
           0.5,
           0.5,
           0.5,
           0.5
          ],
          [
           1,
           1,
           1,
           1,
           1
          ],
          [
           0.5,
           0.5,
           0.5,
           0.5,
           0.5
          ],
          [
           1,
           1,
           1,
           1,
           1
          ],
          [
           0.5,
           0.5,
           0.5,
           0.5,
           0.5
          ],
          [
           1,
           1,
           1,
           1,
           1
          ],
          [
           0.5,
           0.5,
           0.5,
           0.5,
           0.5
          ],
          [
           1,
           1,
           1,
           1,
           1
          ],
          [
           0.5,
           0.5,
           0.5,
           0.5,
           0.5
          ],
          [
           1,
           1,
           1,
           1,
           1
          ],
          [
           0.5,
           0.5,
           0.5,
           0.5,
           0.5
          ],
          [
           1,
           1,
           1,
           1,
           1
          ],
          [
           0.5,
           0.5,
           0.5,
           0.5,
           0.5
          ],
          [
           1,
           1,
           1,
           1,
           1
          ],
          [
           0.5,
           0.5,
           0.5,
           0.5,
           0.5
          ],
          [
           1,
           1,
           1,
           1,
           1
          ],
          [
           0.5,
           0.5,
           0.5,
           0.5,
           0.5
          ],
          [
           1,
           1,
           1,
           1,
           1
          ],
          [
           0.5,
           0.5,
           0.5,
           0.5,
           0.5
          ]
         ]
        }
       ],
       "layout": {
        "annotations": [
         {
          "align": "left",
          "font": {
           "color": "#ffffff"
          },
          "showarrow": false,
          "text": "<b>Team</b>",
          "x": -0.45,
          "xanchor": "left",
          "xref": "x1",
          "y": 0,
          "yref": "y1"
         },
         {
          "align": "left",
          "font": {
           "color": "#ffffff"
          },
          "showarrow": false,
          "text": "<b>Home Attack</b>",
          "x": 0.55,
          "xanchor": "left",
          "xref": "x1",
          "y": 0,
          "yref": "y1"
         },
         {
          "align": "left",
          "font": {
           "color": "#ffffff"
          },
          "showarrow": false,
          "text": "<b>Home Defence</b>",
          "x": 1.55,
          "xanchor": "left",
          "xref": "x1",
          "y": 0,
          "yref": "y1"
         },
         {
          "align": "left",
          "font": {
           "color": "#ffffff"
          },
          "showarrow": false,
          "text": "<b>Away Attack</b>",
          "x": 2.55,
          "xanchor": "left",
          "xref": "x1",
          "y": 0,
          "yref": "y1"
         },
         {
          "align": "left",
          "font": {
           "color": "#ffffff"
          },
          "showarrow": false,
          "text": "<b>Away Defence</b>",
          "x": 3.55,
          "xanchor": "left",
          "xref": "x1",
          "y": 0,
          "yref": "y1"
         },
         {
          "align": "left",
          "font": {
           "color": "#000000"
          },
          "showarrow": false,
          "text": "League Average",
          "x": -0.45,
          "xanchor": "left",
          "xref": "x1",
          "y": 1,
          "yref": "y1"
         },
         {
          "align": "left",
          "font": {
           "color": "#000000"
          },
          "showarrow": false,
          "text": "1.51892",
          "x": 0.55,
          "xanchor": "left",
          "xref": "x1",
          "y": 1,
          "yref": "y1"
         },
         {
          "align": "left",
          "font": {
           "color": "#000000"
          },
          "showarrow": false,
          "text": "1.14865",
          "x": 1.55,
          "xanchor": "left",
          "xref": "x1",
          "y": 1,
          "yref": "y1"
         },
         {
          "align": "left",
          "font": {
           "color": "#000000"
          },
          "showarrow": false,
          "text": "1.14865",
          "x": 2.55,
          "xanchor": "left",
          "xref": "x1",
          "y": 1,
          "yref": "y1"
         },
         {
          "align": "left",
          "font": {
           "color": "#000000"
          },
          "showarrow": false,
          "text": "1.51892",
          "x": 3.55,
          "xanchor": "left",
          "xref": "x1",
          "y": 1,
          "yref": "y1"
         },
         {
          "align": "left",
          "font": {
           "color": "#000000"
          },
          "showarrow": false,
          "text": "Arsenal FC",
          "x": -0.45,
          "xanchor": "left",
          "xref": "x1",
          "y": 2,
          "yref": "y1"
         },
         {
          "align": "left",
          "font": {
           "color": "#000000"
          },
          "showarrow": false,
          "text": "1.87114",
          "x": 0.55,
          "xanchor": "left",
          "xref": "x1",
          "y": 2,
          "yref": "y1"
         },
         {
          "align": "left",
          "font": {
           "color": "#000000"
          },
          "showarrow": false,
          "text": "0.91641",
          "x": 1.55,
          "xanchor": "left",
          "xref": "x1",
          "y": 2,
          "yref": "y1"
         },
         {
          "align": "left",
          "font": {
           "color": "#000000"
          },
          "showarrow": false,
          "text": "0.91895",
          "x": 2.55,
          "xanchor": "left",
          "xref": "x1",
          "y": 2,
          "yref": "y1"
         },
         {
          "align": "left",
          "font": {
           "color": "#000000"
          },
          "showarrow": false,
          "text": "1.13385",
          "x": 3.55,
          "xanchor": "left",
          "xref": "x1",
          "y": 2,
          "yref": "y1"
         },
         {
          "align": "left",
          "font": {
           "color": "#000000"
          },
          "showarrow": false,
          "text": "Tottenham Hotspur FC",
          "x": -0.45,
          "xanchor": "left",
          "xref": "x1",
          "y": 3,
          "yref": "y1"
         },
         {
          "align": "left",
          "font": {
           "color": "#000000"
          },
          "showarrow": false,
          "text": "1.28015",
          "x": 0.55,
          "xanchor": "left",
          "xref": "x1",
          "y": 3,
          "yref": "y1"
         },
         {
          "align": "left",
          "font": {
           "color": "#000000"
          },
          "showarrow": false,
          "text": "0.58039",
          "x": 1.55,
          "xanchor": "left",
          "xref": "x1",
          "y": 3,
          "yref": "y1"
         },
         {
          "align": "left",
          "font": {
           "color": "#000000"
          },
          "showarrow": false,
          "text": "1.55789",
          "x": 2.55,
          "xanchor": "left",
          "xref": "x1",
          "y": 3,
          "yref": "y1"
         },
         {
          "align": "left",
          "font": {
           "color": "#000000"
          },
          "showarrow": false,
          "text": "0.69301",
          "x": 3.55,
          "xanchor": "left",
          "xref": "x1",
          "y": 3,
          "yref": "y1"
         },
         {
          "align": "left",
          "font": {
           "color": "#000000"
          },
          "showarrow": false,
          "text": "Liverpool FC",
          "x": -0.45,
          "xanchor": "left",
          "xref": "x1",
          "y": 4,
          "yref": "y1"
         },
         {
          "align": "left",
          "font": {
           "color": "#000000"
          },
          "showarrow": false,
          "text": "1.4996",
          "x": 0.55,
          "xanchor": "left",
          "xref": "x1",
          "y": 4,
          "yref": "y1"
         },
         {
          "align": "left",
          "font": {
           "color": "#000000"
          },
          "showarrow": false,
          "text": "0.48366",
          "x": 1.55,
          "xanchor": "left",
          "xref": "x1",
          "y": 4,
          "yref": "y1"
         },
         {
          "align": "left",
          "font": {
           "color": "#000000"
          },
          "showarrow": false,
          "text": "1.787",
          "x": 2.55,
          "xanchor": "left",
          "xref": "x1",
          "y": 4,
          "yref": "y1"
         },
         {
          "align": "left",
          "font": {
           "color": "#000000"
          },
          "showarrow": false,
          "text": "0.97022",
          "x": 3.55,
          "xanchor": "left",
          "xref": "x1",
          "y": 4,
          "yref": "y1"
         },
         {
          "align": "left",
          "font": {
           "color": "#000000"
          },
          "showarrow": false,
          "text": "Southampton FC",
          "x": -0.45,
          "xanchor": "left",
          "xref": "x1",
          "y": 5,
          "yref": "y1"
         },
         {
          "align": "left",
          "font": {
           "color": "#000000"
          },
          "showarrow": false,
          "text": "0.73151",
          "x": 0.55,
          "xanchor": "left",
          "xref": "x1",
          "y": 5,
          "yref": "y1"
         },
         {
          "align": "left",
          "font": {
           "color": "#000000"
          },
          "showarrow": false,
          "text": "1.20915",
          "x": 1.55,
          "xanchor": "left",
          "xref": "x1",
          "y": 5,
          "yref": "y1"
         },
         {
          "align": "left",
          "font": {
           "color": "#000000"
          },
          "showarrow": false,
          "text": "0.77895",
          "x": 2.55,
          "xanchor": "left",
          "xref": "x1",
          "y": 5,
          "yref": "y1"
         },
         {
          "align": "left",
          "font": {
           "color": "#000000"
          },
          "showarrow": false,
          "text": "1.03952",
          "x": 3.55,
          "xanchor": "left",
          "xref": "x1",
          "y": 5,
          "yref": "y1"
         },
         {
          "align": "left",
          "font": {
           "color": "#000000"
          },
          "showarrow": false,
          "text": "Stoke City FC",
          "x": -0.45,
          "xanchor": "left",
          "xref": "x1",
          "y": 6,
          "yref": "y1"
         },
         {
          "align": "left",
          "font": {
           "color": "#000000"
          },
          "showarrow": false,
          "text": "0.69301",
          "x": 0.55,
          "xanchor": "left",
          "xref": "x1",
          "y": 6,
          "yref": "y1"
         },
         {
          "align": "left",
          "font": {
           "color": "#000000"
          },
          "showarrow": false,
          "text": "1.37461",
          "x": 1.55,
          "xanchor": "left",
          "xref": "x1",
          "y": 6,
          "yref": "y1"
         },
         {
          "align": "left",
          "font": {
           "color": "#000000"
          },
          "showarrow": false,
          "text": "0.62876",
          "x": 2.55,
          "xanchor": "left",
          "xref": "x1",
          "y": 6,
          "yref": "y1"
         },
         {
          "align": "left",
          "font": {
           "color": "#000000"
          },
          "showarrow": false,
          "text": "1.3533",
          "x": 3.55,
          "xanchor": "left",
          "xref": "x1",
          "y": 6,
          "yref": "y1"
         },
         {
          "align": "left",
          "font": {
           "color": "#000000"
          },
          "showarrow": false,
          "text": "Everton FC",
          "x": -0.45,
          "xanchor": "left",
          "xref": "x1",
          "y": 7,
          "yref": "y1"
         },
         {
          "align": "left",
          "font": {
           "color": "#000000"
          },
          "showarrow": false,
          "text": "0.97022",
          "x": 0.55,
          "xanchor": "left",
          "xref": "x1",
          "y": 7,
          "yref": "y1"
         },
         {
          "align": "left",
          "font": {
           "color": "#000000"
          },
          "showarrow": false,
          "text": "1.00805",
          "x": 1.55,
          "xanchor": "left",
          "xref": "x1",
          "y": 7,
          "yref": "y1"
         },
         {
          "align": "left",
          "font": {
           "color": "#000000"
          },
          "showarrow": false,
          "text": "0.72549",
          "x": 2.55,
          "xanchor": "left",
          "xref": "x1",
          "y": 7,
          "yref": "y1"
         },
         {
          "align": "left",
          "font": {
           "color": "#000000"
          },
          "showarrow": false,
          "text": "1.207",
          "x": 3.55,
          "xanchor": "left",
          "xref": "x1",
          "y": 7,
          "yref": "y1"
         },
         {
          "align": "left",
          "font": {
           "color": "#000000"
          },
          "showarrow": false,
          "text": "Huddersfield Town",
          "x": -0.45,
          "xanchor": "left",
          "xref": "x1",
          "y": 8,
          "yref": "y1"
         },
         {
          "align": "left",
          "font": {
           "color": "#000000"
          },
          "showarrow": false,
          "text": "0.58521",
          "x": 0.55,
          "xanchor": "left",
          "xref": "x1",
          "y": 8,
          "yref": "y1"
         },
         {
          "align": "left",
          "font": {
           "color": "#000000"
          },
          "showarrow": false,
          "text": "1.16078",
          "x": 1.55,
          "xanchor": "left",
          "xref": "x1",
          "y": 8,
          "yref": "y1"
         },
         {
          "align": "left",
          "font": {
           "color": "#000000"
          },
          "showarrow": false,
          "text": "0.54985",
          "x": 2.55,
          "xanchor": "left",
          "xref": "x1",
          "y": 8,
          "yref": "y1"
         },
         {
          "align": "left",
          "font": {
           "color": "#000000"
          },
          "showarrow": false,
          "text": "1.14347",
          "x": 3.55,
          "xanchor": "left",
          "xref": "x1",
          "y": 8,
          "yref": "y1"
         },
         {
          "align": "left",
          "font": {
           "color": "#000000"
          },
          "showarrow": false,
          "text": "Leicester City FC",
          "x": -0.45,
          "xanchor": "left",
          "xref": "x1",
          "y": 9,
          "yref": "y1"
         },
         {
          "align": "left",
          "font": {
           "color": "#000000"
          },
          "showarrow": false,
          "text": "0.86627",
          "x": 0.55,
          "xanchor": "left",
          "xref": "x1",
          "y": 9,
          "yref": "y1"
         },
         {
          "align": "left",
          "font": {
           "color": "#000000"
          },
          "showarrow": false,
          "text": "1.00805",
          "x": 1.55,
          "xanchor": "left",
          "xref": "x1",
          "y": 9,
          "yref": "y1"
         },
         {
          "align": "left",
          "font": {
           "color": "#000000"
          },
          "showarrow": false,
          "text": "1.30588",
          "x": 2.55,
          "xanchor": "left",
          "xref": "x1",
          "y": 9,
          "yref": "y1"
         },
         {
          "align": "left",
          "font": {
           "color": "#000000"
          },
          "showarrow": false,
          "text": "1.207",
          "x": 3.55,
          "xanchor": "left",
          "xref": "x1",
          "y": 9,
          "yref": "y1"
         },
         {
          "align": "left",
          "font": {
           "color": "#000000"
          },
          "showarrow": false,
          "text": "Manchester City FC",
          "x": -0.45,
          "xanchor": "left",
          "xref": "x1",
          "y": 10,
          "yref": "y1"
         },
         {
          "align": "left",
          "font": {
           "color": "#000000"
          },
          "showarrow": false,
          "text": "2.11369",
          "x": 0.55,
          "xanchor": "left",
          "xref": "x1",
          "y": 10,
          "yref": "y1"
         },
         {
          "align": "left",
          "font": {
           "color": "#000000"
          },
          "showarrow": false,
          "text": "0.64149",
          "x": 1.55,
          "xanchor": "left",
          "xref": "x1",
          "y": 10,
          "yref": "y1"
         },
         {
          "align": "left",
          "font": {
           "color": "#000000"
          },
          "showarrow": false,
          "text": "2.1281",
          "x": 2.55,
          "xanchor": "left",
          "xref": "x1",
          "y": 10,
          "yref": "y1"
         },
         {
          "align": "left",
          "font": {
           "color": "#000000"
          },
          "showarrow": false,
          "text": "0.47548",
          "x": 3.55,
          "xanchor": "left",
          "xref": "x1",
          "y": 10,
          "yref": "y1"
         },
         {
          "align": "left",
          "font": {
           "color": "#000000"
          },
          "showarrow": false,
          "text": "West Bromwich Albion FC",
          "x": -0.45,
          "xanchor": "left",
          "xref": "x1",
          "y": 11,
          "yref": "y1"
         },
         {
          "align": "left",
          "font": {
           "color": "#000000"
          },
          "showarrow": false,
          "text": "0.72766",
          "x": 0.55,
          "xanchor": "left",
          "xref": "x1",
          "y": 11,
          "yref": "y1"
         },
         {
          "align": "left",
          "font": {
           "color": "#000000"
          },
          "showarrow": false,
          "text": "1.32879",
          "x": 1.55,
          "xanchor": "left",
          "xref": "x1",
          "y": 11,
          "yref": "y1"
         },
         {
          "align": "left",
          "font": {
           "color": "#000000"
          },
          "showarrow": false,
          "text": "0.48366",
          "x": 2.55,
          "xanchor": "left",
          "xref": "x1",
          "y": 11,
          "yref": "y1"
         },
         {
          "align": "left",
          "font": {
           "color": "#000000"
          },
          "showarrow": false,
          "text": "0.91439",
          "x": 3.55,
          "xanchor": "left",
          "xref": "x1",
          "y": 11,
          "yref": "y1"
         },
         {
          "align": "left",
          "font": {
           "color": "#000000"
          },
          "showarrow": false,
          "text": "Burnley FC",
          "x": -0.45,
          "xanchor": "left",
          "xref": "x1",
          "y": 12,
          "yref": "y1"
         },
         {
          "align": "left",
          "font": {
           "color": "#000000"
          },
          "showarrow": false,
          "text": "0.54864",
          "x": 0.55,
          "xanchor": "left",
          "xref": "x1",
          "y": 12,
          "yref": "y1"
         },
         {
          "align": "left",
          "font": {
           "color": "#000000"
          },
          "showarrow": false,
          "text": "0.72549",
          "x": 1.55,
          "xanchor": "left",
          "xref": "x1",
          "y": 12,
          "yref": "y1"
         },
         {
          "align": "left",
          "font": {
           "color": "#000000"
          },
          "showarrow": false,
          "text": "0.91641",
          "x": 2.55,
          "xanchor": "left",
          "xref": "x1",
          "y": 12,
          "yref": "y1"
         },
         {
          "align": "left",
          "font": {
           "color": "#000000"
          },
          "showarrow": false,
          "text": "0.76232",
          "x": 3.55,
          "xanchor": "left",
          "xref": "x1",
          "y": 12,
          "yref": "y1"
         },
         {
          "align": "left",
          "font": {
           "color": "#000000"
          },
          "showarrow": false,
          "text": "Chelsea FC",
          "x": -0.45,
          "xanchor": "left",
          "xref": "x1",
          "y": 13,
          "yref": "y1"
         },
         {
          "align": "left",
          "font": {
           "color": "#000000"
          },
          "showarrow": false,
          "text": "1.03952",
          "x": 0.55,
          "xanchor": "left",
          "xref": "x1",
          "y": 13,
          "yref": "y1"
         },
         {
          "align": "left",
          "font": {
           "color": "#000000"
          },
          "showarrow": false,
          "text": "0.73313",
          "x": 1.55,
          "xanchor": "left",
          "xref": "x1",
          "y": 13,
          "yref": "y1"
         },
         {
          "align": "left",
          "font": {
           "color": "#000000"
          },
          "showarrow": false,
          "text": "1.54771",
          "x": 2.55,
          "xanchor": "left",
          "xref": "x1",
          "y": 13,
          "yref": "y1"
         },
         {
          "align": "left",
          "font": {
           "color": "#000000"
          },
          "showarrow": false,
          "text": "0.69494",
          "x": 3.55,
          "xanchor": "left",
          "xref": "x1",
          "y": 13,
          "yref": "y1"
         },
         {
          "align": "left",
          "font": {
           "color": "#000000"
          },
          "showarrow": false,
          "text": "Watford FC",
          "x": -0.45,
          "xanchor": "left",
          "xref": "x1",
          "y": 14,
          "yref": "y1"
         },
         {
          "align": "left",
          "font": {
           "color": "#000000"
          },
          "showarrow": false,
          "text": "0.93557",
          "x": 0.55,
          "xanchor": "left",
          "xref": "x1",
          "y": 14,
          "yref": "y1"
         },
         {
          "align": "left",
          "font": {
           "color": "#000000"
          },
          "showarrow": false,
          "text": "1.42043",
          "x": 1.55,
          "xanchor": "left",
          "xref": "x1",
          "y": 14,
          "yref": "y1"
         },
         {
          "align": "left",
          "font": {
           "color": "#000000"
          },
          "showarrow": false,
          "text": "0.82222",
          "x": 2.55,
          "xanchor": "left",
          "xref": "x1",
          "y": 14,
          "yref": "y1"
         },
         {
          "align": "left",
          "font": {
           "color": "#000000"
          },
          "showarrow": false,
          "text": "1.17042",
          "x": 3.55,
          "xanchor": "left",
          "xref": "x1",
          "y": 14,
          "yref": "y1"
         },
         {
          "align": "left",
          "font": {
           "color": "#000000"
          },
          "showarrow": false,
          "text": "Newcastle United FC",
          "x": -0.45,
          "xanchor": "left",
          "xref": "x1",
          "y": 15,
          "yref": "y1"
         },
         {
          "align": "left",
          "font": {
           "color": "#000000"
          },
          "showarrow": false,
          "text": "0.65836",
          "x": 0.55,
          "xanchor": "left",
          "xref": "x1",
          "y": 15,
          "yref": "y1"
         },
         {
          "align": "left",
          "font": {
           "color": "#000000"
          },
          "showarrow": false,
          "text": "0.82222",
          "x": 1.55,
          "xanchor": "left",
          "xref": "x1",
          "y": 15,
          "yref": "y1"
         },
         {
          "align": "left",
          "font": {
           "color": "#000000"
          },
          "showarrow": false,
          "text": "0.82477",
          "x": 2.55,
          "xanchor": "left",
          "xref": "x1",
          "y": 15,
          "yref": "y1"
         },
         {
          "align": "left",
          "font": {
           "color": "#000000"
          },
          "showarrow": false,
          "text": "1.03952",
          "x": 3.55,
          "xanchor": "left",
          "xref": "x1",
          "y": 15,
          "yref": "y1"
         },
         {
          "align": "left",
          "font": {
           "color": "#000000"
          },
          "showarrow": false,
          "text": "Swansea City FC",
          "x": -0.45,
          "xanchor": "left",
          "xref": "x1",
          "y": 16,
          "yref": "y1"
         },
         {
          "align": "left",
          "font": {
           "color": "#000000"
          },
          "showarrow": false,
          "text": "0.58521",
          "x": 0.55,
          "xanchor": "left",
          "xref": "x1",
          "y": 16,
          "yref": "y1"
         },
         {
          "align": "left",
          "font": {
           "color": "#000000"
          },
          "showarrow": false,
          "text": "1.06405",
          "x": 1.55,
          "xanchor": "left",
          "xref": "x1",
          "y": 16,
          "yref": "y1"
         },
         {
          "align": "left",
          "font": {
           "color": "#000000"
          },
          "showarrow": false,
          "text": "0.50402",
          "x": 2.55,
          "xanchor": "left",
          "xref": "x1",
          "y": 16,
          "yref": "y1"
         },
         {
          "align": "left",
          "font": {
           "color": "#000000"
          },
          "showarrow": false,
          "text": "1.10882",
          "x": 3.55,
          "xanchor": "left",
          "xref": "x1",
          "y": 16,
          "yref": "y1"
         },
         {
          "align": "left",
          "font": {
           "color": "#000000"
          },
          "showarrow": false,
          "text": "AFC Bournemouth",
          "x": -0.45,
          "xanchor": "left",
          "xref": "x1",
          "y": 17,
          "yref": "y1"
         },
         {
          "align": "left",
          "font": {
           "color": "#000000"
          },
          "showarrow": false,
          "text": "0.90092",
          "x": 0.55,
          "xanchor": "left",
          "xref": "x1",
          "y": 17,
          "yref": "y1"
         },
         {
          "align": "left",
          "font": {
           "color": "#000000"
          },
          "showarrow": false,
          "text": "1.37461",
          "x": 1.55,
          "xanchor": "left",
          "xref": "x1",
          "y": 17,
          "yref": "y1"
         },
         {
          "align": "left",
          "font": {
           "color": "#000000"
          },
          "showarrow": false,
          "text": "0.82222",
          "x": 2.55,
          "xanchor": "left",
          "xref": "x1",
          "y": 17,
          "yref": "y1"
         },
         {
          "align": "left",
          "font": {
           "color": "#000000"
          },
          "showarrow": false,
          "text": "1.09727",
          "x": 3.55,
          "xanchor": "left",
          "xref": "x1",
          "y": 17,
          "yref": "y1"
         },
         {
          "align": "left",
          "font": {
           "color": "#000000"
          },
          "showarrow": false,
          "text": "Crystal Palace FC",
          "x": -0.45,
          "xanchor": "left",
          "xref": "x1",
          "y": 18,
          "yref": "y1"
         },
         {
          "align": "left",
          "font": {
           "color": "#000000"
          },
          "showarrow": false,
          "text": "0.98754",
          "x": 0.55,
          "xanchor": "left",
          "xref": "x1",
          "y": 18,
          "yref": "y1"
         },
         {
          "align": "left",
          "font": {
           "color": "#000000"
          },
          "showarrow": false,
          "text": "1.30588",
          "x": 1.55,
          "xanchor": "left",
          "xref": "x1",
          "y": 18,
          "yref": "y1"
         },
         {
          "align": "left",
          "font": {
           "color": "#000000"
          },
          "showarrow": false,
          "text": "0.73313",
          "x": 2.55,
          "xanchor": "left",
          "xref": "x1",
          "y": 18,
          "yref": "y1"
         },
         {
          "align": "left",
          "font": {
           "color": "#000000"
          },
          "showarrow": false,
          "text": "0.97022",
          "x": 3.55,
          "xanchor": "left",
          "xref": "x1",
          "y": 18,
          "yref": "y1"
         },
         {
          "align": "left",
          "font": {
           "color": "#000000"
          },
          "showarrow": false,
          "text": "West Ham United FC",
          "x": -0.45,
          "xanchor": "left",
          "xref": "x1",
          "y": 19,
          "yref": "y1"
         },
         {
          "align": "left",
          "font": {
           "color": "#000000"
          },
          "showarrow": false,
          "text": "0.76809",
          "x": 0.55,
          "xanchor": "left",
          "xref": "x1",
          "y": 19,
          "yref": "y1"
         },
         {
          "align": "left",
          "font": {
           "color": "#000000"
          },
          "showarrow": false,
          "text": "1.20915",
          "x": 1.55,
          "xanchor": "left",
          "xref": "x1",
          "y": 19,
          "yref": "y1"
         },
         {
          "align": "left",
          "font": {
           "color": "#000000"
          },
          "showarrow": false,
          "text": "1.09969",
          "x": 2.55,
          "xanchor": "left",
          "xref": "x1",
          "y": 19,
          "yref": "y1"
         },
         {
          "align": "left",
          "font": {
           "color": "#000000"
          },
          "showarrow": false,
          "text": "1.45533",
          "x": 3.55,
          "xanchor": "left",
          "xref": "x1",
          "y": 19,
          "yref": "y1"
         },
         {
          "align": "left",
          "font": {
           "color": "#000000"
          },
          "showarrow": false,
          "text": "Brighton & Hove Albion",
          "x": -0.45,
          "xanchor": "left",
          "xref": "x1",
          "y": 20,
          "yref": "y1"
         },
         {
          "align": "left",
          "font": {
           "color": "#000000"
          },
          "showarrow": false,
          "text": "0.83162",
          "x": 0.55,
          "xanchor": "left",
          "xref": "x1",
          "y": 20,
          "yref": "y1"
         },
         {
          "align": "left",
          "font": {
           "color": "#000000"
          },
          "showarrow": false,
          "text": "1.14551",
          "x": 1.55,
          "xanchor": "left",
          "xref": "x1",
          "y": 20,
          "yref": "y1"
         },
         {
          "align": "left",
          "font": {
           "color": "#000000"
          },
          "showarrow": false,
          "text": "0.48366",
          "x": 2.55,
          "xanchor": "left",
          "xref": "x1",
          "y": 20,
          "yref": "y1"
         },
         {
          "align": "left",
          "font": {
           "color": "#000000"
          },
          "showarrow": false,
          "text": "0.91439",
          "x": 3.55,
          "xanchor": "left",
          "xref": "x1",
          "y": 20,
          "yref": "y1"
         },
         {
          "align": "left",
          "font": {
           "color": "#000000"
          },
          "showarrow": false,
          "text": "Manchester United FC",
          "x": -0.45,
          "xanchor": "left",
          "xref": "x1",
          "y": 21,
          "yref": "y1"
         },
         {
          "align": "left",
          "font": {
           "color": "#000000"
          },
          "showarrow": false,
          "text": "1.3533",
          "x": 0.55,
          "xanchor": "left",
          "xref": "x1",
          "y": 21,
          "yref": "y1"
         },
         {
          "align": "left",
          "font": {
           "color": "#000000"
          },
          "showarrow": false,
          "text": "0.43529",
          "x": 1.55,
          "xanchor": "left",
          "xref": "x1",
          "y": 21,
          "yref": "y1"
         },
         {
          "align": "left",
          "font": {
           "color": "#000000"
          },
          "showarrow": false,
          "text": "1.37461",
          "x": 2.55,
          "xanchor": "left",
          "xref": "x1",
          "y": 21,
          "yref": "y1"
         },
         {
          "align": "left",
          "font": {
           "color": "#000000"
          },
          "showarrow": false,
          "text": "0.65836",
          "x": 3.55,
          "xanchor": "left",
          "xref": "x1",
          "y": 21,
          "yref": "y1"
         }
        ],
        "height": 710,
        "margin": {
         "b": 0,
         "l": 0,
         "r": 0,
         "t": 0
        },
        "xaxis": {
         "dtick": 1,
         "gridwidth": 2,
         "showticklabels": false,
         "tick0": -0.5,
         "ticks": "",
         "zeroline": false
        },
        "yaxis": {
         "autorange": "reversed",
         "dtick": 1,
         "gridwidth": 2,
         "showticklabels": false,
         "tick0": 0.5,
         "ticks": "",
         "zeroline": false
        }
       }
      },
      "text/html": [
       "<div id=\"4d528173-1a49-4a6e-844a-1258a25c7524\" style=\"height: 710px; width: 100%;\" class=\"plotly-graph-div\"></div><script type=\"text/javascript\">require([\"plotly\"], function(Plotly) { window.PLOTLYENV=window.PLOTLYENV || {};window.PLOTLYENV.BASE_URL=\"https://plot.ly\";Plotly.newPlot(\"4d528173-1a49-4a6e-844a-1258a25c7524\", [{\"hoverinfo\": \"none\", \"z\": [[0, 0, 0, 0, 0], [0.5, 0.5, 0.5, 0.5, 0.5], [1, 1, 1, 1, 1], [0.5, 0.5, 0.5, 0.5, 0.5], [1, 1, 1, 1, 1], [0.5, 0.5, 0.5, 0.5, 0.5], [1, 1, 1, 1, 1], [0.5, 0.5, 0.5, 0.5, 0.5], [1, 1, 1, 1, 1], [0.5, 0.5, 0.5, 0.5, 0.5], [1, 1, 1, 1, 1], [0.5, 0.5, 0.5, 0.5, 0.5], [1, 1, 1, 1, 1], [0.5, 0.5, 0.5, 0.5, 0.5], [1, 1, 1, 1, 1], [0.5, 0.5, 0.5, 0.5, 0.5], [1, 1, 1, 1, 1], [0.5, 0.5, 0.5, 0.5, 0.5], [1, 1, 1, 1, 1], [0.5, 0.5, 0.5, 0.5, 0.5], [1, 1, 1, 1, 1], [0.5, 0.5, 0.5, 0.5, 0.5]], \"showscale\": false, \"opacity\": 0.75, \"type\": \"heatmap\", \"colorscale\": [[0, \"#00083e\"], [0.5, \"#ededee\"], [1, \"#ffffff\"]]}], {\"annotations\": [{\"x\": -0.45, \"showarrow\": false, \"xref\": \"x1\", \"font\": {\"color\": \"#ffffff\"}, \"yref\": \"y1\", \"xanchor\": \"left\", \"text\": \"<b>Team</b>\", \"y\": 0, \"align\": \"left\"}, {\"x\": 0.55, \"showarrow\": false, \"xref\": \"x1\", \"font\": {\"color\": \"#ffffff\"}, \"yref\": \"y1\", \"xanchor\": \"left\", \"text\": \"<b>Home Attack</b>\", \"y\": 0, \"align\": \"left\"}, {\"x\": 1.55, \"showarrow\": false, \"xref\": \"x1\", \"font\": {\"color\": \"#ffffff\"}, \"yref\": \"y1\", \"xanchor\": \"left\", \"text\": \"<b>Home Defence</b>\", \"y\": 0, \"align\": \"left\"}, {\"x\": 2.55, \"showarrow\": false, \"xref\": \"x1\", \"font\": {\"color\": \"#ffffff\"}, \"yref\": \"y1\", \"xanchor\": \"left\", \"text\": \"<b>Away Attack</b>\", \"y\": 0, \"align\": \"left\"}, {\"x\": 3.55, \"showarrow\": false, \"xref\": \"x1\", \"font\": {\"color\": \"#ffffff\"}, \"yref\": \"y1\", \"xanchor\": \"left\", \"text\": \"<b>Away Defence</b>\", \"y\": 0, \"align\": \"left\"}, {\"x\": -0.45, \"showarrow\": false, \"xref\": \"x1\", \"font\": {\"color\": \"#000000\"}, \"yref\": \"y1\", \"xanchor\": \"left\", \"text\": \"League Average\", \"y\": 1, \"align\": \"left\"}, {\"x\": 0.55, \"showarrow\": false, \"xref\": \"x1\", \"font\": {\"color\": \"#000000\"}, \"yref\": \"y1\", \"xanchor\": \"left\", \"text\": \"1.51892\", \"y\": 1, \"align\": \"left\"}, {\"x\": 1.55, \"showarrow\": false, \"xref\": \"x1\", \"font\": {\"color\": \"#000000\"}, \"yref\": \"y1\", \"xanchor\": \"left\", \"text\": \"1.14865\", \"y\": 1, \"align\": \"left\"}, {\"x\": 2.55, \"showarrow\": false, \"xref\": \"x1\", \"font\": {\"color\": \"#000000\"}, \"yref\": \"y1\", \"xanchor\": \"left\", \"text\": \"1.14865\", \"y\": 1, \"align\": \"left\"}, {\"x\": 3.55, \"showarrow\": false, \"xref\": \"x1\", \"font\": {\"color\": \"#000000\"}, \"yref\": \"y1\", \"xanchor\": \"left\", \"text\": \"1.51892\", \"y\": 1, \"align\": \"left\"}, {\"x\": -0.45, \"showarrow\": false, \"xref\": \"x1\", \"font\": {\"color\": \"#000000\"}, \"yref\": \"y1\", \"xanchor\": \"left\", \"text\": \"Arsenal FC\", \"y\": 2, \"align\": \"left\"}, {\"x\": 0.55, \"showarrow\": false, \"xref\": \"x1\", \"font\": {\"color\": \"#000000\"}, \"yref\": \"y1\", \"xanchor\": \"left\", \"text\": \"1.87114\", \"y\": 2, \"align\": \"left\"}, {\"x\": 1.55, \"showarrow\": false, \"xref\": \"x1\", \"font\": {\"color\": \"#000000\"}, \"yref\": \"y1\", \"xanchor\": \"left\", \"text\": \"0.91641\", \"y\": 2, \"align\": \"left\"}, {\"x\": 2.55, \"showarrow\": false, \"xref\": \"x1\", \"font\": {\"color\": \"#000000\"}, \"yref\": \"y1\", \"xanchor\": \"left\", \"text\": \"0.91895\", \"y\": 2, \"align\": \"left\"}, {\"x\": 3.55, \"showarrow\": false, \"xref\": \"x1\", \"font\": {\"color\": \"#000000\"}, \"yref\": \"y1\", \"xanchor\": \"left\", \"text\": \"1.13385\", \"y\": 2, \"align\": \"left\"}, {\"x\": -0.45, \"showarrow\": false, \"xref\": \"x1\", \"font\": {\"color\": \"#000000\"}, \"yref\": \"y1\", \"xanchor\": \"left\", \"text\": \"Tottenham Hotspur FC\", \"y\": 3, \"align\": \"left\"}, {\"x\": 0.55, \"showarrow\": false, \"xref\": \"x1\", \"font\": {\"color\": \"#000000\"}, \"yref\": \"y1\", \"xanchor\": \"left\", \"text\": \"1.28015\", \"y\": 3, \"align\": \"left\"}, {\"x\": 1.55, \"showarrow\": false, \"xref\": \"x1\", \"font\": {\"color\": \"#000000\"}, \"yref\": \"y1\", \"xanchor\": \"left\", \"text\": \"0.58039\", \"y\": 3, \"align\": \"left\"}, {\"x\": 2.55, \"showarrow\": false, \"xref\": \"x1\", \"font\": {\"color\": \"#000000\"}, \"yref\": \"y1\", \"xanchor\": \"left\", \"text\": \"1.55789\", \"y\": 3, \"align\": \"left\"}, {\"x\": 3.55, \"showarrow\": false, \"xref\": \"x1\", \"font\": {\"color\": \"#000000\"}, \"yref\": \"y1\", \"xanchor\": \"left\", \"text\": \"0.69301\", \"y\": 3, \"align\": \"left\"}, {\"x\": -0.45, \"showarrow\": false, \"xref\": \"x1\", \"font\": {\"color\": \"#000000\"}, \"yref\": \"y1\", \"xanchor\": \"left\", \"text\": \"Liverpool FC\", \"y\": 4, \"align\": \"left\"}, {\"x\": 0.55, \"showarrow\": false, \"xref\": \"x1\", \"font\": {\"color\": \"#000000\"}, \"yref\": \"y1\", \"xanchor\": \"left\", \"text\": \"1.4996\", \"y\": 4, \"align\": \"left\"}, {\"x\": 1.55, \"showarrow\": false, \"xref\": \"x1\", \"font\": {\"color\": \"#000000\"}, \"yref\": \"y1\", \"xanchor\": \"left\", \"text\": \"0.48366\", \"y\": 4, \"align\": \"left\"}, {\"x\": 2.55, \"showarrow\": false, \"xref\": \"x1\", \"font\": {\"color\": \"#000000\"}, \"yref\": \"y1\", \"xanchor\": \"left\", \"text\": \"1.787\", \"y\": 4, \"align\": \"left\"}, {\"x\": 3.55, \"showarrow\": false, \"xref\": \"x1\", \"font\": {\"color\": \"#000000\"}, \"yref\": \"y1\", \"xanchor\": \"left\", \"text\": \"0.97022\", \"y\": 4, \"align\": \"left\"}, {\"x\": -0.45, \"showarrow\": false, \"xref\": \"x1\", \"font\": {\"color\": \"#000000\"}, \"yref\": \"y1\", \"xanchor\": \"left\", \"text\": \"Southampton FC\", \"y\": 5, \"align\": \"left\"}, {\"x\": 0.55, \"showarrow\": false, \"xref\": \"x1\", \"font\": {\"color\": \"#000000\"}, \"yref\": \"y1\", \"xanchor\": \"left\", \"text\": \"0.73151\", \"y\": 5, \"align\": \"left\"}, {\"x\": 1.55, \"showarrow\": false, \"xref\": \"x1\", \"font\": {\"color\": \"#000000\"}, \"yref\": \"y1\", \"xanchor\": \"left\", \"text\": \"1.20915\", \"y\": 5, \"align\": \"left\"}, {\"x\": 2.55, \"showarrow\": false, \"xref\": \"x1\", \"font\": {\"color\": \"#000000\"}, \"yref\": \"y1\", \"xanchor\": \"left\", \"text\": \"0.77895\", \"y\": 5, \"align\": \"left\"}, {\"x\": 3.55, \"showarrow\": false, \"xref\": \"x1\", \"font\": {\"color\": \"#000000\"}, \"yref\": \"y1\", \"xanchor\": \"left\", \"text\": \"1.03952\", \"y\": 5, \"align\": \"left\"}, {\"x\": -0.45, \"showarrow\": false, \"xref\": \"x1\", \"font\": {\"color\": \"#000000\"}, \"yref\": \"y1\", \"xanchor\": \"left\", \"text\": \"Stoke City FC\", \"y\": 6, \"align\": \"left\"}, {\"x\": 0.55, \"showarrow\": false, \"xref\": \"x1\", \"font\": {\"color\": \"#000000\"}, \"yref\": \"y1\", \"xanchor\": \"left\", \"text\": \"0.69301\", \"y\": 6, \"align\": \"left\"}, {\"x\": 1.55, \"showarrow\": false, \"xref\": \"x1\", \"font\": {\"color\": \"#000000\"}, \"yref\": \"y1\", \"xanchor\": \"left\", \"text\": \"1.37461\", \"y\": 6, \"align\": \"left\"}, {\"x\": 2.55, \"showarrow\": false, \"xref\": \"x1\", \"font\": {\"color\": \"#000000\"}, \"yref\": \"y1\", \"xanchor\": \"left\", \"text\": \"0.62876\", \"y\": 6, \"align\": \"left\"}, {\"x\": 3.55, \"showarrow\": false, \"xref\": \"x1\", \"font\": {\"color\": \"#000000\"}, \"yref\": \"y1\", \"xanchor\": \"left\", \"text\": \"1.3533\", \"y\": 6, \"align\": \"left\"}, {\"x\": -0.45, \"showarrow\": false, \"xref\": \"x1\", \"font\": {\"color\": \"#000000\"}, \"yref\": \"y1\", \"xanchor\": \"left\", \"text\": \"Everton FC\", \"y\": 7, \"align\": \"left\"}, {\"x\": 0.55, \"showarrow\": false, \"xref\": \"x1\", \"font\": {\"color\": \"#000000\"}, \"yref\": \"y1\", \"xanchor\": \"left\", \"text\": \"0.97022\", \"y\": 7, \"align\": \"left\"}, {\"x\": 1.55, \"showarrow\": false, \"xref\": \"x1\", \"font\": {\"color\": \"#000000\"}, \"yref\": \"y1\", \"xanchor\": \"left\", \"text\": \"1.00805\", \"y\": 7, \"align\": \"left\"}, {\"x\": 2.55, \"showarrow\": false, \"xref\": \"x1\", \"font\": {\"color\": \"#000000\"}, \"yref\": \"y1\", \"xanchor\": \"left\", \"text\": \"0.72549\", \"y\": 7, \"align\": \"left\"}, {\"x\": 3.55, \"showarrow\": false, \"xref\": \"x1\", \"font\": {\"color\": \"#000000\"}, \"yref\": \"y1\", \"xanchor\": \"left\", \"text\": \"1.207\", \"y\": 7, \"align\": \"left\"}, {\"x\": -0.45, \"showarrow\": false, \"xref\": \"x1\", \"font\": {\"color\": \"#000000\"}, \"yref\": \"y1\", \"xanchor\": \"left\", \"text\": \"Huddersfield Town\", \"y\": 8, \"align\": \"left\"}, {\"x\": 0.55, \"showarrow\": false, \"xref\": \"x1\", \"font\": {\"color\": \"#000000\"}, \"yref\": \"y1\", \"xanchor\": \"left\", \"text\": \"0.58521\", \"y\": 8, \"align\": \"left\"}, {\"x\": 1.55, \"showarrow\": false, \"xref\": \"x1\", \"font\": {\"color\": \"#000000\"}, \"yref\": \"y1\", \"xanchor\": \"left\", \"text\": \"1.16078\", \"y\": 8, \"align\": \"left\"}, {\"x\": 2.55, \"showarrow\": false, \"xref\": \"x1\", \"font\": {\"color\": \"#000000\"}, \"yref\": \"y1\", \"xanchor\": \"left\", \"text\": \"0.54985\", \"y\": 8, \"align\": \"left\"}, {\"x\": 3.55, \"showarrow\": false, \"xref\": \"x1\", \"font\": {\"color\": \"#000000\"}, \"yref\": \"y1\", \"xanchor\": \"left\", \"text\": \"1.14347\", \"y\": 8, \"align\": \"left\"}, {\"x\": -0.45, \"showarrow\": false, \"xref\": \"x1\", \"font\": {\"color\": \"#000000\"}, \"yref\": \"y1\", \"xanchor\": \"left\", \"text\": \"Leicester City FC\", \"y\": 9, \"align\": \"left\"}, {\"x\": 0.55, \"showarrow\": false, \"xref\": \"x1\", \"font\": {\"color\": \"#000000\"}, \"yref\": \"y1\", \"xanchor\": \"left\", \"text\": \"0.86627\", \"y\": 9, \"align\": \"left\"}, {\"x\": 1.55, \"showarrow\": false, \"xref\": \"x1\", \"font\": {\"color\": \"#000000\"}, \"yref\": \"y1\", \"xanchor\": \"left\", \"text\": \"1.00805\", \"y\": 9, \"align\": \"left\"}, {\"x\": 2.55, \"showarrow\": false, \"xref\": \"x1\", \"font\": {\"color\": \"#000000\"}, \"yref\": \"y1\", \"xanchor\": \"left\", \"text\": \"1.30588\", \"y\": 9, \"align\": \"left\"}, {\"x\": 3.55, \"showarrow\": false, \"xref\": \"x1\", \"font\": {\"color\": \"#000000\"}, \"yref\": \"y1\", \"xanchor\": \"left\", \"text\": \"1.207\", \"y\": 9, \"align\": \"left\"}, {\"x\": -0.45, \"showarrow\": false, \"xref\": \"x1\", \"font\": {\"color\": \"#000000\"}, \"yref\": \"y1\", \"xanchor\": \"left\", \"text\": \"Manchester City FC\", \"y\": 10, \"align\": \"left\"}, {\"x\": 0.55, \"showarrow\": false, \"xref\": \"x1\", \"font\": {\"color\": \"#000000\"}, \"yref\": \"y1\", \"xanchor\": \"left\", \"text\": \"2.11369\", \"y\": 10, \"align\": \"left\"}, {\"x\": 1.55, \"showarrow\": false, \"xref\": \"x1\", \"font\": {\"color\": \"#000000\"}, \"yref\": \"y1\", \"xanchor\": \"left\", \"text\": \"0.64149\", \"y\": 10, \"align\": \"left\"}, {\"x\": 2.55, \"showarrow\": false, \"xref\": \"x1\", \"font\": {\"color\": \"#000000\"}, \"yref\": \"y1\", \"xanchor\": \"left\", \"text\": \"2.1281\", \"y\": 10, \"align\": \"left\"}, {\"x\": 3.55, \"showarrow\": false, \"xref\": \"x1\", \"font\": {\"color\": \"#000000\"}, \"yref\": \"y1\", \"xanchor\": \"left\", \"text\": \"0.47548\", \"y\": 10, \"align\": \"left\"}, {\"x\": -0.45, \"showarrow\": false, \"xref\": \"x1\", \"font\": {\"color\": \"#000000\"}, \"yref\": \"y1\", \"xanchor\": \"left\", \"text\": \"West Bromwich Albion FC\", \"y\": 11, \"align\": \"left\"}, {\"x\": 0.55, \"showarrow\": false, \"xref\": \"x1\", \"font\": {\"color\": \"#000000\"}, \"yref\": \"y1\", \"xanchor\": \"left\", \"text\": \"0.72766\", \"y\": 11, \"align\": \"left\"}, {\"x\": 1.55, \"showarrow\": false, \"xref\": \"x1\", \"font\": {\"color\": \"#000000\"}, \"yref\": \"y1\", \"xanchor\": \"left\", \"text\": \"1.32879\", \"y\": 11, \"align\": \"left\"}, {\"x\": 2.55, \"showarrow\": false, \"xref\": \"x1\", \"font\": {\"color\": \"#000000\"}, \"yref\": \"y1\", \"xanchor\": \"left\", \"text\": \"0.48366\", \"y\": 11, \"align\": \"left\"}, {\"x\": 3.55, \"showarrow\": false, \"xref\": \"x1\", \"font\": {\"color\": \"#000000\"}, \"yref\": \"y1\", \"xanchor\": \"left\", \"text\": \"0.91439\", \"y\": 11, \"align\": \"left\"}, {\"x\": -0.45, \"showarrow\": false, \"xref\": \"x1\", \"font\": {\"color\": \"#000000\"}, \"yref\": \"y1\", \"xanchor\": \"left\", \"text\": \"Burnley FC\", \"y\": 12, \"align\": \"left\"}, {\"x\": 0.55, \"showarrow\": false, \"xref\": \"x1\", \"font\": {\"color\": \"#000000\"}, \"yref\": \"y1\", \"xanchor\": \"left\", \"text\": \"0.54864\", \"y\": 12, \"align\": \"left\"}, {\"x\": 1.55, \"showarrow\": false, \"xref\": \"x1\", \"font\": {\"color\": \"#000000\"}, \"yref\": \"y1\", \"xanchor\": \"left\", \"text\": \"0.72549\", \"y\": 12, \"align\": \"left\"}, {\"x\": 2.55, \"showarrow\": false, \"xref\": \"x1\", \"font\": {\"color\": \"#000000\"}, \"yref\": \"y1\", \"xanchor\": \"left\", \"text\": \"0.91641\", \"y\": 12, \"align\": \"left\"}, {\"x\": 3.55, \"showarrow\": false, \"xref\": \"x1\", \"font\": {\"color\": \"#000000\"}, \"yref\": \"y1\", \"xanchor\": \"left\", \"text\": \"0.76232\", \"y\": 12, \"align\": \"left\"}, {\"x\": -0.45, \"showarrow\": false, \"xref\": \"x1\", \"font\": {\"color\": \"#000000\"}, \"yref\": \"y1\", \"xanchor\": \"left\", \"text\": \"Chelsea FC\", \"y\": 13, \"align\": \"left\"}, {\"x\": 0.55, \"showarrow\": false, \"xref\": \"x1\", \"font\": {\"color\": \"#000000\"}, \"yref\": \"y1\", \"xanchor\": \"left\", \"text\": \"1.03952\", \"y\": 13, \"align\": \"left\"}, {\"x\": 1.55, \"showarrow\": false, \"xref\": \"x1\", \"font\": {\"color\": \"#000000\"}, \"yref\": \"y1\", \"xanchor\": \"left\", \"text\": \"0.73313\", \"y\": 13, \"align\": \"left\"}, {\"x\": 2.55, \"showarrow\": false, \"xref\": \"x1\", \"font\": {\"color\": \"#000000\"}, \"yref\": \"y1\", \"xanchor\": \"left\", \"text\": \"1.54771\", \"y\": 13, \"align\": \"left\"}, {\"x\": 3.55, \"showarrow\": false, \"xref\": \"x1\", \"font\": {\"color\": \"#000000\"}, \"yref\": \"y1\", \"xanchor\": \"left\", \"text\": \"0.69494\", \"y\": 13, \"align\": \"left\"}, {\"x\": -0.45, \"showarrow\": false, \"xref\": \"x1\", \"font\": {\"color\": \"#000000\"}, \"yref\": \"y1\", \"xanchor\": \"left\", \"text\": \"Watford FC\", \"y\": 14, \"align\": \"left\"}, {\"x\": 0.55, \"showarrow\": false, \"xref\": \"x1\", \"font\": {\"color\": \"#000000\"}, \"yref\": \"y1\", \"xanchor\": \"left\", \"text\": \"0.93557\", \"y\": 14, \"align\": \"left\"}, {\"x\": 1.55, \"showarrow\": false, \"xref\": \"x1\", \"font\": {\"color\": \"#000000\"}, \"yref\": \"y1\", \"xanchor\": \"left\", \"text\": \"1.42043\", \"y\": 14, \"align\": \"left\"}, {\"x\": 2.55, \"showarrow\": false, \"xref\": \"x1\", \"font\": {\"color\": \"#000000\"}, \"yref\": \"y1\", \"xanchor\": \"left\", \"text\": \"0.82222\", \"y\": 14, \"align\": \"left\"}, {\"x\": 3.55, \"showarrow\": false, \"xref\": \"x1\", \"font\": {\"color\": \"#000000\"}, \"yref\": \"y1\", \"xanchor\": \"left\", \"text\": \"1.17042\", \"y\": 14, \"align\": \"left\"}, {\"x\": -0.45, \"showarrow\": false, \"xref\": \"x1\", \"font\": {\"color\": \"#000000\"}, \"yref\": \"y1\", \"xanchor\": \"left\", \"text\": \"Newcastle United FC\", \"y\": 15, \"align\": \"left\"}, {\"x\": 0.55, \"showarrow\": false, \"xref\": \"x1\", \"font\": {\"color\": \"#000000\"}, \"yref\": \"y1\", \"xanchor\": \"left\", \"text\": \"0.65836\", \"y\": 15, \"align\": \"left\"}, {\"x\": 1.55, \"showarrow\": false, \"xref\": \"x1\", \"font\": {\"color\": \"#000000\"}, \"yref\": \"y1\", \"xanchor\": \"left\", \"text\": \"0.82222\", \"y\": 15, \"align\": \"left\"}, {\"x\": 2.55, \"showarrow\": false, \"xref\": \"x1\", \"font\": {\"color\": \"#000000\"}, \"yref\": \"y1\", \"xanchor\": \"left\", \"text\": \"0.82477\", \"y\": 15, \"align\": \"left\"}, {\"x\": 3.55, \"showarrow\": false, \"xref\": \"x1\", \"font\": {\"color\": \"#000000\"}, \"yref\": \"y1\", \"xanchor\": \"left\", \"text\": \"1.03952\", \"y\": 15, \"align\": \"left\"}, {\"x\": -0.45, \"showarrow\": false, \"xref\": \"x1\", \"font\": {\"color\": \"#000000\"}, \"yref\": \"y1\", \"xanchor\": \"left\", \"text\": \"Swansea City FC\", \"y\": 16, \"align\": \"left\"}, {\"x\": 0.55, \"showarrow\": false, \"xref\": \"x1\", \"font\": {\"color\": \"#000000\"}, \"yref\": \"y1\", \"xanchor\": \"left\", \"text\": \"0.58521\", \"y\": 16, \"align\": \"left\"}, {\"x\": 1.55, \"showarrow\": false, \"xref\": \"x1\", \"font\": {\"color\": \"#000000\"}, \"yref\": \"y1\", \"xanchor\": \"left\", \"text\": \"1.06405\", \"y\": 16, \"align\": \"left\"}, {\"x\": 2.55, \"showarrow\": false, \"xref\": \"x1\", \"font\": {\"color\": \"#000000\"}, \"yref\": \"y1\", \"xanchor\": \"left\", \"text\": \"0.50402\", \"y\": 16, \"align\": \"left\"}, {\"x\": 3.55, \"showarrow\": false, \"xref\": \"x1\", \"font\": {\"color\": \"#000000\"}, \"yref\": \"y1\", \"xanchor\": \"left\", \"text\": \"1.10882\", \"y\": 16, \"align\": \"left\"}, {\"x\": -0.45, \"showarrow\": false, \"xref\": \"x1\", \"font\": {\"color\": \"#000000\"}, \"yref\": \"y1\", \"xanchor\": \"left\", \"text\": \"AFC Bournemouth\", \"y\": 17, \"align\": \"left\"}, {\"x\": 0.55, \"showarrow\": false, \"xref\": \"x1\", \"font\": {\"color\": \"#000000\"}, \"yref\": \"y1\", \"xanchor\": \"left\", \"text\": \"0.90092\", \"y\": 17, \"align\": \"left\"}, {\"x\": 1.55, \"showarrow\": false, \"xref\": \"x1\", \"font\": {\"color\": \"#000000\"}, \"yref\": \"y1\", \"xanchor\": \"left\", \"text\": \"1.37461\", \"y\": 17, \"align\": \"left\"}, {\"x\": 2.55, \"showarrow\": false, \"xref\": \"x1\", \"font\": {\"color\": \"#000000\"}, \"yref\": \"y1\", \"xanchor\": \"left\", \"text\": \"0.82222\", \"y\": 17, \"align\": \"left\"}, {\"x\": 3.55, \"showarrow\": false, \"xref\": \"x1\", \"font\": {\"color\": \"#000000\"}, \"yref\": \"y1\", \"xanchor\": \"left\", \"text\": \"1.09727\", \"y\": 17, \"align\": \"left\"}, {\"x\": -0.45, \"showarrow\": false, \"xref\": \"x1\", \"font\": {\"color\": \"#000000\"}, \"yref\": \"y1\", \"xanchor\": \"left\", \"text\": \"Crystal Palace FC\", \"y\": 18, \"align\": \"left\"}, {\"x\": 0.55, \"showarrow\": false, \"xref\": \"x1\", \"font\": {\"color\": \"#000000\"}, \"yref\": \"y1\", \"xanchor\": \"left\", \"text\": \"0.98754\", \"y\": 18, \"align\": \"left\"}, {\"x\": 1.55, \"showarrow\": false, \"xref\": \"x1\", \"font\": {\"color\": \"#000000\"}, \"yref\": \"y1\", \"xanchor\": \"left\", \"text\": \"1.30588\", \"y\": 18, \"align\": \"left\"}, {\"x\": 2.55, \"showarrow\": false, \"xref\": \"x1\", \"font\": {\"color\": \"#000000\"}, \"yref\": \"y1\", \"xanchor\": \"left\", \"text\": \"0.73313\", \"y\": 18, \"align\": \"left\"}, {\"x\": 3.55, \"showarrow\": false, \"xref\": \"x1\", \"font\": {\"color\": \"#000000\"}, \"yref\": \"y1\", \"xanchor\": \"left\", \"text\": \"0.97022\", \"y\": 18, \"align\": \"left\"}, {\"x\": -0.45, \"showarrow\": false, \"xref\": \"x1\", \"font\": {\"color\": \"#000000\"}, \"yref\": \"y1\", \"xanchor\": \"left\", \"text\": \"West Ham United FC\", \"y\": 19, \"align\": \"left\"}, {\"x\": 0.55, \"showarrow\": false, \"xref\": \"x1\", \"font\": {\"color\": \"#000000\"}, \"yref\": \"y1\", \"xanchor\": \"left\", \"text\": \"0.76809\", \"y\": 19, \"align\": \"left\"}, {\"x\": 1.55, \"showarrow\": false, \"xref\": \"x1\", \"font\": {\"color\": \"#000000\"}, \"yref\": \"y1\", \"xanchor\": \"left\", \"text\": \"1.20915\", \"y\": 19, \"align\": \"left\"}, {\"x\": 2.55, \"showarrow\": false, \"xref\": \"x1\", \"font\": {\"color\": \"#000000\"}, \"yref\": \"y1\", \"xanchor\": \"left\", \"text\": \"1.09969\", \"y\": 19, \"align\": \"left\"}, {\"x\": 3.55, \"showarrow\": false, \"xref\": \"x1\", \"font\": {\"color\": \"#000000\"}, \"yref\": \"y1\", \"xanchor\": \"left\", \"text\": \"1.45533\", \"y\": 19, \"align\": \"left\"}, {\"x\": -0.45, \"showarrow\": false, \"xref\": \"x1\", \"font\": {\"color\": \"#000000\"}, \"yref\": \"y1\", \"xanchor\": \"left\", \"text\": \"Brighton & Hove Albion\", \"y\": 20, \"align\": \"left\"}, {\"x\": 0.55, \"showarrow\": false, \"xref\": \"x1\", \"font\": {\"color\": \"#000000\"}, \"yref\": \"y1\", \"xanchor\": \"left\", \"text\": \"0.83162\", \"y\": 20, \"align\": \"left\"}, {\"x\": 1.55, \"showarrow\": false, \"xref\": \"x1\", \"font\": {\"color\": \"#000000\"}, \"yref\": \"y1\", \"xanchor\": \"left\", \"text\": \"1.14551\", \"y\": 20, \"align\": \"left\"}, {\"x\": 2.55, \"showarrow\": false, \"xref\": \"x1\", \"font\": {\"color\": \"#000000\"}, \"yref\": \"y1\", \"xanchor\": \"left\", \"text\": \"0.48366\", \"y\": 20, \"align\": \"left\"}, {\"x\": 3.55, \"showarrow\": false, \"xref\": \"x1\", \"font\": {\"color\": \"#000000\"}, \"yref\": \"y1\", \"xanchor\": \"left\", \"text\": \"0.91439\", \"y\": 20, \"align\": \"left\"}, {\"x\": -0.45, \"showarrow\": false, \"xref\": \"x1\", \"font\": {\"color\": \"#000000\"}, \"yref\": \"y1\", \"xanchor\": \"left\", \"text\": \"Manchester United FC\", \"y\": 21, \"align\": \"left\"}, {\"x\": 0.55, \"showarrow\": false, \"xref\": \"x1\", \"font\": {\"color\": \"#000000\"}, \"yref\": \"y1\", \"xanchor\": \"left\", \"text\": \"1.3533\", \"y\": 21, \"align\": \"left\"}, {\"x\": 1.55, \"showarrow\": false, \"xref\": \"x1\", \"font\": {\"color\": \"#000000\"}, \"yref\": \"y1\", \"xanchor\": \"left\", \"text\": \"0.43529\", \"y\": 21, \"align\": \"left\"}, {\"x\": 2.55, \"showarrow\": false, \"xref\": \"x1\", \"font\": {\"color\": \"#000000\"}, \"yref\": \"y1\", \"xanchor\": \"left\", \"text\": \"1.37461\", \"y\": 21, \"align\": \"left\"}, {\"x\": 3.55, \"showarrow\": false, \"xref\": \"x1\", \"font\": {\"color\": \"#000000\"}, \"yref\": \"y1\", \"xanchor\": \"left\", \"text\": \"0.65836\", \"y\": 21, \"align\": \"left\"}], \"margin\": {\"r\": 0, \"t\": 0, \"b\": 0, \"l\": 0}, \"yaxis\": {\"tick0\": 0.5, \"gridwidth\": 2, \"dtick\": 1, \"ticks\": \"\", \"zeroline\": false, \"showticklabels\": false, \"autorange\": \"reversed\"}, \"xaxis\": {\"tick0\": -0.5, \"gridwidth\": 2, \"dtick\": 1, \"ticks\": \"\", \"showticklabels\": false, \"zeroline\": false}, \"height\": 710}, {\"linkText\": \"Export to plot.ly\", \"showLink\": true})});</script>"
      ],
      "text/vnd.plotly.v1+html": [
       "<div id=\"4d528173-1a49-4a6e-844a-1258a25c7524\" style=\"height: 710px; width: 100%;\" class=\"plotly-graph-div\"></div><script type=\"text/javascript\">require([\"plotly\"], function(Plotly) { window.PLOTLYENV=window.PLOTLYENV || {};window.PLOTLYENV.BASE_URL=\"https://plot.ly\";Plotly.newPlot(\"4d528173-1a49-4a6e-844a-1258a25c7524\", [{\"hoverinfo\": \"none\", \"z\": [[0, 0, 0, 0, 0], [0.5, 0.5, 0.5, 0.5, 0.5], [1, 1, 1, 1, 1], [0.5, 0.5, 0.5, 0.5, 0.5], [1, 1, 1, 1, 1], [0.5, 0.5, 0.5, 0.5, 0.5], [1, 1, 1, 1, 1], [0.5, 0.5, 0.5, 0.5, 0.5], [1, 1, 1, 1, 1], [0.5, 0.5, 0.5, 0.5, 0.5], [1, 1, 1, 1, 1], [0.5, 0.5, 0.5, 0.5, 0.5], [1, 1, 1, 1, 1], [0.5, 0.5, 0.5, 0.5, 0.5], [1, 1, 1, 1, 1], [0.5, 0.5, 0.5, 0.5, 0.5], [1, 1, 1, 1, 1], [0.5, 0.5, 0.5, 0.5, 0.5], [1, 1, 1, 1, 1], [0.5, 0.5, 0.5, 0.5, 0.5], [1, 1, 1, 1, 1], [0.5, 0.5, 0.5, 0.5, 0.5]], \"showscale\": false, \"opacity\": 0.75, \"type\": \"heatmap\", \"colorscale\": [[0, \"#00083e\"], [0.5, \"#ededee\"], [1, \"#ffffff\"]]}], {\"annotations\": [{\"x\": -0.45, \"showarrow\": false, \"xref\": \"x1\", \"font\": {\"color\": \"#ffffff\"}, \"yref\": \"y1\", \"xanchor\": \"left\", \"text\": \"<b>Team</b>\", \"y\": 0, \"align\": \"left\"}, {\"x\": 0.55, \"showarrow\": false, \"xref\": \"x1\", \"font\": {\"color\": \"#ffffff\"}, \"yref\": \"y1\", \"xanchor\": \"left\", \"text\": \"<b>Home Attack</b>\", \"y\": 0, \"align\": \"left\"}, {\"x\": 1.55, \"showarrow\": false, \"xref\": \"x1\", \"font\": {\"color\": \"#ffffff\"}, \"yref\": \"y1\", \"xanchor\": \"left\", \"text\": \"<b>Home Defence</b>\", \"y\": 0, \"align\": \"left\"}, {\"x\": 2.55, \"showarrow\": false, \"xref\": \"x1\", \"font\": {\"color\": \"#ffffff\"}, \"yref\": \"y1\", \"xanchor\": \"left\", \"text\": \"<b>Away Attack</b>\", \"y\": 0, \"align\": \"left\"}, {\"x\": 3.55, \"showarrow\": false, \"xref\": \"x1\", \"font\": {\"color\": \"#ffffff\"}, \"yref\": \"y1\", \"xanchor\": \"left\", \"text\": \"<b>Away Defence</b>\", \"y\": 0, \"align\": \"left\"}, {\"x\": -0.45, \"showarrow\": false, \"xref\": \"x1\", \"font\": {\"color\": \"#000000\"}, \"yref\": \"y1\", \"xanchor\": \"left\", \"text\": \"League Average\", \"y\": 1, \"align\": \"left\"}, {\"x\": 0.55, \"showarrow\": false, \"xref\": \"x1\", \"font\": {\"color\": \"#000000\"}, \"yref\": \"y1\", \"xanchor\": \"left\", \"text\": \"1.51892\", \"y\": 1, \"align\": \"left\"}, {\"x\": 1.55, \"showarrow\": false, \"xref\": \"x1\", \"font\": {\"color\": \"#000000\"}, \"yref\": \"y1\", \"xanchor\": \"left\", \"text\": \"1.14865\", \"y\": 1, \"align\": \"left\"}, {\"x\": 2.55, \"showarrow\": false, \"xref\": \"x1\", \"font\": {\"color\": \"#000000\"}, \"yref\": \"y1\", \"xanchor\": \"left\", \"text\": \"1.14865\", \"y\": 1, \"align\": \"left\"}, {\"x\": 3.55, \"showarrow\": false, \"xref\": \"x1\", \"font\": {\"color\": \"#000000\"}, \"yref\": \"y1\", \"xanchor\": \"left\", \"text\": \"1.51892\", \"y\": 1, \"align\": \"left\"}, {\"x\": -0.45, \"showarrow\": false, \"xref\": \"x1\", \"font\": {\"color\": \"#000000\"}, \"yref\": \"y1\", \"xanchor\": \"left\", \"text\": \"Arsenal FC\", \"y\": 2, \"align\": \"left\"}, {\"x\": 0.55, \"showarrow\": false, \"xref\": \"x1\", \"font\": {\"color\": \"#000000\"}, \"yref\": \"y1\", \"xanchor\": \"left\", \"text\": \"1.87114\", \"y\": 2, \"align\": \"left\"}, {\"x\": 1.55, \"showarrow\": false, \"xref\": \"x1\", \"font\": {\"color\": \"#000000\"}, \"yref\": \"y1\", \"xanchor\": \"left\", \"text\": \"0.91641\", \"y\": 2, \"align\": \"left\"}, {\"x\": 2.55, \"showarrow\": false, \"xref\": \"x1\", \"font\": {\"color\": \"#000000\"}, \"yref\": \"y1\", \"xanchor\": \"left\", \"text\": \"0.91895\", \"y\": 2, \"align\": \"left\"}, {\"x\": 3.55, \"showarrow\": false, \"xref\": \"x1\", \"font\": {\"color\": \"#000000\"}, \"yref\": \"y1\", \"xanchor\": \"left\", \"text\": \"1.13385\", \"y\": 2, \"align\": \"left\"}, {\"x\": -0.45, \"showarrow\": false, \"xref\": \"x1\", \"font\": {\"color\": \"#000000\"}, \"yref\": \"y1\", \"xanchor\": \"left\", \"text\": \"Tottenham Hotspur FC\", \"y\": 3, \"align\": \"left\"}, {\"x\": 0.55, \"showarrow\": false, \"xref\": \"x1\", \"font\": {\"color\": \"#000000\"}, \"yref\": \"y1\", \"xanchor\": \"left\", \"text\": \"1.28015\", \"y\": 3, \"align\": \"left\"}, {\"x\": 1.55, \"showarrow\": false, \"xref\": \"x1\", \"font\": {\"color\": \"#000000\"}, \"yref\": \"y1\", \"xanchor\": \"left\", \"text\": \"0.58039\", \"y\": 3, \"align\": \"left\"}, {\"x\": 2.55, \"showarrow\": false, \"xref\": \"x1\", \"font\": {\"color\": \"#000000\"}, \"yref\": \"y1\", \"xanchor\": \"left\", \"text\": \"1.55789\", \"y\": 3, \"align\": \"left\"}, {\"x\": 3.55, \"showarrow\": false, \"xref\": \"x1\", \"font\": {\"color\": \"#000000\"}, \"yref\": \"y1\", \"xanchor\": \"left\", \"text\": \"0.69301\", \"y\": 3, \"align\": \"left\"}, {\"x\": -0.45, \"showarrow\": false, \"xref\": \"x1\", \"font\": {\"color\": \"#000000\"}, \"yref\": \"y1\", \"xanchor\": \"left\", \"text\": \"Liverpool FC\", \"y\": 4, \"align\": \"left\"}, {\"x\": 0.55, \"showarrow\": false, \"xref\": \"x1\", \"font\": {\"color\": \"#000000\"}, \"yref\": \"y1\", \"xanchor\": \"left\", \"text\": \"1.4996\", \"y\": 4, \"align\": \"left\"}, {\"x\": 1.55, \"showarrow\": false, \"xref\": \"x1\", \"font\": {\"color\": \"#000000\"}, \"yref\": \"y1\", \"xanchor\": \"left\", \"text\": \"0.48366\", \"y\": 4, \"align\": \"left\"}, {\"x\": 2.55, \"showarrow\": false, \"xref\": \"x1\", \"font\": {\"color\": \"#000000\"}, \"yref\": \"y1\", \"xanchor\": \"left\", \"text\": \"1.787\", \"y\": 4, \"align\": \"left\"}, {\"x\": 3.55, \"showarrow\": false, \"xref\": \"x1\", \"font\": {\"color\": \"#000000\"}, \"yref\": \"y1\", \"xanchor\": \"left\", \"text\": \"0.97022\", \"y\": 4, \"align\": \"left\"}, {\"x\": -0.45, \"showarrow\": false, \"xref\": \"x1\", \"font\": {\"color\": \"#000000\"}, \"yref\": \"y1\", \"xanchor\": \"left\", \"text\": \"Southampton FC\", \"y\": 5, \"align\": \"left\"}, {\"x\": 0.55, \"showarrow\": false, \"xref\": \"x1\", \"font\": {\"color\": \"#000000\"}, \"yref\": \"y1\", \"xanchor\": \"left\", \"text\": \"0.73151\", \"y\": 5, \"align\": \"left\"}, {\"x\": 1.55, \"showarrow\": false, \"xref\": \"x1\", \"font\": {\"color\": \"#000000\"}, \"yref\": \"y1\", \"xanchor\": \"left\", \"text\": \"1.20915\", \"y\": 5, \"align\": \"left\"}, {\"x\": 2.55, \"showarrow\": false, \"xref\": \"x1\", \"font\": {\"color\": \"#000000\"}, \"yref\": \"y1\", \"xanchor\": \"left\", \"text\": \"0.77895\", \"y\": 5, \"align\": \"left\"}, {\"x\": 3.55, \"showarrow\": false, \"xref\": \"x1\", \"font\": {\"color\": \"#000000\"}, \"yref\": \"y1\", \"xanchor\": \"left\", \"text\": \"1.03952\", \"y\": 5, \"align\": \"left\"}, {\"x\": -0.45, \"showarrow\": false, \"xref\": \"x1\", \"font\": {\"color\": \"#000000\"}, \"yref\": \"y1\", \"xanchor\": \"left\", \"text\": \"Stoke City FC\", \"y\": 6, \"align\": \"left\"}, {\"x\": 0.55, \"showarrow\": false, \"xref\": \"x1\", \"font\": {\"color\": \"#000000\"}, \"yref\": \"y1\", \"xanchor\": \"left\", \"text\": \"0.69301\", \"y\": 6, \"align\": \"left\"}, {\"x\": 1.55, \"showarrow\": false, \"xref\": \"x1\", \"font\": {\"color\": \"#000000\"}, \"yref\": \"y1\", \"xanchor\": \"left\", \"text\": \"1.37461\", \"y\": 6, \"align\": \"left\"}, {\"x\": 2.55, \"showarrow\": false, \"xref\": \"x1\", \"font\": {\"color\": \"#000000\"}, \"yref\": \"y1\", \"xanchor\": \"left\", \"text\": \"0.62876\", \"y\": 6, \"align\": \"left\"}, {\"x\": 3.55, \"showarrow\": false, \"xref\": \"x1\", \"font\": {\"color\": \"#000000\"}, \"yref\": \"y1\", \"xanchor\": \"left\", \"text\": \"1.3533\", \"y\": 6, \"align\": \"left\"}, {\"x\": -0.45, \"showarrow\": false, \"xref\": \"x1\", \"font\": {\"color\": \"#000000\"}, \"yref\": \"y1\", \"xanchor\": \"left\", \"text\": \"Everton FC\", \"y\": 7, \"align\": \"left\"}, {\"x\": 0.55, \"showarrow\": false, \"xref\": \"x1\", \"font\": {\"color\": \"#000000\"}, \"yref\": \"y1\", \"xanchor\": \"left\", \"text\": \"0.97022\", \"y\": 7, \"align\": \"left\"}, {\"x\": 1.55, \"showarrow\": false, \"xref\": \"x1\", \"font\": {\"color\": \"#000000\"}, \"yref\": \"y1\", \"xanchor\": \"left\", \"text\": \"1.00805\", \"y\": 7, \"align\": \"left\"}, {\"x\": 2.55, \"showarrow\": false, \"xref\": \"x1\", \"font\": {\"color\": \"#000000\"}, \"yref\": \"y1\", \"xanchor\": \"left\", \"text\": \"0.72549\", \"y\": 7, \"align\": \"left\"}, {\"x\": 3.55, \"showarrow\": false, \"xref\": \"x1\", \"font\": {\"color\": \"#000000\"}, \"yref\": \"y1\", \"xanchor\": \"left\", \"text\": \"1.207\", \"y\": 7, \"align\": \"left\"}, {\"x\": -0.45, \"showarrow\": false, \"xref\": \"x1\", \"font\": {\"color\": \"#000000\"}, \"yref\": \"y1\", \"xanchor\": \"left\", \"text\": \"Huddersfield Town\", \"y\": 8, \"align\": \"left\"}, {\"x\": 0.55, \"showarrow\": false, \"xref\": \"x1\", \"font\": {\"color\": \"#000000\"}, \"yref\": \"y1\", \"xanchor\": \"left\", \"text\": \"0.58521\", \"y\": 8, \"align\": \"left\"}, {\"x\": 1.55, \"showarrow\": false, \"xref\": \"x1\", \"font\": {\"color\": \"#000000\"}, \"yref\": \"y1\", \"xanchor\": \"left\", \"text\": \"1.16078\", \"y\": 8, \"align\": \"left\"}, {\"x\": 2.55, \"showarrow\": false, \"xref\": \"x1\", \"font\": {\"color\": \"#000000\"}, \"yref\": \"y1\", \"xanchor\": \"left\", \"text\": \"0.54985\", \"y\": 8, \"align\": \"left\"}, {\"x\": 3.55, \"showarrow\": false, \"xref\": \"x1\", \"font\": {\"color\": \"#000000\"}, \"yref\": \"y1\", \"xanchor\": \"left\", \"text\": \"1.14347\", \"y\": 8, \"align\": \"left\"}, {\"x\": -0.45, \"showarrow\": false, \"xref\": \"x1\", \"font\": {\"color\": \"#000000\"}, \"yref\": \"y1\", \"xanchor\": \"left\", \"text\": \"Leicester City FC\", \"y\": 9, \"align\": \"left\"}, {\"x\": 0.55, \"showarrow\": false, \"xref\": \"x1\", \"font\": {\"color\": \"#000000\"}, \"yref\": \"y1\", \"xanchor\": \"left\", \"text\": \"0.86627\", \"y\": 9, \"align\": \"left\"}, {\"x\": 1.55, \"showarrow\": false, \"xref\": \"x1\", \"font\": {\"color\": \"#000000\"}, \"yref\": \"y1\", \"xanchor\": \"left\", \"text\": \"1.00805\", \"y\": 9, \"align\": \"left\"}, {\"x\": 2.55, \"showarrow\": false, \"xref\": \"x1\", \"font\": {\"color\": \"#000000\"}, \"yref\": \"y1\", \"xanchor\": \"left\", \"text\": \"1.30588\", \"y\": 9, \"align\": \"left\"}, {\"x\": 3.55, \"showarrow\": false, \"xref\": \"x1\", \"font\": {\"color\": \"#000000\"}, \"yref\": \"y1\", \"xanchor\": \"left\", \"text\": \"1.207\", \"y\": 9, \"align\": \"left\"}, {\"x\": -0.45, \"showarrow\": false, \"xref\": \"x1\", \"font\": {\"color\": \"#000000\"}, \"yref\": \"y1\", \"xanchor\": \"left\", \"text\": \"Manchester City FC\", \"y\": 10, \"align\": \"left\"}, {\"x\": 0.55, \"showarrow\": false, \"xref\": \"x1\", \"font\": {\"color\": \"#000000\"}, \"yref\": \"y1\", \"xanchor\": \"left\", \"text\": \"2.11369\", \"y\": 10, \"align\": \"left\"}, {\"x\": 1.55, \"showarrow\": false, \"xref\": \"x1\", \"font\": {\"color\": \"#000000\"}, \"yref\": \"y1\", \"xanchor\": \"left\", \"text\": \"0.64149\", \"y\": 10, \"align\": \"left\"}, {\"x\": 2.55, \"showarrow\": false, \"xref\": \"x1\", \"font\": {\"color\": \"#000000\"}, \"yref\": \"y1\", \"xanchor\": \"left\", \"text\": \"2.1281\", \"y\": 10, \"align\": \"left\"}, {\"x\": 3.55, \"showarrow\": false, \"xref\": \"x1\", \"font\": {\"color\": \"#000000\"}, \"yref\": \"y1\", \"xanchor\": \"left\", \"text\": \"0.47548\", \"y\": 10, \"align\": \"left\"}, {\"x\": -0.45, \"showarrow\": false, \"xref\": \"x1\", \"font\": {\"color\": \"#000000\"}, \"yref\": \"y1\", \"xanchor\": \"left\", \"text\": \"West Bromwich Albion FC\", \"y\": 11, \"align\": \"left\"}, {\"x\": 0.55, \"showarrow\": false, \"xref\": \"x1\", \"font\": {\"color\": \"#000000\"}, \"yref\": \"y1\", \"xanchor\": \"left\", \"text\": \"0.72766\", \"y\": 11, \"align\": \"left\"}, {\"x\": 1.55, \"showarrow\": false, \"xref\": \"x1\", \"font\": {\"color\": \"#000000\"}, \"yref\": \"y1\", \"xanchor\": \"left\", \"text\": \"1.32879\", \"y\": 11, \"align\": \"left\"}, {\"x\": 2.55, \"showarrow\": false, \"xref\": \"x1\", \"font\": {\"color\": \"#000000\"}, \"yref\": \"y1\", \"xanchor\": \"left\", \"text\": \"0.48366\", \"y\": 11, \"align\": \"left\"}, {\"x\": 3.55, \"showarrow\": false, \"xref\": \"x1\", \"font\": {\"color\": \"#000000\"}, \"yref\": \"y1\", \"xanchor\": \"left\", \"text\": \"0.91439\", \"y\": 11, \"align\": \"left\"}, {\"x\": -0.45, \"showarrow\": false, \"xref\": \"x1\", \"font\": {\"color\": \"#000000\"}, \"yref\": \"y1\", \"xanchor\": \"left\", \"text\": \"Burnley FC\", \"y\": 12, \"align\": \"left\"}, {\"x\": 0.55, \"showarrow\": false, \"xref\": \"x1\", \"font\": {\"color\": \"#000000\"}, \"yref\": \"y1\", \"xanchor\": \"left\", \"text\": \"0.54864\", \"y\": 12, \"align\": \"left\"}, {\"x\": 1.55, \"showarrow\": false, \"xref\": \"x1\", \"font\": {\"color\": \"#000000\"}, \"yref\": \"y1\", \"xanchor\": \"left\", \"text\": \"0.72549\", \"y\": 12, \"align\": \"left\"}, {\"x\": 2.55, \"showarrow\": false, \"xref\": \"x1\", \"font\": {\"color\": \"#000000\"}, \"yref\": \"y1\", \"xanchor\": \"left\", \"text\": \"0.91641\", \"y\": 12, \"align\": \"left\"}, {\"x\": 3.55, \"showarrow\": false, \"xref\": \"x1\", \"font\": {\"color\": \"#000000\"}, \"yref\": \"y1\", \"xanchor\": \"left\", \"text\": \"0.76232\", \"y\": 12, \"align\": \"left\"}, {\"x\": -0.45, \"showarrow\": false, \"xref\": \"x1\", \"font\": {\"color\": \"#000000\"}, \"yref\": \"y1\", \"xanchor\": \"left\", \"text\": \"Chelsea FC\", \"y\": 13, \"align\": \"left\"}, {\"x\": 0.55, \"showarrow\": false, \"xref\": \"x1\", \"font\": {\"color\": \"#000000\"}, \"yref\": \"y1\", \"xanchor\": \"left\", \"text\": \"1.03952\", \"y\": 13, \"align\": \"left\"}, {\"x\": 1.55, \"showarrow\": false, \"xref\": \"x1\", \"font\": {\"color\": \"#000000\"}, \"yref\": \"y1\", \"xanchor\": \"left\", \"text\": \"0.73313\", \"y\": 13, \"align\": \"left\"}, {\"x\": 2.55, \"showarrow\": false, \"xref\": \"x1\", \"font\": {\"color\": \"#000000\"}, \"yref\": \"y1\", \"xanchor\": \"left\", \"text\": \"1.54771\", \"y\": 13, \"align\": \"left\"}, {\"x\": 3.55, \"showarrow\": false, \"xref\": \"x1\", \"font\": {\"color\": \"#000000\"}, \"yref\": \"y1\", \"xanchor\": \"left\", \"text\": \"0.69494\", \"y\": 13, \"align\": \"left\"}, {\"x\": -0.45, \"showarrow\": false, \"xref\": \"x1\", \"font\": {\"color\": \"#000000\"}, \"yref\": \"y1\", \"xanchor\": \"left\", \"text\": \"Watford FC\", \"y\": 14, \"align\": \"left\"}, {\"x\": 0.55, \"showarrow\": false, \"xref\": \"x1\", \"font\": {\"color\": \"#000000\"}, \"yref\": \"y1\", \"xanchor\": \"left\", \"text\": \"0.93557\", \"y\": 14, \"align\": \"left\"}, {\"x\": 1.55, \"showarrow\": false, \"xref\": \"x1\", \"font\": {\"color\": \"#000000\"}, \"yref\": \"y1\", \"xanchor\": \"left\", \"text\": \"1.42043\", \"y\": 14, \"align\": \"left\"}, {\"x\": 2.55, \"showarrow\": false, \"xref\": \"x1\", \"font\": {\"color\": \"#000000\"}, \"yref\": \"y1\", \"xanchor\": \"left\", \"text\": \"0.82222\", \"y\": 14, \"align\": \"left\"}, {\"x\": 3.55, \"showarrow\": false, \"xref\": \"x1\", \"font\": {\"color\": \"#000000\"}, \"yref\": \"y1\", \"xanchor\": \"left\", \"text\": \"1.17042\", \"y\": 14, \"align\": \"left\"}, {\"x\": -0.45, \"showarrow\": false, \"xref\": \"x1\", \"font\": {\"color\": \"#000000\"}, \"yref\": \"y1\", \"xanchor\": \"left\", \"text\": \"Newcastle United FC\", \"y\": 15, \"align\": \"left\"}, {\"x\": 0.55, \"showarrow\": false, \"xref\": \"x1\", \"font\": {\"color\": \"#000000\"}, \"yref\": \"y1\", \"xanchor\": \"left\", \"text\": \"0.65836\", \"y\": 15, \"align\": \"left\"}, {\"x\": 1.55, \"showarrow\": false, \"xref\": \"x1\", \"font\": {\"color\": \"#000000\"}, \"yref\": \"y1\", \"xanchor\": \"left\", \"text\": \"0.82222\", \"y\": 15, \"align\": \"left\"}, {\"x\": 2.55, \"showarrow\": false, \"xref\": \"x1\", \"font\": {\"color\": \"#000000\"}, \"yref\": \"y1\", \"xanchor\": \"left\", \"text\": \"0.82477\", \"y\": 15, \"align\": \"left\"}, {\"x\": 3.55, \"showarrow\": false, \"xref\": \"x1\", \"font\": {\"color\": \"#000000\"}, \"yref\": \"y1\", \"xanchor\": \"left\", \"text\": \"1.03952\", \"y\": 15, \"align\": \"left\"}, {\"x\": -0.45, \"showarrow\": false, \"xref\": \"x1\", \"font\": {\"color\": \"#000000\"}, \"yref\": \"y1\", \"xanchor\": \"left\", \"text\": \"Swansea City FC\", \"y\": 16, \"align\": \"left\"}, {\"x\": 0.55, \"showarrow\": false, \"xref\": \"x1\", \"font\": {\"color\": \"#000000\"}, \"yref\": \"y1\", \"xanchor\": \"left\", \"text\": \"0.58521\", \"y\": 16, \"align\": \"left\"}, {\"x\": 1.55, \"showarrow\": false, \"xref\": \"x1\", \"font\": {\"color\": \"#000000\"}, \"yref\": \"y1\", \"xanchor\": \"left\", \"text\": \"1.06405\", \"y\": 16, \"align\": \"left\"}, {\"x\": 2.55, \"showarrow\": false, \"xref\": \"x1\", \"font\": {\"color\": \"#000000\"}, \"yref\": \"y1\", \"xanchor\": \"left\", \"text\": \"0.50402\", \"y\": 16, \"align\": \"left\"}, {\"x\": 3.55, \"showarrow\": false, \"xref\": \"x1\", \"font\": {\"color\": \"#000000\"}, \"yref\": \"y1\", \"xanchor\": \"left\", \"text\": \"1.10882\", \"y\": 16, \"align\": \"left\"}, {\"x\": -0.45, \"showarrow\": false, \"xref\": \"x1\", \"font\": {\"color\": \"#000000\"}, \"yref\": \"y1\", \"xanchor\": \"left\", \"text\": \"AFC Bournemouth\", \"y\": 17, \"align\": \"left\"}, {\"x\": 0.55, \"showarrow\": false, \"xref\": \"x1\", \"font\": {\"color\": \"#000000\"}, \"yref\": \"y1\", \"xanchor\": \"left\", \"text\": \"0.90092\", \"y\": 17, \"align\": \"left\"}, {\"x\": 1.55, \"showarrow\": false, \"xref\": \"x1\", \"font\": {\"color\": \"#000000\"}, \"yref\": \"y1\", \"xanchor\": \"left\", \"text\": \"1.37461\", \"y\": 17, \"align\": \"left\"}, {\"x\": 2.55, \"showarrow\": false, \"xref\": \"x1\", \"font\": {\"color\": \"#000000\"}, \"yref\": \"y1\", \"xanchor\": \"left\", \"text\": \"0.82222\", \"y\": 17, \"align\": \"left\"}, {\"x\": 3.55, \"showarrow\": false, \"xref\": \"x1\", \"font\": {\"color\": \"#000000\"}, \"yref\": \"y1\", \"xanchor\": \"left\", \"text\": \"1.09727\", \"y\": 17, \"align\": \"left\"}, {\"x\": -0.45, \"showarrow\": false, \"xref\": \"x1\", \"font\": {\"color\": \"#000000\"}, \"yref\": \"y1\", \"xanchor\": \"left\", \"text\": \"Crystal Palace FC\", \"y\": 18, \"align\": \"left\"}, {\"x\": 0.55, \"showarrow\": false, \"xref\": \"x1\", \"font\": {\"color\": \"#000000\"}, \"yref\": \"y1\", \"xanchor\": \"left\", \"text\": \"0.98754\", \"y\": 18, \"align\": \"left\"}, {\"x\": 1.55, \"showarrow\": false, \"xref\": \"x1\", \"font\": {\"color\": \"#000000\"}, \"yref\": \"y1\", \"xanchor\": \"left\", \"text\": \"1.30588\", \"y\": 18, \"align\": \"left\"}, {\"x\": 2.55, \"showarrow\": false, \"xref\": \"x1\", \"font\": {\"color\": \"#000000\"}, \"yref\": \"y1\", \"xanchor\": \"left\", \"text\": \"0.73313\", \"y\": 18, \"align\": \"left\"}, {\"x\": 3.55, \"showarrow\": false, \"xref\": \"x1\", \"font\": {\"color\": \"#000000\"}, \"yref\": \"y1\", \"xanchor\": \"left\", \"text\": \"0.97022\", \"y\": 18, \"align\": \"left\"}, {\"x\": -0.45, \"showarrow\": false, \"xref\": \"x1\", \"font\": {\"color\": \"#000000\"}, \"yref\": \"y1\", \"xanchor\": \"left\", \"text\": \"West Ham United FC\", \"y\": 19, \"align\": \"left\"}, {\"x\": 0.55, \"showarrow\": false, \"xref\": \"x1\", \"font\": {\"color\": \"#000000\"}, \"yref\": \"y1\", \"xanchor\": \"left\", \"text\": \"0.76809\", \"y\": 19, \"align\": \"left\"}, {\"x\": 1.55, \"showarrow\": false, \"xref\": \"x1\", \"font\": {\"color\": \"#000000\"}, \"yref\": \"y1\", \"xanchor\": \"left\", \"text\": \"1.20915\", \"y\": 19, \"align\": \"left\"}, {\"x\": 2.55, \"showarrow\": false, \"xref\": \"x1\", \"font\": {\"color\": \"#000000\"}, \"yref\": \"y1\", \"xanchor\": \"left\", \"text\": \"1.09969\", \"y\": 19, \"align\": \"left\"}, {\"x\": 3.55, \"showarrow\": false, \"xref\": \"x1\", \"font\": {\"color\": \"#000000\"}, \"yref\": \"y1\", \"xanchor\": \"left\", \"text\": \"1.45533\", \"y\": 19, \"align\": \"left\"}, {\"x\": -0.45, \"showarrow\": false, \"xref\": \"x1\", \"font\": {\"color\": \"#000000\"}, \"yref\": \"y1\", \"xanchor\": \"left\", \"text\": \"Brighton & Hove Albion\", \"y\": 20, \"align\": \"left\"}, {\"x\": 0.55, \"showarrow\": false, \"xref\": \"x1\", \"font\": {\"color\": \"#000000\"}, \"yref\": \"y1\", \"xanchor\": \"left\", \"text\": \"0.83162\", \"y\": 20, \"align\": \"left\"}, {\"x\": 1.55, \"showarrow\": false, \"xref\": \"x1\", \"font\": {\"color\": \"#000000\"}, \"yref\": \"y1\", \"xanchor\": \"left\", \"text\": \"1.14551\", \"y\": 20, \"align\": \"left\"}, {\"x\": 2.55, \"showarrow\": false, \"xref\": \"x1\", \"font\": {\"color\": \"#000000\"}, \"yref\": \"y1\", \"xanchor\": \"left\", \"text\": \"0.48366\", \"y\": 20, \"align\": \"left\"}, {\"x\": 3.55, \"showarrow\": false, \"xref\": \"x1\", \"font\": {\"color\": \"#000000\"}, \"yref\": \"y1\", \"xanchor\": \"left\", \"text\": \"0.91439\", \"y\": 20, \"align\": \"left\"}, {\"x\": -0.45, \"showarrow\": false, \"xref\": \"x1\", \"font\": {\"color\": \"#000000\"}, \"yref\": \"y1\", \"xanchor\": \"left\", \"text\": \"Manchester United FC\", \"y\": 21, \"align\": \"left\"}, {\"x\": 0.55, \"showarrow\": false, \"xref\": \"x1\", \"font\": {\"color\": \"#000000\"}, \"yref\": \"y1\", \"xanchor\": \"left\", \"text\": \"1.3533\", \"y\": 21, \"align\": \"left\"}, {\"x\": 1.55, \"showarrow\": false, \"xref\": \"x1\", \"font\": {\"color\": \"#000000\"}, \"yref\": \"y1\", \"xanchor\": \"left\", \"text\": \"0.43529\", \"y\": 21, \"align\": \"left\"}, {\"x\": 2.55, \"showarrow\": false, \"xref\": \"x1\", \"font\": {\"color\": \"#000000\"}, \"yref\": \"y1\", \"xanchor\": \"left\", \"text\": \"1.37461\", \"y\": 21, \"align\": \"left\"}, {\"x\": 3.55, \"showarrow\": false, \"xref\": \"x1\", \"font\": {\"color\": \"#000000\"}, \"yref\": \"y1\", \"xanchor\": \"left\", \"text\": \"0.65836\", \"y\": 21, \"align\": \"left\"}], \"margin\": {\"r\": 0, \"t\": 0, \"b\": 0, \"l\": 0}, \"yaxis\": {\"tick0\": 0.5, \"gridwidth\": 2, \"dtick\": 1, \"ticks\": \"\", \"zeroline\": false, \"showticklabels\": false, \"autorange\": \"reversed\"}, \"xaxis\": {\"tick0\": -0.5, \"gridwidth\": 2, \"dtick\": 1, \"ticks\": \"\", \"showticklabels\": false, \"zeroline\": false}, \"height\": 710}, {\"linkText\": \"Export to plot.ly\", \"showLink\": true})});</script>"
      ]
     },
     "metadata": {},
     "output_type": "display_data"
    }
   ],
   "source": [
    "table_strengths(team_strengths)"
   ]
  },
  {
   "cell_type": "code",
   "execution_count": 42,
   "metadata": {
    "collapsed": true
   },
   "outputs": [],
   "source": [
    "def matchday(day=None, month=None, year=None):\n",
    "    if all(d is None for d in [day, month, year]):\n",
    "        date_string = datetime.datetime.today().strftime(\"%Y-%m-%d\")\n",
    "    else:\n",
    "        date_string = '{}-{}-{}'.format(year, month, day)\n",
    "    for fixture in rff['fixtures']:\n",
    "        if date_reader(fixture['date']) == date_string:\n",
    "            match_prediction(fixture['homeTeamName'], fixture['awayTeamName'])\n",
    "            match_plot(fixture['homeTeamName'], fixture['awayTeamName'])"
   ]
  },
  {
   "cell_type": "code",
   "execution_count": 41,
   "metadata": {},
   "outputs": [
    {
     "name": "stdout",
     "output_type": "stream",
     "text": [
      "HHHHHH\n"
     ]
    },
    {
     "data": {
      "application/vnd.plotly.v1+json": {
       "data": [
        {
         "colorscale": [
          [
           0,
           "#00083e"
          ],
          [
           0.5,
           "#ededee"
          ],
          [
           1,
           "#ffffff"
          ]
         ],
         "hoverinfo": "none",
         "opacity": 0.75,
         "showscale": false,
         "type": "heatmap",
         "z": [
          [
           0,
           0
          ],
          [
           0.5,
           0.5
          ],
          [
           1,
           1
          ],
          [
           0.5,
           0.5
          ],
          [
           1,
           1
          ]
         ]
        }
       ],
       "layout": {
        "annotations": [
         {
          "align": "left",
          "font": {
           "color": "#ffffff"
          },
          "showarrow": false,
          "text": "<b>Result</b>",
          "x": -0.45,
          "xanchor": "left",
          "xref": "x1",
          "y": 0,
          "yref": "y1"
         },
         {
          "align": "left",
          "font": {
           "color": "#ffffff"
          },
          "showarrow": false,
          "text": "<b>Probability</b>",
          "x": 0.55,
          "xanchor": "left",
          "xref": "x1",
          "y": 0,
          "yref": "y1"
         },
         {
          "align": "left",
          "font": {
           "color": "#000000"
          },
          "showarrow": false,
          "text": "Burnley Win",
          "x": -0.45,
          "xanchor": "left",
          "xref": "x1",
          "y": 1,
          "yref": "y1"
         },
         {
          "align": "left",
          "font": {
           "color": "#000000"
          },
          "showarrow": false,
          "text": "0.390518600901",
          "x": 0.55,
          "xanchor": "left",
          "xref": "x1",
          "y": 1,
          "yref": "y1"
         },
         {
          "align": "left",
          "font": {
           "color": "#000000"
          },
          "showarrow": false,
          "text": "AFC Win",
          "x": -0.45,
          "xanchor": "left",
          "xref": "x1",
          "y": 2,
          "yref": "y1"
         },
         {
          "align": "left",
          "font": {
           "color": "#000000"
          },
          "showarrow": false,
          "text": "0.259695769942",
          "x": 0.55,
          "xanchor": "left",
          "xref": "x1",
          "y": 2,
          "yref": "y1"
         },
         {
          "align": "left",
          "font": {
           "color": "#000000"
          },
          "showarrow": false,
          "text": "Draw",
          "x": -0.45,
          "xanchor": "left",
          "xref": "x1",
          "y": 3,
          "yref": "y1"
         },
         {
          "align": "left",
          "font": {
           "color": "#000000"
          },
          "showarrow": false,
          "text": "0.349785624889",
          "x": 0.55,
          "xanchor": "left",
          "xref": "x1",
          "y": 3,
          "yref": "y1"
         },
         {
          "align": "left",
          "font": {
           "color": "#000000"
          },
          "showarrow": false,
          "text": "Most Probable Score: 0 - 0",
          "x": -0.45,
          "xanchor": "left",
          "xref": "x1",
          "y": 4,
          "yref": "y1"
         },
         {
          "align": "left",
          "font": {
           "color": "#000000"
          },
          "showarrow": false,
          "text": "0.201981690675",
          "x": 0.55,
          "xanchor": "left",
          "xref": "x1",
          "y": 4,
          "yref": "y1"
         }
        ],
        "height": 200,
        "margin": {
         "b": 0,
         "l": 0,
         "r": 0,
         "t": 0
        },
        "xaxis": {
         "dtick": 1,
         "gridwidth": 2,
         "showticklabels": false,
         "tick0": -0.5,
         "ticks": "",
         "zeroline": false
        },
        "yaxis": {
         "autorange": "reversed",
         "dtick": 1,
         "gridwidth": 2,
         "showticklabels": false,
         "tick0": 0.5,
         "ticks": "",
         "zeroline": false
        }
       }
      },
      "text/html": [
       "<div id=\"4a3039af-b5b3-4478-8801-0025517e1f86\" style=\"height: 200px; width: 100%;\" class=\"plotly-graph-div\"></div><script type=\"text/javascript\">require([\"plotly\"], function(Plotly) { window.PLOTLYENV=window.PLOTLYENV || {};window.PLOTLYENV.BASE_URL=\"https://plot.ly\";Plotly.newPlot(\"4a3039af-b5b3-4478-8801-0025517e1f86\", [{\"hoverinfo\": \"none\", \"z\": [[0, 0], [0.5, 0.5], [1, 1], [0.5, 0.5], [1, 1]], \"showscale\": false, \"opacity\": 0.75, \"type\": \"heatmap\", \"colorscale\": [[0, \"#00083e\"], [0.5, \"#ededee\"], [1, \"#ffffff\"]]}], {\"annotations\": [{\"x\": -0.45, \"showarrow\": false, \"xref\": \"x1\", \"font\": {\"color\": \"#ffffff\"}, \"yref\": \"y1\", \"xanchor\": \"left\", \"text\": \"<b>Result</b>\", \"y\": 0, \"align\": \"left\"}, {\"x\": 0.55, \"showarrow\": false, \"xref\": \"x1\", \"font\": {\"color\": \"#ffffff\"}, \"yref\": \"y1\", \"xanchor\": \"left\", \"text\": \"<b>Probability</b>\", \"y\": 0, \"align\": \"left\"}, {\"x\": -0.45, \"showarrow\": false, \"xref\": \"x1\", \"font\": {\"color\": \"#000000\"}, \"yref\": \"y1\", \"xanchor\": \"left\", \"text\": \"Burnley Win\", \"y\": 1, \"align\": \"left\"}, {\"x\": 0.55, \"showarrow\": false, \"xref\": \"x1\", \"font\": {\"color\": \"#000000\"}, \"yref\": \"y1\", \"xanchor\": \"left\", \"text\": \"0.390518600901\", \"y\": 1, \"align\": \"left\"}, {\"x\": -0.45, \"showarrow\": false, \"xref\": \"x1\", \"font\": {\"color\": \"#000000\"}, \"yref\": \"y1\", \"xanchor\": \"left\", \"text\": \"AFC Win\", \"y\": 2, \"align\": \"left\"}, {\"x\": 0.55, \"showarrow\": false, \"xref\": \"x1\", \"font\": {\"color\": \"#000000\"}, \"yref\": \"y1\", \"xanchor\": \"left\", \"text\": \"0.259695769942\", \"y\": 2, \"align\": \"left\"}, {\"x\": -0.45, \"showarrow\": false, \"xref\": \"x1\", \"font\": {\"color\": \"#000000\"}, \"yref\": \"y1\", \"xanchor\": \"left\", \"text\": \"Draw\", \"y\": 3, \"align\": \"left\"}, {\"x\": 0.55, \"showarrow\": false, \"xref\": \"x1\", \"font\": {\"color\": \"#000000\"}, \"yref\": \"y1\", \"xanchor\": \"left\", \"text\": \"0.349785624889\", \"y\": 3, \"align\": \"left\"}, {\"x\": -0.45, \"showarrow\": false, \"xref\": \"x1\", \"font\": {\"color\": \"#000000\"}, \"yref\": \"y1\", \"xanchor\": \"left\", \"text\": \"Most Probable Score: 0 - 0\", \"y\": 4, \"align\": \"left\"}, {\"x\": 0.55, \"showarrow\": false, \"xref\": \"x1\", \"font\": {\"color\": \"#000000\"}, \"yref\": \"y1\", \"xanchor\": \"left\", \"text\": \"0.201981690675\", \"y\": 4, \"align\": \"left\"}], \"margin\": {\"r\": 0, \"t\": 0, \"b\": 0, \"l\": 0}, \"yaxis\": {\"tick0\": 0.5, \"gridwidth\": 2, \"dtick\": 1, \"ticks\": \"\", \"zeroline\": false, \"showticklabels\": false, \"autorange\": \"reversed\"}, \"xaxis\": {\"tick0\": -0.5, \"gridwidth\": 2, \"dtick\": 1, \"ticks\": \"\", \"showticklabels\": false, \"zeroline\": false}, \"height\": 200}, {\"linkText\": \"Export to plot.ly\", \"showLink\": true})});</script>"
      ],
      "text/vnd.plotly.v1+html": [
       "<div id=\"4a3039af-b5b3-4478-8801-0025517e1f86\" style=\"height: 200px; width: 100%;\" class=\"plotly-graph-div\"></div><script type=\"text/javascript\">require([\"plotly\"], function(Plotly) { window.PLOTLYENV=window.PLOTLYENV || {};window.PLOTLYENV.BASE_URL=\"https://plot.ly\";Plotly.newPlot(\"4a3039af-b5b3-4478-8801-0025517e1f86\", [{\"hoverinfo\": \"none\", \"z\": [[0, 0], [0.5, 0.5], [1, 1], [0.5, 0.5], [1, 1]], \"showscale\": false, \"opacity\": 0.75, \"type\": \"heatmap\", \"colorscale\": [[0, \"#00083e\"], [0.5, \"#ededee\"], [1, \"#ffffff\"]]}], {\"annotations\": [{\"x\": -0.45, \"showarrow\": false, \"xref\": \"x1\", \"font\": {\"color\": \"#ffffff\"}, \"yref\": \"y1\", \"xanchor\": \"left\", \"text\": \"<b>Result</b>\", \"y\": 0, \"align\": \"left\"}, {\"x\": 0.55, \"showarrow\": false, \"xref\": \"x1\", \"font\": {\"color\": \"#ffffff\"}, \"yref\": \"y1\", \"xanchor\": \"left\", \"text\": \"<b>Probability</b>\", \"y\": 0, \"align\": \"left\"}, {\"x\": -0.45, \"showarrow\": false, \"xref\": \"x1\", \"font\": {\"color\": \"#000000\"}, \"yref\": \"y1\", \"xanchor\": \"left\", \"text\": \"Burnley Win\", \"y\": 1, \"align\": \"left\"}, {\"x\": 0.55, \"showarrow\": false, \"xref\": \"x1\", \"font\": {\"color\": \"#000000\"}, \"yref\": \"y1\", \"xanchor\": \"left\", \"text\": \"0.390518600901\", \"y\": 1, \"align\": \"left\"}, {\"x\": -0.45, \"showarrow\": false, \"xref\": \"x1\", \"font\": {\"color\": \"#000000\"}, \"yref\": \"y1\", \"xanchor\": \"left\", \"text\": \"AFC Win\", \"y\": 2, \"align\": \"left\"}, {\"x\": 0.55, \"showarrow\": false, \"xref\": \"x1\", \"font\": {\"color\": \"#000000\"}, \"yref\": \"y1\", \"xanchor\": \"left\", \"text\": \"0.259695769942\", \"y\": 2, \"align\": \"left\"}, {\"x\": -0.45, \"showarrow\": false, \"xref\": \"x1\", \"font\": {\"color\": \"#000000\"}, \"yref\": \"y1\", \"xanchor\": \"left\", \"text\": \"Draw\", \"y\": 3, \"align\": \"left\"}, {\"x\": 0.55, \"showarrow\": false, \"xref\": \"x1\", \"font\": {\"color\": \"#000000\"}, \"yref\": \"y1\", \"xanchor\": \"left\", \"text\": \"0.349785624889\", \"y\": 3, \"align\": \"left\"}, {\"x\": -0.45, \"showarrow\": false, \"xref\": \"x1\", \"font\": {\"color\": \"#000000\"}, \"yref\": \"y1\", \"xanchor\": \"left\", \"text\": \"Most Probable Score: 0 - 0\", \"y\": 4, \"align\": \"left\"}, {\"x\": 0.55, \"showarrow\": false, \"xref\": \"x1\", \"font\": {\"color\": \"#000000\"}, \"yref\": \"y1\", \"xanchor\": \"left\", \"text\": \"0.201981690675\", \"y\": 4, \"align\": \"left\"}], \"margin\": {\"r\": 0, \"t\": 0, \"b\": 0, \"l\": 0}, \"yaxis\": {\"tick0\": 0.5, \"gridwidth\": 2, \"dtick\": 1, \"ticks\": \"\", \"zeroline\": false, \"showticklabels\": false, \"autorange\": \"reversed\"}, \"xaxis\": {\"tick0\": -0.5, \"gridwidth\": 2, \"dtick\": 1, \"ticks\": \"\", \"showticklabels\": false, \"zeroline\": false}, \"height\": 200}, {\"linkText\": \"Export to plot.ly\", \"showLink\": true})});</script>"
      ]
     },
     "metadata": {},
     "output_type": "display_data"
    },
    {
     "data": {
      "application/vnd.plotly.v1+json": {
       "data": [
        {
         "mode": "lines",
         "name": "Burnley FC",
         "type": "scatter",
         "x": [
          0,
          1,
          2,
          3,
          4,
          5,
          6,
          7,
          8,
          9,
          10
         ],
         "y": [
          0.40075979716079335,
          0.3664519695272182,
          0.16754056534829817,
          0.051065975664681636,
          0.011673593191436961,
          0.0021348504749069182,
          0.00032534873620813557,
          4.249951717117515e-05,
          4.8576578419505005e-06,
          4.93534280546133e-07,
          4.5128431149186756e-08
         ]
        },
        {
         "mode": "lines",
         "name": "AFC Bournemouth",
         "type": "scatter",
         "x": [
          0,
          1,
          2,
          3,
          4,
          5,
          6,
          7,
          8,
          9,
          10
         ],
         "y": [
          0.5039968881753006,
          0.3453312011571504,
          0.11830791150754226,
          0.02702094275172261,
          0.004628587415804336,
          0.0006342879051287422,
          7.243411262272673e-05,
          7.090111553018224e-06,
          6.072549246798016e-07,
          4.6231342002371714e-08,
          3.167703063125469e-09
         ]
        }
       ],
       "layout": {}
      },
      "text/html": [
       "<div id=\"b784750d-3b30-404a-85f2-ea4d7a79ee6e\" style=\"height: 525px; width: 100%;\" class=\"plotly-graph-div\"></div><script type=\"text/javascript\">require([\"plotly\"], function(Plotly) { window.PLOTLYENV=window.PLOTLYENV || {};window.PLOTLYENV.BASE_URL=\"https://plot.ly\";Plotly.newPlot(\"b784750d-3b30-404a-85f2-ea4d7a79ee6e\", [{\"x\": [0, 1, 2, 3, 4, 5, 6, 7, 8, 9, 10], \"type\": \"scatter\", \"y\": [0.40075979716079335, 0.3664519695272182, 0.16754056534829817, 0.051065975664681636, 0.011673593191436961, 0.0021348504749069182, 0.00032534873620813557, 4.249951717117515e-05, 4.8576578419505005e-06, 4.93534280546133e-07, 4.5128431149186756e-08], \"mode\": \"lines\", \"name\": \"Burnley FC\"}, {\"x\": [0, 1, 2, 3, 4, 5, 6, 7, 8, 9, 10], \"type\": \"scatter\", \"y\": [0.5039968881753006, 0.3453312011571504, 0.11830791150754226, 0.02702094275172261, 0.004628587415804336, 0.0006342879051287422, 7.243411262272673e-05, 7.090111553018224e-06, 6.072549246798016e-07, 4.6231342002371714e-08, 3.167703063125469e-09], \"mode\": \"lines\", \"name\": \"AFC Bournemouth\"}], {}, {\"linkText\": \"Export to plot.ly\", \"showLink\": true})});</script>"
      ],
      "text/vnd.plotly.v1+html": [
       "<div id=\"b784750d-3b30-404a-85f2-ea4d7a79ee6e\" style=\"height: 525px; width: 100%;\" class=\"plotly-graph-div\"></div><script type=\"text/javascript\">require([\"plotly\"], function(Plotly) { window.PLOTLYENV=window.PLOTLYENV || {};window.PLOTLYENV.BASE_URL=\"https://plot.ly\";Plotly.newPlot(\"b784750d-3b30-404a-85f2-ea4d7a79ee6e\", [{\"x\": [0, 1, 2, 3, 4, 5, 6, 7, 8, 9, 10], \"type\": \"scatter\", \"y\": [0.40075979716079335, 0.3664519695272182, 0.16754056534829817, 0.051065975664681636, 0.011673593191436961, 0.0021348504749069182, 0.00032534873620813557, 4.249951717117515e-05, 4.8576578419505005e-06, 4.93534280546133e-07, 4.5128431149186756e-08], \"mode\": \"lines\", \"name\": \"Burnley FC\"}, {\"x\": [0, 1, 2, 3, 4, 5, 6, 7, 8, 9, 10], \"type\": \"scatter\", \"y\": [0.5039968881753006, 0.3453312011571504, 0.11830791150754226, 0.02702094275172261, 0.004628587415804336, 0.0006342879051287422, 7.243411262272673e-05, 7.090111553018224e-06, 6.072549246798016e-07, 4.6231342002371714e-08, 3.167703063125469e-09], \"mode\": \"lines\", \"name\": \"AFC Bournemouth\"}], {}, {\"linkText\": \"Export to plot.ly\", \"showLink\": true})});</script>"
      ]
     },
     "metadata": {},
     "output_type": "display_data"
    },
    {
     "name": "stdout",
     "output_type": "stream",
     "text": [
      "HHHHHH\n"
     ]
    },
    {
     "data": {
      "application/vnd.plotly.v1+json": {
       "data": [
        {
         "colorscale": [
          [
           0,
           "#00083e"
          ],
          [
           0.5,
           "#ededee"
          ],
          [
           1,
           "#ffffff"
          ]
         ],
         "hoverinfo": "none",
         "opacity": 0.75,
         "showscale": false,
         "type": "heatmap",
         "z": [
          [
           0,
           0
          ],
          [
           0.5,
           0.5
          ],
          [
           1,
           1
          ],
          [
           0.5,
           0.5
          ],
          [
           1,
           1
          ]
         ]
        }
       ],
       "layout": {
        "annotations": [
         {
          "align": "left",
          "font": {
           "color": "#ffffff"
          },
          "showarrow": false,
          "text": "<b>Result</b>",
          "x": -0.45,
          "xanchor": "left",
          "xref": "x1",
          "y": 0,
          "yref": "y1"
         },
         {
          "align": "left",
          "font": {
           "color": "#ffffff"
          },
          "showarrow": false,
          "text": "<b>Probability</b>",
          "x": 0.55,
          "xanchor": "left",
          "xref": "x1",
          "y": 0,
          "yref": "y1"
         },
         {
          "align": "left",
          "font": {
           "color": "#000000"
          },
          "showarrow": false,
          "text": "Crystal Win",
          "x": -0.45,
          "xanchor": "left",
          "xref": "x1",
          "y": 1,
          "yref": "y1"
         },
         {
          "align": "left",
          "font": {
           "color": "#000000"
          },
          "showarrow": false,
          "text": "0.523139070689",
          "x": 0.55,
          "xanchor": "left",
          "xref": "x1",
          "y": 1,
          "yref": "y1"
         },
         {
          "align": "left",
          "font": {
           "color": "#000000"
          },
          "showarrow": false,
          "text": "West Win",
          "x": -0.45,
          "xanchor": "left",
          "xref": "x1",
          "y": 2,
          "yref": "y1"
         },
         {
          "align": "left",
          "font": {
           "color": "#000000"
          },
          "showarrow": false,
          "text": "0.197855579008",
          "x": 0.55,
          "xanchor": "left",
          "xref": "x1",
          "y": 2,
          "yref": "y1"
         },
         {
          "align": "left",
          "font": {
           "color": "#000000"
          },
          "showarrow": false,
          "text": "Draw",
          "x": -0.45,
          "xanchor": "left",
          "xref": "x1",
          "y": 3,
          "yref": "y1"
         },
         {
          "align": "left",
          "font": {
           "color": "#000000"
          },
          "showarrow": false,
          "text": "0.279005118284",
          "x": 0.55,
          "xanchor": "left",
          "xref": "x1",
          "y": 3,
          "yref": "y1"
         },
         {
          "align": "left",
          "font": {
           "color": "#000000"
          },
          "showarrow": false,
          "text": "Most Probable Score: 1 - 0",
          "x": -0.45,
          "xanchor": "left",
          "xref": "x1",
          "y": 4,
          "yref": "y1"
         },
         {
          "align": "left",
          "font": {
           "color": "#000000"
          },
          "showarrow": false,
          "text": "0.168451159409",
          "x": 0.55,
          "xanchor": "left",
          "xref": "x1",
          "y": 4,
          "yref": "y1"
         }
        ],
        "height": 200,
        "margin": {
         "b": 0,
         "l": 0,
         "r": 0,
         "t": 0
        },
        "xaxis": {
         "dtick": 1,
         "gridwidth": 2,
         "showticklabels": false,
         "tick0": -0.5,
         "ticks": "",
         "zeroline": false
        },
        "yaxis": {
         "autorange": "reversed",
         "dtick": 1,
         "gridwidth": 2,
         "showticklabels": false,
         "tick0": 0.5,
         "ticks": "",
         "zeroline": false
        }
       }
      },
      "text/html": [
       "<div id=\"eaee3b7c-59ec-4226-9eaf-e88bf9a215f8\" style=\"height: 200px; width: 100%;\" class=\"plotly-graph-div\"></div><script type=\"text/javascript\">require([\"plotly\"], function(Plotly) { window.PLOTLYENV=window.PLOTLYENV || {};window.PLOTLYENV.BASE_URL=\"https://plot.ly\";Plotly.newPlot(\"eaee3b7c-59ec-4226-9eaf-e88bf9a215f8\", [{\"hoverinfo\": \"none\", \"z\": [[0, 0], [0.5, 0.5], [1, 1], [0.5, 0.5], [1, 1]], \"showscale\": false, \"opacity\": 0.75, \"type\": \"heatmap\", \"colorscale\": [[0, \"#00083e\"], [0.5, \"#ededee\"], [1, \"#ffffff\"]]}], {\"annotations\": [{\"x\": -0.45, \"showarrow\": false, \"xref\": \"x1\", \"font\": {\"color\": \"#ffffff\"}, \"yref\": \"y1\", \"xanchor\": \"left\", \"text\": \"<b>Result</b>\", \"y\": 0, \"align\": \"left\"}, {\"x\": 0.55, \"showarrow\": false, \"xref\": \"x1\", \"font\": {\"color\": \"#ffffff\"}, \"yref\": \"y1\", \"xanchor\": \"left\", \"text\": \"<b>Probability</b>\", \"y\": 0, \"align\": \"left\"}, {\"x\": -0.45, \"showarrow\": false, \"xref\": \"x1\", \"font\": {\"color\": \"#000000\"}, \"yref\": \"y1\", \"xanchor\": \"left\", \"text\": \"Crystal Win\", \"y\": 1, \"align\": \"left\"}, {\"x\": 0.55, \"showarrow\": false, \"xref\": \"x1\", \"font\": {\"color\": \"#000000\"}, \"yref\": \"y1\", \"xanchor\": \"left\", \"text\": \"0.523139070689\", \"y\": 1, \"align\": \"left\"}, {\"x\": -0.45, \"showarrow\": false, \"xref\": \"x1\", \"font\": {\"color\": \"#000000\"}, \"yref\": \"y1\", \"xanchor\": \"left\", \"text\": \"West Win\", \"y\": 2, \"align\": \"left\"}, {\"x\": 0.55, \"showarrow\": false, \"xref\": \"x1\", \"font\": {\"color\": \"#000000\"}, \"yref\": \"y1\", \"xanchor\": \"left\", \"text\": \"0.197855579008\", \"y\": 2, \"align\": \"left\"}, {\"x\": -0.45, \"showarrow\": false, \"xref\": \"x1\", \"font\": {\"color\": \"#000000\"}, \"yref\": \"y1\", \"xanchor\": \"left\", \"text\": \"Draw\", \"y\": 3, \"align\": \"left\"}, {\"x\": 0.55, \"showarrow\": false, \"xref\": \"x1\", \"font\": {\"color\": \"#000000\"}, \"yref\": \"y1\", \"xanchor\": \"left\", \"text\": \"0.279005118284\", \"y\": 3, \"align\": \"left\"}, {\"x\": -0.45, \"showarrow\": false, \"xref\": \"x1\", \"font\": {\"color\": \"#000000\"}, \"yref\": \"y1\", \"xanchor\": \"left\", \"text\": \"Most Probable Score: 1 - 0\", \"y\": 4, \"align\": \"left\"}, {\"x\": 0.55, \"showarrow\": false, \"xref\": \"x1\", \"font\": {\"color\": \"#000000\"}, \"yref\": \"y1\", \"xanchor\": \"left\", \"text\": \"0.168451159409\", \"y\": 4, \"align\": \"left\"}], \"margin\": {\"r\": 0, \"t\": 0, \"b\": 0, \"l\": 0}, \"yaxis\": {\"tick0\": 0.5, \"gridwidth\": 2, \"dtick\": 1, \"ticks\": \"\", \"zeroline\": false, \"showticklabels\": false, \"autorange\": \"reversed\"}, \"xaxis\": {\"tick0\": -0.5, \"gridwidth\": 2, \"dtick\": 1, \"ticks\": \"\", \"showticklabels\": false, \"zeroline\": false}, \"height\": 200}, {\"linkText\": \"Export to plot.ly\", \"showLink\": true})});</script>"
      ],
      "text/vnd.plotly.v1+html": [
       "<div id=\"eaee3b7c-59ec-4226-9eaf-e88bf9a215f8\" style=\"height: 200px; width: 100%;\" class=\"plotly-graph-div\"></div><script type=\"text/javascript\">require([\"plotly\"], function(Plotly) { window.PLOTLYENV=window.PLOTLYENV || {};window.PLOTLYENV.BASE_URL=\"https://plot.ly\";Plotly.newPlot(\"eaee3b7c-59ec-4226-9eaf-e88bf9a215f8\", [{\"hoverinfo\": \"none\", \"z\": [[0, 0], [0.5, 0.5], [1, 1], [0.5, 0.5], [1, 1]], \"showscale\": false, \"opacity\": 0.75, \"type\": \"heatmap\", \"colorscale\": [[0, \"#00083e\"], [0.5, \"#ededee\"], [1, \"#ffffff\"]]}], {\"annotations\": [{\"x\": -0.45, \"showarrow\": false, \"xref\": \"x1\", \"font\": {\"color\": \"#ffffff\"}, \"yref\": \"y1\", \"xanchor\": \"left\", \"text\": \"<b>Result</b>\", \"y\": 0, \"align\": \"left\"}, {\"x\": 0.55, \"showarrow\": false, \"xref\": \"x1\", \"font\": {\"color\": \"#ffffff\"}, \"yref\": \"y1\", \"xanchor\": \"left\", \"text\": \"<b>Probability</b>\", \"y\": 0, \"align\": \"left\"}, {\"x\": -0.45, \"showarrow\": false, \"xref\": \"x1\", \"font\": {\"color\": \"#000000\"}, \"yref\": \"y1\", \"xanchor\": \"left\", \"text\": \"Crystal Win\", \"y\": 1, \"align\": \"left\"}, {\"x\": 0.55, \"showarrow\": false, \"xref\": \"x1\", \"font\": {\"color\": \"#000000\"}, \"yref\": \"y1\", \"xanchor\": \"left\", \"text\": \"0.523139070689\", \"y\": 1, \"align\": \"left\"}, {\"x\": -0.45, \"showarrow\": false, \"xref\": \"x1\", \"font\": {\"color\": \"#000000\"}, \"yref\": \"y1\", \"xanchor\": \"left\", \"text\": \"West Win\", \"y\": 2, \"align\": \"left\"}, {\"x\": 0.55, \"showarrow\": false, \"xref\": \"x1\", \"font\": {\"color\": \"#000000\"}, \"yref\": \"y1\", \"xanchor\": \"left\", \"text\": \"0.197855579008\", \"y\": 2, \"align\": \"left\"}, {\"x\": -0.45, \"showarrow\": false, \"xref\": \"x1\", \"font\": {\"color\": \"#000000\"}, \"yref\": \"y1\", \"xanchor\": \"left\", \"text\": \"Draw\", \"y\": 3, \"align\": \"left\"}, {\"x\": 0.55, \"showarrow\": false, \"xref\": \"x1\", \"font\": {\"color\": \"#000000\"}, \"yref\": \"y1\", \"xanchor\": \"left\", \"text\": \"0.279005118284\", \"y\": 3, \"align\": \"left\"}, {\"x\": -0.45, \"showarrow\": false, \"xref\": \"x1\", \"font\": {\"color\": \"#000000\"}, \"yref\": \"y1\", \"xanchor\": \"left\", \"text\": \"Most Probable Score: 1 - 0\", \"y\": 4, \"align\": \"left\"}, {\"x\": 0.55, \"showarrow\": false, \"xref\": \"x1\", \"font\": {\"color\": \"#000000\"}, \"yref\": \"y1\", \"xanchor\": \"left\", \"text\": \"0.168451159409\", \"y\": 4, \"align\": \"left\"}], \"margin\": {\"r\": 0, \"t\": 0, \"b\": 0, \"l\": 0}, \"yaxis\": {\"tick0\": 0.5, \"gridwidth\": 2, \"dtick\": 1, \"ticks\": \"\", \"zeroline\": false, \"showticklabels\": false, \"autorange\": \"reversed\"}, \"xaxis\": {\"tick0\": -0.5, \"gridwidth\": 2, \"dtick\": 1, \"ticks\": \"\", \"showticklabels\": false, \"zeroline\": false}, \"height\": 200}, {\"linkText\": \"Export to plot.ly\", \"showLink\": true})});</script>"
      ]
     },
     "metadata": {},
     "output_type": "display_data"
    },
    {
     "data": {
      "application/vnd.plotly.v1+json": {
       "data": [
        {
         "mode": "lines",
         "name": "Crystal Palace FC",
         "type": "scatter",
         "x": [
          0,
          1,
          2,
          3,
          4,
          5,
          6,
          7,
          8,
          9,
          10
         ],
         "y": [
          0.25370336187342124,
          0.34797688275936334,
          0.238640729946924,
          0.1091057113488062,
          0.03741206368536689,
          0.010262799201946731,
          0.0023460580421611125,
          0.0004596898171917958,
          7.881321932503171e-05,
          1.2011043211357309e-05,
          1.6474221486514697e-06
         ]
        },
        {
         "mode": "lines",
         "name": "West Bromwich Albion FC",
         "type": "scatter",
         "x": [
          0,
          1,
          2,
          3,
          4,
          5,
          6,
          7,
          8,
          9,
          10
         ],
         "y": [
          0.4840872131311726,
          0.35120052717359584,
          0.12739626966101025,
          0.03080824821867569,
          0.005587770510250004,
          0.0008107745446245104,
          9.803483055917283e-05,
          1.01604726349843e-05,
          9.214154105255371e-07,
          7.427531631687339e-08,
          5.388601379851598e-09
         ]
        }
       ],
       "layout": {}
      },
      "text/html": [
       "<div id=\"e66d9178-7ffa-4801-a73a-3df872d60408\" style=\"height: 525px; width: 100%;\" class=\"plotly-graph-div\"></div><script type=\"text/javascript\">require([\"plotly\"], function(Plotly) { window.PLOTLYENV=window.PLOTLYENV || {};window.PLOTLYENV.BASE_URL=\"https://plot.ly\";Plotly.newPlot(\"e66d9178-7ffa-4801-a73a-3df872d60408\", [{\"x\": [0, 1, 2, 3, 4, 5, 6, 7, 8, 9, 10], \"type\": \"scatter\", \"y\": [0.25370336187342124, 0.34797688275936334, 0.238640729946924, 0.1091057113488062, 0.03741206368536689, 0.010262799201946731, 0.0023460580421611125, 0.0004596898171917958, 7.881321932503171e-05, 1.2011043211357309e-05, 1.6474221486514697e-06], \"mode\": \"lines\", \"name\": \"Crystal Palace FC\"}, {\"x\": [0, 1, 2, 3, 4, 5, 6, 7, 8, 9, 10], \"type\": \"scatter\", \"y\": [0.4840872131311726, 0.35120052717359584, 0.12739626966101025, 0.03080824821867569, 0.005587770510250004, 0.0008107745446245104, 9.803483055917283e-05, 1.01604726349843e-05, 9.214154105255371e-07, 7.427531631687339e-08, 5.388601379851598e-09], \"mode\": \"lines\", \"name\": \"West Bromwich Albion FC\"}], {}, {\"linkText\": \"Export to plot.ly\", \"showLink\": true})});</script>"
      ],
      "text/vnd.plotly.v1+html": [
       "<div id=\"e66d9178-7ffa-4801-a73a-3df872d60408\" style=\"height: 525px; width: 100%;\" class=\"plotly-graph-div\"></div><script type=\"text/javascript\">require([\"plotly\"], function(Plotly) { window.PLOTLYENV=window.PLOTLYENV || {};window.PLOTLYENV.BASE_URL=\"https://plot.ly\";Plotly.newPlot(\"e66d9178-7ffa-4801-a73a-3df872d60408\", [{\"x\": [0, 1, 2, 3, 4, 5, 6, 7, 8, 9, 10], \"type\": \"scatter\", \"y\": [0.25370336187342124, 0.34797688275936334, 0.238640729946924, 0.1091057113488062, 0.03741206368536689, 0.010262799201946731, 0.0023460580421611125, 0.0004596898171917958, 7.881321932503171e-05, 1.2011043211357309e-05, 1.6474221486514697e-06], \"mode\": \"lines\", \"name\": \"Crystal Palace FC\"}, {\"x\": [0, 1, 2, 3, 4, 5, 6, 7, 8, 9, 10], \"type\": \"scatter\", \"y\": [0.4840872131311726, 0.35120052717359584, 0.12739626966101025, 0.03080824821867569, 0.005587770510250004, 0.0008107745446245104, 9.803483055917283e-05, 1.01604726349843e-05, 9.214154105255371e-07, 7.427531631687339e-08, 5.388601379851598e-09], \"mode\": \"lines\", \"name\": \"West Bromwich Albion FC\"}], {}, {\"linkText\": \"Export to plot.ly\", \"showLink\": true})});</script>"
      ]
     },
     "metadata": {},
     "output_type": "display_data"
    },
    {
     "name": "stdout",
     "output_type": "stream",
     "text": [
      "HHHHHH\n"
     ]
    },
    {
     "data": {
      "application/vnd.plotly.v1+json": {
       "data": [
        {
         "colorscale": [
          [
           0,
           "#00083e"
          ],
          [
           0.5,
           "#ededee"
          ],
          [
           1,
           "#ffffff"
          ]
         ],
         "hoverinfo": "none",
         "opacity": 0.75,
         "showscale": false,
         "type": "heatmap",
         "z": [
          [
           0,
           0
          ],
          [
           0.5,
           0.5
          ],
          [
           1,
           1
          ],
          [
           0.5,
           0.5
          ],
          [
           1,
           1
          ]
         ]
        }
       ],
       "layout": {
        "annotations": [
         {
          "align": "left",
          "font": {
           "color": "#ffffff"
          },
          "showarrow": false,
          "text": "<b>Result</b>",
          "x": -0.45,
          "xanchor": "left",
          "xref": "x1",
          "y": 0,
          "yref": "y1"
         },
         {
          "align": "left",
          "font": {
           "color": "#ffffff"
          },
          "showarrow": false,
          "text": "<b>Probability</b>",
          "x": 0.55,
          "xanchor": "left",
          "xref": "x1",
          "y": 0,
          "yref": "y1"
         },
         {
          "align": "left",
          "font": {
           "color": "#000000"
          },
          "showarrow": false,
          "text": "Huddersfield Win",
          "x": -0.45,
          "xanchor": "left",
          "xref": "x1",
          "y": 1,
          "yref": "y1"
         },
         {
          "align": "left",
          "font": {
           "color": "#000000"
          },
          "showarrow": false,
          "text": "0.302494722813",
          "x": 0.55,
          "xanchor": "left",
          "xref": "x1",
          "y": 1,
          "yref": "y1"
         },
         {
          "align": "left",
          "font": {
           "color": "#000000"
          },
          "showarrow": false,
          "text": "Arsenal Win",
          "x": -0.45,
          "xanchor": "left",
          "xref": "x1",
          "y": 2,
          "yref": "y1"
         },
         {
          "align": "left",
          "font": {
           "color": "#000000"
          },
          "showarrow": false,
          "text": "0.411012499531",
          "x": 0.55,
          "xanchor": "left",
          "xref": "x1",
          "y": 2,
          "yref": "y1"
         },
         {
          "align": "left",
          "font": {
           "color": "#000000"
          },
          "showarrow": false,
          "text": "Draw",
          "x": -0.45,
          "xanchor": "left",
          "xref": "x1",
          "y": 3,
          "yref": "y1"
         },
         {
          "align": "left",
          "font": {
           "color": "#000000"
          },
          "showarrow": false,
          "text": "0.286492690287",
          "x": 0.55,
          "xanchor": "left",
          "xref": "x1",
          "y": 3,
          "yref": "y1"
         },
         {
          "align": "left",
          "font": {
           "color": "#000000"
          },
          "showarrow": false,
          "text": "Most Probable Score: 1 - 1",
          "x": -0.45,
          "xanchor": "left",
          "xref": "x1",
          "y": 4,
          "yref": "y1"
         },
         {
          "align": "left",
          "font": {
           "color": "#000000"
          },
          "showarrow": false,
          "text": "0.132371890771",
          "x": 0.55,
          "xanchor": "left",
          "xref": "x1",
          "y": 4,
          "yref": "y1"
         }
        ],
        "height": 200,
        "margin": {
         "b": 0,
         "l": 0,
         "r": 0,
         "t": 0
        },
        "xaxis": {
         "dtick": 1,
         "gridwidth": 2,
         "showticklabels": false,
         "tick0": -0.5,
         "ticks": "",
         "zeroline": false
        },
        "yaxis": {
         "autorange": "reversed",
         "dtick": 1,
         "gridwidth": 2,
         "showticklabels": false,
         "tick0": 0.5,
         "ticks": "",
         "zeroline": false
        }
       }
      },
      "text/html": [
       "<div id=\"4e70f815-588c-4537-a93e-d8d1a8c0edc0\" style=\"height: 200px; width: 100%;\" class=\"plotly-graph-div\"></div><script type=\"text/javascript\">require([\"plotly\"], function(Plotly) { window.PLOTLYENV=window.PLOTLYENV || {};window.PLOTLYENV.BASE_URL=\"https://plot.ly\";Plotly.newPlot(\"4e70f815-588c-4537-a93e-d8d1a8c0edc0\", [{\"hoverinfo\": \"none\", \"z\": [[0, 0], [0.5, 0.5], [1, 1], [0.5, 0.5], [1, 1]], \"showscale\": false, \"opacity\": 0.75, \"type\": \"heatmap\", \"colorscale\": [[0, \"#00083e\"], [0.5, \"#ededee\"], [1, \"#ffffff\"]]}], {\"annotations\": [{\"x\": -0.45, \"showarrow\": false, \"xref\": \"x1\", \"font\": {\"color\": \"#ffffff\"}, \"yref\": \"y1\", \"xanchor\": \"left\", \"text\": \"<b>Result</b>\", \"y\": 0, \"align\": \"left\"}, {\"x\": 0.55, \"showarrow\": false, \"xref\": \"x1\", \"font\": {\"color\": \"#ffffff\"}, \"yref\": \"y1\", \"xanchor\": \"left\", \"text\": \"<b>Probability</b>\", \"y\": 0, \"align\": \"left\"}, {\"x\": -0.45, \"showarrow\": false, \"xref\": \"x1\", \"font\": {\"color\": \"#000000\"}, \"yref\": \"y1\", \"xanchor\": \"left\", \"text\": \"Huddersfield Win\", \"y\": 1, \"align\": \"left\"}, {\"x\": 0.55, \"showarrow\": false, \"xref\": \"x1\", \"font\": {\"color\": \"#000000\"}, \"yref\": \"y1\", \"xanchor\": \"left\", \"text\": \"0.302494722813\", \"y\": 1, \"align\": \"left\"}, {\"x\": -0.45, \"showarrow\": false, \"xref\": \"x1\", \"font\": {\"color\": \"#000000\"}, \"yref\": \"y1\", \"xanchor\": \"left\", \"text\": \"Arsenal Win\", \"y\": 2, \"align\": \"left\"}, {\"x\": 0.55, \"showarrow\": false, \"xref\": \"x1\", \"font\": {\"color\": \"#000000\"}, \"yref\": \"y1\", \"xanchor\": \"left\", \"text\": \"0.411012499531\", \"y\": 2, \"align\": \"left\"}, {\"x\": -0.45, \"showarrow\": false, \"xref\": \"x1\", \"font\": {\"color\": \"#000000\"}, \"yref\": \"y1\", \"xanchor\": \"left\", \"text\": \"Draw\", \"y\": 3, \"align\": \"left\"}, {\"x\": 0.55, \"showarrow\": false, \"xref\": \"x1\", \"font\": {\"color\": \"#000000\"}, \"yref\": \"y1\", \"xanchor\": \"left\", \"text\": \"0.286492690287\", \"y\": 3, \"align\": \"left\"}, {\"x\": -0.45, \"showarrow\": false, \"xref\": \"x1\", \"font\": {\"color\": \"#000000\"}, \"yref\": \"y1\", \"xanchor\": \"left\", \"text\": \"Most Probable Score: 1 - 1\", \"y\": 4, \"align\": \"left\"}, {\"x\": 0.55, \"showarrow\": false, \"xref\": \"x1\", \"font\": {\"color\": \"#000000\"}, \"yref\": \"y1\", \"xanchor\": \"left\", \"text\": \"0.132371890771\", \"y\": 4, \"align\": \"left\"}], \"margin\": {\"r\": 0, \"t\": 0, \"b\": 0, \"l\": 0}, \"yaxis\": {\"tick0\": 0.5, \"gridwidth\": 2, \"dtick\": 1, \"ticks\": \"\", \"zeroline\": false, \"showticklabels\": false, \"autorange\": \"reversed\"}, \"xaxis\": {\"tick0\": -0.5, \"gridwidth\": 2, \"dtick\": 1, \"ticks\": \"\", \"showticklabels\": false, \"zeroline\": false}, \"height\": 200}, {\"linkText\": \"Export to plot.ly\", \"showLink\": true})});</script>"
      ],
      "text/vnd.plotly.v1+html": [
       "<div id=\"4e70f815-588c-4537-a93e-d8d1a8c0edc0\" style=\"height: 200px; width: 100%;\" class=\"plotly-graph-div\"></div><script type=\"text/javascript\">require([\"plotly\"], function(Plotly) { window.PLOTLYENV=window.PLOTLYENV || {};window.PLOTLYENV.BASE_URL=\"https://plot.ly\";Plotly.newPlot(\"4e70f815-588c-4537-a93e-d8d1a8c0edc0\", [{\"hoverinfo\": \"none\", \"z\": [[0, 0], [0.5, 0.5], [1, 1], [0.5, 0.5], [1, 1]], \"showscale\": false, \"opacity\": 0.75, \"type\": \"heatmap\", \"colorscale\": [[0, \"#00083e\"], [0.5, \"#ededee\"], [1, \"#ffffff\"]]}], {\"annotations\": [{\"x\": -0.45, \"showarrow\": false, \"xref\": \"x1\", \"font\": {\"color\": \"#ffffff\"}, \"yref\": \"y1\", \"xanchor\": \"left\", \"text\": \"<b>Result</b>\", \"y\": 0, \"align\": \"left\"}, {\"x\": 0.55, \"showarrow\": false, \"xref\": \"x1\", \"font\": {\"color\": \"#ffffff\"}, \"yref\": \"y1\", \"xanchor\": \"left\", \"text\": \"<b>Probability</b>\", \"y\": 0, \"align\": \"left\"}, {\"x\": -0.45, \"showarrow\": false, \"xref\": \"x1\", \"font\": {\"color\": \"#000000\"}, \"yref\": \"y1\", \"xanchor\": \"left\", \"text\": \"Huddersfield Win\", \"y\": 1, \"align\": \"left\"}, {\"x\": 0.55, \"showarrow\": false, \"xref\": \"x1\", \"font\": {\"color\": \"#000000\"}, \"yref\": \"y1\", \"xanchor\": \"left\", \"text\": \"0.302494722813\", \"y\": 1, \"align\": \"left\"}, {\"x\": -0.45, \"showarrow\": false, \"xref\": \"x1\", \"font\": {\"color\": \"#000000\"}, \"yref\": \"y1\", \"xanchor\": \"left\", \"text\": \"Arsenal Win\", \"y\": 2, \"align\": \"left\"}, {\"x\": 0.55, \"showarrow\": false, \"xref\": \"x1\", \"font\": {\"color\": \"#000000\"}, \"yref\": \"y1\", \"xanchor\": \"left\", \"text\": \"0.411012499531\", \"y\": 2, \"align\": \"left\"}, {\"x\": -0.45, \"showarrow\": false, \"xref\": \"x1\", \"font\": {\"color\": \"#000000\"}, \"yref\": \"y1\", \"xanchor\": \"left\", \"text\": \"Draw\", \"y\": 3, \"align\": \"left\"}, {\"x\": 0.55, \"showarrow\": false, \"xref\": \"x1\", \"font\": {\"color\": \"#000000\"}, \"yref\": \"y1\", \"xanchor\": \"left\", \"text\": \"0.286492690287\", \"y\": 3, \"align\": \"left\"}, {\"x\": -0.45, \"showarrow\": false, \"xref\": \"x1\", \"font\": {\"color\": \"#000000\"}, \"yref\": \"y1\", \"xanchor\": \"left\", \"text\": \"Most Probable Score: 1 - 1\", \"y\": 4, \"align\": \"left\"}, {\"x\": 0.55, \"showarrow\": false, \"xref\": \"x1\", \"font\": {\"color\": \"#000000\"}, \"yref\": \"y1\", \"xanchor\": \"left\", \"text\": \"0.132371890771\", \"y\": 4, \"align\": \"left\"}], \"margin\": {\"r\": 0, \"t\": 0, \"b\": 0, \"l\": 0}, \"yaxis\": {\"tick0\": 0.5, \"gridwidth\": 2, \"dtick\": 1, \"ticks\": \"\", \"zeroline\": false, \"showticklabels\": false, \"autorange\": \"reversed\"}, \"xaxis\": {\"tick0\": -0.5, \"gridwidth\": 2, \"dtick\": 1, \"ticks\": \"\", \"showticklabels\": false, \"zeroline\": false}, \"height\": 200}, {\"linkText\": \"Export to plot.ly\", \"showLink\": true})});</script>"
      ]
     },
     "metadata": {},
     "output_type": "display_data"
    },
    {
     "data": {
      "application/vnd.plotly.v1+json": {
       "data": [
        {
         "mode": "lines",
         "name": "Huddersfield Town",
         "type": "scatter",
         "x": [
          0,
          1,
          2,
          3,
          4,
          5,
          6,
          7,
          8,
          9,
          10
         ],
         "y": [
          0.3649976625709828,
          0.36786812439604344,
          0.1853805802391203,
          0.062279491391494496,
          0.015692319455657522,
          0.003163145804778204,
          0.0005313369708537409,
          7.650222568293394e-05,
          9.637983047573174e-06,
          1.0793088133763336e-06,
          1.0877968533391806e-07
         ]
        },
        {
         "mode": "lines",
         "name": "Arsenal FC",
         "type": "scatter",
         "x": [
          0,
          1,
          2,
          3,
          4,
          5,
          6,
          7,
          8,
          9,
          10
         ],
         "y": [
          0.2936777118419786,
          0.3598351745967946,
          0.2204480416048336,
          0.0900362952785464,
          0.027579745351118998,
          0.006758539775803625,
          0.0013801752977167605,
          0.00024158437206221782,
          3.7000830840901766e-05,
          5.037343806565759e-06,
          6.172117988698436e-07
         ]
        }
       ],
       "layout": {}
      },
      "text/html": [
       "<div id=\"c9eff218-3286-4415-9d55-5ff77d14fd88\" style=\"height: 525px; width: 100%;\" class=\"plotly-graph-div\"></div><script type=\"text/javascript\">require([\"plotly\"], function(Plotly) { window.PLOTLYENV=window.PLOTLYENV || {};window.PLOTLYENV.BASE_URL=\"https://plot.ly\";Plotly.newPlot(\"c9eff218-3286-4415-9d55-5ff77d14fd88\", [{\"x\": [0, 1, 2, 3, 4, 5, 6, 7, 8, 9, 10], \"type\": \"scatter\", \"y\": [0.3649976625709828, 0.36786812439604344, 0.1853805802391203, 0.062279491391494496, 0.015692319455657522, 0.003163145804778204, 0.0005313369708537409, 7.650222568293394e-05, 9.637983047573174e-06, 1.0793088133763336e-06, 1.0877968533391806e-07], \"mode\": \"lines\", \"name\": \"Huddersfield Town\"}, {\"x\": [0, 1, 2, 3, 4, 5, 6, 7, 8, 9, 10], \"type\": \"scatter\", \"y\": [0.2936777118419786, 0.3598351745967946, 0.2204480416048336, 0.0900362952785464, 0.027579745351118998, 0.006758539775803625, 0.0013801752977167605, 0.00024158437206221782, 3.7000830840901766e-05, 5.037343806565759e-06, 6.172117988698436e-07], \"mode\": \"lines\", \"name\": \"Arsenal FC\"}], {}, {\"linkText\": \"Export to plot.ly\", \"showLink\": true})});</script>"
      ],
      "text/vnd.plotly.v1+html": [
       "<div id=\"c9eff218-3286-4415-9d55-5ff77d14fd88\" style=\"height: 525px; width: 100%;\" class=\"plotly-graph-div\"></div><script type=\"text/javascript\">require([\"plotly\"], function(Plotly) { window.PLOTLYENV=window.PLOTLYENV || {};window.PLOTLYENV.BASE_URL=\"https://plot.ly\";Plotly.newPlot(\"c9eff218-3286-4415-9d55-5ff77d14fd88\", [{\"x\": [0, 1, 2, 3, 4, 5, 6, 7, 8, 9, 10], \"type\": \"scatter\", \"y\": [0.3649976625709828, 0.36786812439604344, 0.1853805802391203, 0.062279491391494496, 0.015692319455657522, 0.003163145804778204, 0.0005313369708537409, 7.650222568293394e-05, 9.637983047573174e-06, 1.0793088133763336e-06, 1.0877968533391806e-07], \"mode\": \"lines\", \"name\": \"Huddersfield Town\"}, {\"x\": [0, 1, 2, 3, 4, 5, 6, 7, 8, 9, 10], \"type\": \"scatter\", \"y\": [0.2936777118419786, 0.3598351745967946, 0.2204480416048336, 0.0900362952785464, 0.027579745351118998, 0.006758539775803625, 0.0013801752977167605, 0.00024158437206221782, 3.7000830840901766e-05, 5.037343806565759e-06, 6.172117988698436e-07], \"mode\": \"lines\", \"name\": \"Arsenal FC\"}], {}, {\"linkText\": \"Export to plot.ly\", \"showLink\": true})});</script>"
      ]
     },
     "metadata": {},
     "output_type": "display_data"
    },
    {
     "name": "stdout",
     "output_type": "stream",
     "text": [
      "HHHHHH\n"
     ]
    },
    {
     "data": {
      "application/vnd.plotly.v1+json": {
       "data": [
        {
         "colorscale": [
          [
           0,
           "#00083e"
          ],
          [
           0.5,
           "#ededee"
          ],
          [
           1,
           "#ffffff"
          ]
         ],
         "hoverinfo": "none",
         "opacity": 0.75,
         "showscale": false,
         "type": "heatmap",
         "z": [
          [
           0,
           0
          ],
          [
           0.5,
           0.5
          ],
          [
           1,
           1
          ],
          [
           0.5,
           0.5
          ],
          [
           1,
           1
          ]
         ]
        }
       ],
       "layout": {
        "annotations": [
         {
          "align": "left",
          "font": {
           "color": "#ffffff"
          },
          "showarrow": false,
          "text": "<b>Result</b>",
          "x": -0.45,
          "xanchor": "left",
          "xref": "x1",
          "y": 0,
          "yref": "y1"
         },
         {
          "align": "left",
          "font": {
           "color": "#ffffff"
          },
          "showarrow": false,
          "text": "<b>Probability</b>",
          "x": 0.55,
          "xanchor": "left",
          "xref": "x1",
          "y": 0,
          "yref": "y1"
         },
         {
          "align": "left",
          "font": {
           "color": "#000000"
          },
          "showarrow": false,
          "text": "Liverpool Win",
          "x": -0.45,
          "xanchor": "left",
          "xref": "x1",
          "y": 1,
          "yref": "y1"
         },
         {
          "align": "left",
          "font": {
           "color": "#000000"
          },
          "showarrow": false,
          "text": "0.805578966067",
          "x": 0.55,
          "xanchor": "left",
          "xref": "x1",
          "y": 1,
          "yref": "y1"
         },
         {
          "align": "left",
          "font": {
           "color": "#000000"
          },
          "showarrow": false,
          "text": "Brighton Win",
          "x": -0.45,
          "xanchor": "left",
          "xref": "x1",
          "y": 2,
          "yref": "y1"
         },
         {
          "align": "left",
          "font": {
           "color": "#000000"
          },
          "showarrow": false,
          "text": "0.0379510115053",
          "x": 0.55,
          "xanchor": "left",
          "xref": "x1",
          "y": 2,
          "yref": "y1"
         },
         {
          "align": "left",
          "font": {
           "color": "#000000"
          },
          "showarrow": false,
          "text": "Draw",
          "x": -0.45,
          "xanchor": "left",
          "xref": "x1",
          "y": 3,
          "yref": "y1"
         },
         {
          "align": "left",
          "font": {
           "color": "#000000"
          },
          "showarrow": false,
          "text": "0.156457977676",
          "x": 0.55,
          "xanchor": "left",
          "xref": "x1",
          "y": 3,
          "yref": "y1"
         },
         {
          "align": "left",
          "font": {
           "color": "#000000"
          },
          "showarrow": false,
          "text": "Most Probable Score: 2 - 0",
          "x": -0.45,
          "xanchor": "left",
          "xref": "x1",
          "y": 4,
          "yref": "y1"
         },
         {
          "align": "left",
          "font": {
           "color": "#000000"
          },
          "showarrow": false,
          "text": "0.206548435737",
          "x": 0.55,
          "xanchor": "left",
          "xref": "x1",
          "y": 4,
          "yref": "y1"
         }
        ],
        "height": 200,
        "margin": {
         "b": 0,
         "l": 0,
         "r": 0,
         "t": 0
        },
        "xaxis": {
         "dtick": 1,
         "gridwidth": 2,
         "showticklabels": false,
         "tick0": -0.5,
         "ticks": "",
         "zeroline": false
        },
        "yaxis": {
         "autorange": "reversed",
         "dtick": 1,
         "gridwidth": 2,
         "showticklabels": false,
         "tick0": 0.5,
         "ticks": "",
         "zeroline": false
        }
       }
      },
      "text/html": [
       "<div id=\"f345036a-0848-4d80-b31a-51d475c286fe\" style=\"height: 200px; width: 100%;\" class=\"plotly-graph-div\"></div><script type=\"text/javascript\">require([\"plotly\"], function(Plotly) { window.PLOTLYENV=window.PLOTLYENV || {};window.PLOTLYENV.BASE_URL=\"https://plot.ly\";Plotly.newPlot(\"f345036a-0848-4d80-b31a-51d475c286fe\", [{\"hoverinfo\": \"none\", \"z\": [[0, 0], [0.5, 0.5], [1, 1], [0.5, 0.5], [1, 1]], \"showscale\": false, \"opacity\": 0.75, \"type\": \"heatmap\", \"colorscale\": [[0, \"#00083e\"], [0.5, \"#ededee\"], [1, \"#ffffff\"]]}], {\"annotations\": [{\"x\": -0.45, \"showarrow\": false, \"xref\": \"x1\", \"font\": {\"color\": \"#ffffff\"}, \"yref\": \"y1\", \"xanchor\": \"left\", \"text\": \"<b>Result</b>\", \"y\": 0, \"align\": \"left\"}, {\"x\": 0.55, \"showarrow\": false, \"xref\": \"x1\", \"font\": {\"color\": \"#ffffff\"}, \"yref\": \"y1\", \"xanchor\": \"left\", \"text\": \"<b>Probability</b>\", \"y\": 0, \"align\": \"left\"}, {\"x\": -0.45, \"showarrow\": false, \"xref\": \"x1\", \"font\": {\"color\": \"#000000\"}, \"yref\": \"y1\", \"xanchor\": \"left\", \"text\": \"Liverpool Win\", \"y\": 1, \"align\": \"left\"}, {\"x\": 0.55, \"showarrow\": false, \"xref\": \"x1\", \"font\": {\"color\": \"#000000\"}, \"yref\": \"y1\", \"xanchor\": \"left\", \"text\": \"0.805578966067\", \"y\": 1, \"align\": \"left\"}, {\"x\": -0.45, \"showarrow\": false, \"xref\": \"x1\", \"font\": {\"color\": \"#000000\"}, \"yref\": \"y1\", \"xanchor\": \"left\", \"text\": \"Brighton Win\", \"y\": 2, \"align\": \"left\"}, {\"x\": 0.55, \"showarrow\": false, \"xref\": \"x1\", \"font\": {\"color\": \"#000000\"}, \"yref\": \"y1\", \"xanchor\": \"left\", \"text\": \"0.0379510115053\", \"y\": 2, \"align\": \"left\"}, {\"x\": -0.45, \"showarrow\": false, \"xref\": \"x1\", \"font\": {\"color\": \"#000000\"}, \"yref\": \"y1\", \"xanchor\": \"left\", \"text\": \"Draw\", \"y\": 3, \"align\": \"left\"}, {\"x\": 0.55, \"showarrow\": false, \"xref\": \"x1\", \"font\": {\"color\": \"#000000\"}, \"yref\": \"y1\", \"xanchor\": \"left\", \"text\": \"0.156457977676\", \"y\": 3, \"align\": \"left\"}, {\"x\": -0.45, \"showarrow\": false, \"xref\": \"x1\", \"font\": {\"color\": \"#000000\"}, \"yref\": \"y1\", \"xanchor\": \"left\", \"text\": \"Most Probable Score: 2 - 0\", \"y\": 4, \"align\": \"left\"}, {\"x\": 0.55, \"showarrow\": false, \"xref\": \"x1\", \"font\": {\"color\": \"#000000\"}, \"yref\": \"y1\", \"xanchor\": \"left\", \"text\": \"0.206548435737\", \"y\": 4, \"align\": \"left\"}], \"margin\": {\"r\": 0, \"t\": 0, \"b\": 0, \"l\": 0}, \"yaxis\": {\"tick0\": 0.5, \"gridwidth\": 2, \"dtick\": 1, \"ticks\": \"\", \"zeroline\": false, \"showticklabels\": false, \"autorange\": \"reversed\"}, \"xaxis\": {\"tick0\": -0.5, \"gridwidth\": 2, \"dtick\": 1, \"ticks\": \"\", \"showticklabels\": false, \"zeroline\": false}, \"height\": 200}, {\"linkText\": \"Export to plot.ly\", \"showLink\": true})});</script>"
      ],
      "text/vnd.plotly.v1+html": [
       "<div id=\"f345036a-0848-4d80-b31a-51d475c286fe\" style=\"height: 200px; width: 100%;\" class=\"plotly-graph-div\"></div><script type=\"text/javascript\">require([\"plotly\"], function(Plotly) { window.PLOTLYENV=window.PLOTLYENV || {};window.PLOTLYENV.BASE_URL=\"https://plot.ly\";Plotly.newPlot(\"f345036a-0848-4d80-b31a-51d475c286fe\", [{\"hoverinfo\": \"none\", \"z\": [[0, 0], [0.5, 0.5], [1, 1], [0.5, 0.5], [1, 1]], \"showscale\": false, \"opacity\": 0.75, \"type\": \"heatmap\", \"colorscale\": [[0, \"#00083e\"], [0.5, \"#ededee\"], [1, \"#ffffff\"]]}], {\"annotations\": [{\"x\": -0.45, \"showarrow\": false, \"xref\": \"x1\", \"font\": {\"color\": \"#ffffff\"}, \"yref\": \"y1\", \"xanchor\": \"left\", \"text\": \"<b>Result</b>\", \"y\": 0, \"align\": \"left\"}, {\"x\": 0.55, \"showarrow\": false, \"xref\": \"x1\", \"font\": {\"color\": \"#ffffff\"}, \"yref\": \"y1\", \"xanchor\": \"left\", \"text\": \"<b>Probability</b>\", \"y\": 0, \"align\": \"left\"}, {\"x\": -0.45, \"showarrow\": false, \"xref\": \"x1\", \"font\": {\"color\": \"#000000\"}, \"yref\": \"y1\", \"xanchor\": \"left\", \"text\": \"Liverpool Win\", \"y\": 1, \"align\": \"left\"}, {\"x\": 0.55, \"showarrow\": false, \"xref\": \"x1\", \"font\": {\"color\": \"#000000\"}, \"yref\": \"y1\", \"xanchor\": \"left\", \"text\": \"0.805578966067\", \"y\": 1, \"align\": \"left\"}, {\"x\": -0.45, \"showarrow\": false, \"xref\": \"x1\", \"font\": {\"color\": \"#000000\"}, \"yref\": \"y1\", \"xanchor\": \"left\", \"text\": \"Brighton Win\", \"y\": 2, \"align\": \"left\"}, {\"x\": 0.55, \"showarrow\": false, \"xref\": \"x1\", \"font\": {\"color\": \"#000000\"}, \"yref\": \"y1\", \"xanchor\": \"left\", \"text\": \"0.0379510115053\", \"y\": 2, \"align\": \"left\"}, {\"x\": -0.45, \"showarrow\": false, \"xref\": \"x1\", \"font\": {\"color\": \"#000000\"}, \"yref\": \"y1\", \"xanchor\": \"left\", \"text\": \"Draw\", \"y\": 3, \"align\": \"left\"}, {\"x\": 0.55, \"showarrow\": false, \"xref\": \"x1\", \"font\": {\"color\": \"#000000\"}, \"yref\": \"y1\", \"xanchor\": \"left\", \"text\": \"0.156457977676\", \"y\": 3, \"align\": \"left\"}, {\"x\": -0.45, \"showarrow\": false, \"xref\": \"x1\", \"font\": {\"color\": \"#000000\"}, \"yref\": \"y1\", \"xanchor\": \"left\", \"text\": \"Most Probable Score: 2 - 0\", \"y\": 4, \"align\": \"left\"}, {\"x\": 0.55, \"showarrow\": false, \"xref\": \"x1\", \"font\": {\"color\": \"#000000\"}, \"yref\": \"y1\", \"xanchor\": \"left\", \"text\": \"0.206548435737\", \"y\": 4, \"align\": \"left\"}], \"margin\": {\"r\": 0, \"t\": 0, \"b\": 0, \"l\": 0}, \"yaxis\": {\"tick0\": 0.5, \"gridwidth\": 2, \"dtick\": 1, \"ticks\": \"\", \"zeroline\": false, \"showticklabels\": false, \"autorange\": \"reversed\"}, \"xaxis\": {\"tick0\": -0.5, \"gridwidth\": 2, \"dtick\": 1, \"ticks\": \"\", \"showticklabels\": false, \"zeroline\": false}, \"height\": 200}, {\"linkText\": \"Export to plot.ly\", \"showLink\": true})});</script>"
      ]
     },
     "metadata": {},
     "output_type": "display_data"
    },
    {
     "data": {
      "application/vnd.plotly.v1+json": {
       "data": [
        {
         "mode": "lines",
         "name": "Liverpool FC",
         "type": "scatter",
         "x": [
          0,
          1,
          2,
          3,
          4,
          5,
          6,
          7,
          8,
          9,
          10
         ],
         "y": [
          0.12458287170577925,
          0.2594792303414655,
          0.2702196138872435,
          0.18760304279018403,
          0.0976841609251808,
          0.04069100438345725,
          0.01412509648487376,
          0.004202789578891504,
          0.0010941879392070062,
          0.0002532174772297259,
          5.27397347652638e-05
         ]
        },
        {
         "mode": "lines",
         "name": "Brighton & Hove Albion",
         "type": "scatter",
         "x": [
          0,
          1,
          2,
          3,
          4,
          5,
          6,
          7,
          8,
          9,
          10
         ],
         "y": [
          0.764372477504793,
          0.20538694021552173,
          0.02759374287572369,
          0.0024714802382032838,
          0.00016602172987204337,
          8.922010174677712e-06,
          3.9955746364448727e-07,
          1.533730278539893e-08,
          5.151417965320991e-10,
          1.537984868206864e-11,
          4.132566457781698e-13
         ]
        }
       ],
       "layout": {}
      },
      "text/html": [
       "<div id=\"19a902f8-7493-4d8e-bf38-9150b7c91113\" style=\"height: 525px; width: 100%;\" class=\"plotly-graph-div\"></div><script type=\"text/javascript\">require([\"plotly\"], function(Plotly) { window.PLOTLYENV=window.PLOTLYENV || {};window.PLOTLYENV.BASE_URL=\"https://plot.ly\";Plotly.newPlot(\"19a902f8-7493-4d8e-bf38-9150b7c91113\", [{\"x\": [0, 1, 2, 3, 4, 5, 6, 7, 8, 9, 10], \"type\": \"scatter\", \"y\": [0.12458287170577925, 0.2594792303414655, 0.2702196138872435, 0.18760304279018403, 0.0976841609251808, 0.04069100438345725, 0.01412509648487376, 0.004202789578891504, 0.0010941879392070062, 0.0002532174772297259, 5.27397347652638e-05], \"mode\": \"lines\", \"name\": \"Liverpool FC\"}, {\"x\": [0, 1, 2, 3, 4, 5, 6, 7, 8, 9, 10], \"type\": \"scatter\", \"y\": [0.764372477504793, 0.20538694021552173, 0.02759374287572369, 0.0024714802382032838, 0.00016602172987204337, 8.922010174677712e-06, 3.9955746364448727e-07, 1.533730278539893e-08, 5.151417965320991e-10, 1.537984868206864e-11, 4.132566457781698e-13], \"mode\": \"lines\", \"name\": \"Brighton & Hove Albion\"}], {}, {\"linkText\": \"Export to plot.ly\", \"showLink\": true})});</script>"
      ],
      "text/vnd.plotly.v1+html": [
       "<div id=\"19a902f8-7493-4d8e-bf38-9150b7c91113\" style=\"height: 525px; width: 100%;\" class=\"plotly-graph-div\"></div><script type=\"text/javascript\">require([\"plotly\"], function(Plotly) { window.PLOTLYENV=window.PLOTLYENV || {};window.PLOTLYENV.BASE_URL=\"https://plot.ly\";Plotly.newPlot(\"19a902f8-7493-4d8e-bf38-9150b7c91113\", [{\"x\": [0, 1, 2, 3, 4, 5, 6, 7, 8, 9, 10], \"type\": \"scatter\", \"y\": [0.12458287170577925, 0.2594792303414655, 0.2702196138872435, 0.18760304279018403, 0.0976841609251808, 0.04069100438345725, 0.01412509648487376, 0.004202789578891504, 0.0010941879392070062, 0.0002532174772297259, 5.27397347652638e-05], \"mode\": \"lines\", \"name\": \"Liverpool FC\"}, {\"x\": [0, 1, 2, 3, 4, 5, 6, 7, 8, 9, 10], \"type\": \"scatter\", \"y\": [0.764372477504793, 0.20538694021552173, 0.02759374287572369, 0.0024714802382032838, 0.00016602172987204337, 8.922010174677712e-06, 3.9955746364448727e-07, 1.533730278539893e-08, 5.151417965320991e-10, 1.537984868206864e-11, 4.132566457781698e-13], \"mode\": \"lines\", \"name\": \"Brighton & Hove Albion\"}], {}, {\"linkText\": \"Export to plot.ly\", \"showLink\": true})});</script>"
      ]
     },
     "metadata": {},
     "output_type": "display_data"
    },
    {
     "name": "stdout",
     "output_type": "stream",
     "text": [
      "HHHHHH\n"
     ]
    },
    {
     "data": {
      "application/vnd.plotly.v1+json": {
       "data": [
        {
         "colorscale": [
          [
           0,
           "#00083e"
          ],
          [
           0.5,
           "#ededee"
          ],
          [
           1,
           "#ffffff"
          ]
         ],
         "hoverinfo": "none",
         "opacity": 0.75,
         "showscale": false,
         "type": "heatmap",
         "z": [
          [
           0,
           0
          ],
          [
           0.5,
           0.5
          ],
          [
           1,
           1
          ],
          [
           0.5,
           0.5
          ],
          [
           1,
           1
          ]
         ]
        }
       ],
       "layout": {
        "annotations": [
         {
          "align": "left",
          "font": {
           "color": "#ffffff"
          },
          "showarrow": false,
          "text": "<b>Result</b>",
          "x": -0.45,
          "xanchor": "left",
          "xref": "x1",
          "y": 0,
          "yref": "y1"
         },
         {
          "align": "left",
          "font": {
           "color": "#ffffff"
          },
          "showarrow": false,
          "text": "<b>Probability</b>",
          "x": 0.55,
          "xanchor": "left",
          "xref": "x1",
          "y": 0,
          "yref": "y1"
         },
         {
          "align": "left",
          "font": {
           "color": "#000000"
          },
          "showarrow": false,
          "text": "Manchester Win",
          "x": -0.45,
          "xanchor": "left",
          "xref": "x1",
          "y": 1,
          "yref": "y1"
         },
         {
          "align": "left",
          "font": {
           "color": "#000000"
          },
          "showarrow": false,
          "text": "0.817879717688",
          "x": 0.55,
          "xanchor": "left",
          "xref": "x1",
          "y": 1,
          "yref": "y1"
         },
         {
          "align": "left",
          "font": {
           "color": "#000000"
          },
          "showarrow": false,
          "text": "Watford Win",
          "x": -0.45,
          "xanchor": "left",
          "xref": "x1",
          "y": 2,
          "yref": "y1"
         },
         {
          "align": "left",
          "font": {
           "color": "#000000"
          },
          "showarrow": false,
          "text": "0.0468246574556",
          "x": 0.55,
          "xanchor": "left",
          "xref": "x1",
          "y": 2,
          "yref": "y1"
         },
         {
          "align": "left",
          "font": {
           "color": "#000000"
          },
          "showarrow": false,
          "text": "Draw",
          "x": -0.45,
          "xanchor": "left",
          "xref": "x1",
          "y": 3,
          "yref": "y1"
         },
         {
          "align": "left",
          "font": {
           "color": "#000000"
          },
          "showarrow": false,
          "text": "0.135251649395",
          "x": 0.55,
          "xanchor": "left",
          "xref": "x1",
          "y": 3,
          "yref": "y1"
         },
         {
          "align": "left",
          "font": {
           "color": "#000000"
          },
          "showarrow": false,
          "text": "Most Probable Score: 2 - 0",
          "x": -0.45,
          "xanchor": "left",
          "xref": "x1",
          "y": 4,
          "yref": "y1"
         },
         {
          "align": "left",
          "font": {
           "color": "#000000"
          },
          "showarrow": false,
          "text": "0.173027442437",
          "x": 0.55,
          "xanchor": "left",
          "xref": "x1",
          "y": 4,
          "yref": "y1"
         }
        ],
        "height": 200,
        "margin": {
         "b": 0,
         "l": 0,
         "r": 0,
         "t": 0
        },
        "xaxis": {
         "dtick": 1,
         "gridwidth": 2,
         "showticklabels": false,
         "tick0": -0.5,
         "ticks": "",
         "zeroline": false
        },
        "yaxis": {
         "autorange": "reversed",
         "dtick": 1,
         "gridwidth": 2,
         "showticklabels": false,
         "tick0": 0.5,
         "ticks": "",
         "zeroline": false
        }
       }
      },
      "text/html": [
       "<div id=\"9180c555-bac7-4d46-8e78-c04da4ccdb02\" style=\"height: 200px; width: 100%;\" class=\"plotly-graph-div\"></div><script type=\"text/javascript\">require([\"plotly\"], function(Plotly) { window.PLOTLYENV=window.PLOTLYENV || {};window.PLOTLYENV.BASE_URL=\"https://plot.ly\";Plotly.newPlot(\"9180c555-bac7-4d46-8e78-c04da4ccdb02\", [{\"hoverinfo\": \"none\", \"z\": [[0, 0], [0.5, 0.5], [1, 1], [0.5, 0.5], [1, 1]], \"showscale\": false, \"opacity\": 0.75, \"type\": \"heatmap\", \"colorscale\": [[0, \"#00083e\"], [0.5, \"#ededee\"], [1, \"#ffffff\"]]}], {\"annotations\": [{\"x\": -0.45, \"showarrow\": false, \"xref\": \"x1\", \"font\": {\"color\": \"#ffffff\"}, \"yref\": \"y1\", \"xanchor\": \"left\", \"text\": \"<b>Result</b>\", \"y\": 0, \"align\": \"left\"}, {\"x\": 0.55, \"showarrow\": false, \"xref\": \"x1\", \"font\": {\"color\": \"#ffffff\"}, \"yref\": \"y1\", \"xanchor\": \"left\", \"text\": \"<b>Probability</b>\", \"y\": 0, \"align\": \"left\"}, {\"x\": -0.45, \"showarrow\": false, \"xref\": \"x1\", \"font\": {\"color\": \"#000000\"}, \"yref\": \"y1\", \"xanchor\": \"left\", \"text\": \"Manchester Win\", \"y\": 1, \"align\": \"left\"}, {\"x\": 0.55, \"showarrow\": false, \"xref\": \"x1\", \"font\": {\"color\": \"#000000\"}, \"yref\": \"y1\", \"xanchor\": \"left\", \"text\": \"0.817879717688\", \"y\": 1, \"align\": \"left\"}, {\"x\": -0.45, \"showarrow\": false, \"xref\": \"x1\", \"font\": {\"color\": \"#000000\"}, \"yref\": \"y1\", \"xanchor\": \"left\", \"text\": \"Watford Win\", \"y\": 2, \"align\": \"left\"}, {\"x\": 0.55, \"showarrow\": false, \"xref\": \"x1\", \"font\": {\"color\": \"#000000\"}, \"yref\": \"y1\", \"xanchor\": \"left\", \"text\": \"0.0468246574556\", \"y\": 2, \"align\": \"left\"}, {\"x\": -0.45, \"showarrow\": false, \"xref\": \"x1\", \"font\": {\"color\": \"#000000\"}, \"yref\": \"y1\", \"xanchor\": \"left\", \"text\": \"Draw\", \"y\": 3, \"align\": \"left\"}, {\"x\": 0.55, \"showarrow\": false, \"xref\": \"x1\", \"font\": {\"color\": \"#000000\"}, \"yref\": \"y1\", \"xanchor\": \"left\", \"text\": \"0.135251649395\", \"y\": 3, \"align\": \"left\"}, {\"x\": -0.45, \"showarrow\": false, \"xref\": \"x1\", \"font\": {\"color\": \"#000000\"}, \"yref\": \"y1\", \"xanchor\": \"left\", \"text\": \"Most Probable Score: 2 - 0\", \"y\": 4, \"align\": \"left\"}, {\"x\": 0.55, \"showarrow\": false, \"xref\": \"x1\", \"font\": {\"color\": \"#000000\"}, \"yref\": \"y1\", \"xanchor\": \"left\", \"text\": \"0.173027442437\", \"y\": 4, \"align\": \"left\"}], \"margin\": {\"r\": 0, \"t\": 0, \"b\": 0, \"l\": 0}, \"yaxis\": {\"tick0\": 0.5, \"gridwidth\": 2, \"dtick\": 1, \"ticks\": \"\", \"zeroline\": false, \"showticklabels\": false, \"autorange\": \"reversed\"}, \"xaxis\": {\"tick0\": -0.5, \"gridwidth\": 2, \"dtick\": 1, \"ticks\": \"\", \"showticklabels\": false, \"zeroline\": false}, \"height\": 200}, {\"linkText\": \"Export to plot.ly\", \"showLink\": true})});</script>"
      ],
      "text/vnd.plotly.v1+html": [
       "<div id=\"9180c555-bac7-4d46-8e78-c04da4ccdb02\" style=\"height: 200px; width: 100%;\" class=\"plotly-graph-div\"></div><script type=\"text/javascript\">require([\"plotly\"], function(Plotly) { window.PLOTLYENV=window.PLOTLYENV || {};window.PLOTLYENV.BASE_URL=\"https://plot.ly\";Plotly.newPlot(\"9180c555-bac7-4d46-8e78-c04da4ccdb02\", [{\"hoverinfo\": \"none\", \"z\": [[0, 0], [0.5, 0.5], [1, 1], [0.5, 0.5], [1, 1]], \"showscale\": false, \"opacity\": 0.75, \"type\": \"heatmap\", \"colorscale\": [[0, \"#00083e\"], [0.5, \"#ededee\"], [1, \"#ffffff\"]]}], {\"annotations\": [{\"x\": -0.45, \"showarrow\": false, \"xref\": \"x1\", \"font\": {\"color\": \"#ffffff\"}, \"yref\": \"y1\", \"xanchor\": \"left\", \"text\": \"<b>Result</b>\", \"y\": 0, \"align\": \"left\"}, {\"x\": 0.55, \"showarrow\": false, \"xref\": \"x1\", \"font\": {\"color\": \"#ffffff\"}, \"yref\": \"y1\", \"xanchor\": \"left\", \"text\": \"<b>Probability</b>\", \"y\": 0, \"align\": \"left\"}, {\"x\": -0.45, \"showarrow\": false, \"xref\": \"x1\", \"font\": {\"color\": \"#000000\"}, \"yref\": \"y1\", \"xanchor\": \"left\", \"text\": \"Manchester Win\", \"y\": 1, \"align\": \"left\"}, {\"x\": 0.55, \"showarrow\": false, \"xref\": \"x1\", \"font\": {\"color\": \"#000000\"}, \"yref\": \"y1\", \"xanchor\": \"left\", \"text\": \"0.817879717688\", \"y\": 1, \"align\": \"left\"}, {\"x\": -0.45, \"showarrow\": false, \"xref\": \"x1\", \"font\": {\"color\": \"#000000\"}, \"yref\": \"y1\", \"xanchor\": \"left\", \"text\": \"Watford Win\", \"y\": 2, \"align\": \"left\"}, {\"x\": 0.55, \"showarrow\": false, \"xref\": \"x1\", \"font\": {\"color\": \"#000000\"}, \"yref\": \"y1\", \"xanchor\": \"left\", \"text\": \"0.0468246574556\", \"y\": 2, \"align\": \"left\"}, {\"x\": -0.45, \"showarrow\": false, \"xref\": \"x1\", \"font\": {\"color\": \"#000000\"}, \"yref\": \"y1\", \"xanchor\": \"left\", \"text\": \"Draw\", \"y\": 3, \"align\": \"left\"}, {\"x\": 0.55, \"showarrow\": false, \"xref\": \"x1\", \"font\": {\"color\": \"#000000\"}, \"yref\": \"y1\", \"xanchor\": \"left\", \"text\": \"0.135251649395\", \"y\": 3, \"align\": \"left\"}, {\"x\": -0.45, \"showarrow\": false, \"xref\": \"x1\", \"font\": {\"color\": \"#000000\"}, \"yref\": \"y1\", \"xanchor\": \"left\", \"text\": \"Most Probable Score: 2 - 0\", \"y\": 4, \"align\": \"left\"}, {\"x\": 0.55, \"showarrow\": false, \"xref\": \"x1\", \"font\": {\"color\": \"#000000\"}, \"yref\": \"y1\", \"xanchor\": \"left\", \"text\": \"0.173027442437\", \"y\": 4, \"align\": \"left\"}], \"margin\": {\"r\": 0, \"t\": 0, \"b\": 0, \"l\": 0}, \"yaxis\": {\"tick0\": 0.5, \"gridwidth\": 2, \"dtick\": 1, \"ticks\": \"\", \"zeroline\": false, \"showticklabels\": false, \"autorange\": \"reversed\"}, \"xaxis\": {\"tick0\": -0.5, \"gridwidth\": 2, \"dtick\": 1, \"ticks\": \"\", \"showticklabels\": false, \"zeroline\": false}, \"height\": 200}, {\"linkText\": \"Export to plot.ly\", \"showLink\": true})});</script>"
      ]
     },
     "metadata": {},
     "output_type": "display_data"
    },
    {
     "data": {
      "application/vnd.plotly.v1+json": {
       "data": [
        {
         "mode": "lines",
         "name": "Manchester United FC",
         "type": "scatter",
         "x": [
          0,
          1,
          2,
          3,
          4,
          5,
          6,
          7,
          8,
          9,
          10
         ],
         "y": [
          0.09018702679347956,
          0.21697823413782083,
          0.26101067838379394,
          0.20931922657611046,
          0.12589869565603232,
          0.06057917116228925,
          0.024290931951195457,
          0.008348688129742371,
          0.0025107319646802215,
          0.000671165992442672,
          0.00016147379177611134
         ]
        },
        {
         "mode": "lines",
         "name": "Watford FC",
         "type": "scatter",
         "x": [
          0,
          1,
          2,
          3,
          4,
          5,
          6,
          7,
          8,
          9,
          10
         ],
         "y": [
          0.6629132704784655,
          0.2725310111967025,
          0.0560202634126555,
          0.007676850912104643,
          0.0007890096770774216,
          6.487412900414354e-05,
          4.445079209543169e-06,
          2.610602075445988e-07,
          1.341559399881966e-08,
          6.128110838967005e-10,
          2.5193344560197685e-11
         ]
        }
       ],
       "layout": {}
      },
      "text/html": [
       "<div id=\"b98a433d-53a8-4ae6-a17b-bb55dade4e1a\" style=\"height: 525px; width: 100%;\" class=\"plotly-graph-div\"></div><script type=\"text/javascript\">require([\"plotly\"], function(Plotly) { window.PLOTLYENV=window.PLOTLYENV || {};window.PLOTLYENV.BASE_URL=\"https://plot.ly\";Plotly.newPlot(\"b98a433d-53a8-4ae6-a17b-bb55dade4e1a\", [{\"x\": [0, 1, 2, 3, 4, 5, 6, 7, 8, 9, 10], \"type\": \"scatter\", \"y\": [0.09018702679347956, 0.21697823413782083, 0.26101067838379394, 0.20931922657611046, 0.12589869565603232, 0.06057917116228925, 0.024290931951195457, 0.008348688129742371, 0.0025107319646802215, 0.000671165992442672, 0.00016147379177611134], \"mode\": \"lines\", \"name\": \"Manchester United FC\"}, {\"x\": [0, 1, 2, 3, 4, 5, 6, 7, 8, 9, 10], \"type\": \"scatter\", \"y\": [0.6629132704784655, 0.2725310111967025, 0.0560202634126555, 0.007676850912104643, 0.0007890096770774216, 6.487412900414354e-05, 4.445079209543169e-06, 2.610602075445988e-07, 1.341559399881966e-08, 6.128110838967005e-10, 2.5193344560197685e-11], \"mode\": \"lines\", \"name\": \"Watford FC\"}], {}, {\"linkText\": \"Export to plot.ly\", \"showLink\": true})});</script>"
      ],
      "text/vnd.plotly.v1+html": [
       "<div id=\"b98a433d-53a8-4ae6-a17b-bb55dade4e1a\" style=\"height: 525px; width: 100%;\" class=\"plotly-graph-div\"></div><script type=\"text/javascript\">require([\"plotly\"], function(Plotly) { window.PLOTLYENV=window.PLOTLYENV || {};window.PLOTLYENV.BASE_URL=\"https://plot.ly\";Plotly.newPlot(\"b98a433d-53a8-4ae6-a17b-bb55dade4e1a\", [{\"x\": [0, 1, 2, 3, 4, 5, 6, 7, 8, 9, 10], \"type\": \"scatter\", \"y\": [0.09018702679347956, 0.21697823413782083, 0.26101067838379394, 0.20931922657611046, 0.12589869565603232, 0.06057917116228925, 0.024290931951195457, 0.008348688129742371, 0.0025107319646802215, 0.000671165992442672, 0.00016147379177611134], \"mode\": \"lines\", \"name\": \"Manchester United FC\"}, {\"x\": [0, 1, 2, 3, 4, 5, 6, 7, 8, 9, 10], \"type\": \"scatter\", \"y\": [0.6629132704784655, 0.2725310111967025, 0.0560202634126555, 0.007676850912104643, 0.0007890096770774216, 6.487412900414354e-05, 4.445079209543169e-06, 2.610602075445988e-07, 1.341559399881966e-08, 6.128110838967005e-10, 2.5193344560197685e-11], \"mode\": \"lines\", \"name\": \"Watford FC\"}], {}, {\"linkText\": \"Export to plot.ly\", \"showLink\": true})});</script>"
      ]
     },
     "metadata": {},
     "output_type": "display_data"
    },
    {
     "name": "stdout",
     "output_type": "stream",
     "text": [
      "HHHHHH\n"
     ]
    },
    {
     "data": {
      "application/vnd.plotly.v1+json": {
       "data": [
        {
         "colorscale": [
          [
           0,
           "#00083e"
          ],
          [
           0.5,
           "#ededee"
          ],
          [
           1,
           "#ffffff"
          ]
         ],
         "hoverinfo": "none",
         "opacity": 0.75,
         "showscale": false,
         "type": "heatmap",
         "z": [
          [
           0,
           0
          ],
          [
           0.5,
           0.5
          ],
          [
           1,
           1
          ],
          [
           0.5,
           0.5
          ],
          [
           1,
           1
          ]
         ]
        }
       ],
       "layout": {
        "annotations": [
         {
          "align": "left",
          "font": {
           "color": "#ffffff"
          },
          "showarrow": false,
          "text": "<b>Result</b>",
          "x": -0.45,
          "xanchor": "left",
          "xref": "x1",
          "y": 0,
          "yref": "y1"
         },
         {
          "align": "left",
          "font": {
           "color": "#ffffff"
          },
          "showarrow": false,
          "text": "<b>Probability</b>",
          "x": 0.55,
          "xanchor": "left",
          "xref": "x1",
          "y": 0,
          "yref": "y1"
         },
         {
          "align": "left",
          "font": {
           "color": "#000000"
          },
          "showarrow": false,
          "text": "Newcastle Win",
          "x": -0.45,
          "xanchor": "left",
          "xref": "x1",
          "y": 1,
          "yref": "y1"
         },
         {
          "align": "left",
          "font": {
           "color": "#000000"
          },
          "showarrow": false,
          "text": "0.177344795491",
          "x": 0.55,
          "xanchor": "left",
          "xref": "x1",
          "y": 1,
          "yref": "y1"
         },
         {
          "align": "left",
          "font": {
           "color": "#000000"
          },
          "showarrow": false,
          "text": "Chelsea Win",
          "x": -0.45,
          "xanchor": "left",
          "xref": "x1",
          "y": 2,
          "yref": "y1"
         },
         {
          "align": "left",
          "font": {
           "color": "#000000"
          },
          "showarrow": false,
          "text": "0.555963506609",
          "x": 0.55,
          "xanchor": "left",
          "xref": "x1",
          "y": 2,
          "yref": "y1"
         },
         {
          "align": "left",
          "font": {
           "color": "#000000"
          },
          "showarrow": false,
          "text": "Draw",
          "x": -0.45,
          "xanchor": "left",
          "xref": "x1",
          "y": 3,
          "yref": "y1"
         },
         {
          "align": "left",
          "font": {
           "color": "#000000"
          },
          "showarrow": false,
          "text": "0.266691267773",
          "x": 0.55,
          "xanchor": "left",
          "xref": "x1",
          "y": 3,
          "yref": "y1"
         },
         {
          "align": "left",
          "font": {
           "color": "#000000"
          },
          "showarrow": false,
          "text": "Most Probable Score: 0 - 1",
          "x": -0.45,
          "xanchor": "left",
          "xref": "x1",
          "y": 4,
          "yref": "y1"
         },
         {
          "align": "left",
          "font": {
           "color": "#000000"
          },
          "showarrow": false,
          "text": "0.169136780686",
          "x": 0.55,
          "xanchor": "left",
          "xref": "x1",
          "y": 4,
          "yref": "y1"
         }
        ],
        "height": 200,
        "margin": {
         "b": 0,
         "l": 0,
         "r": 0,
         "t": 0
        },
        "xaxis": {
         "dtick": 1,
         "gridwidth": 2,
         "showticklabels": false,
         "tick0": -0.5,
         "ticks": "",
         "zeroline": false
        },
        "yaxis": {
         "autorange": "reversed",
         "dtick": 1,
         "gridwidth": 2,
         "showticklabels": false,
         "tick0": 0.5,
         "ticks": "",
         "zeroline": false
        }
       }
      },
      "text/html": [
       "<div id=\"49fff759-11d5-43f0-855a-1695cf8f01fb\" style=\"height: 200px; width: 100%;\" class=\"plotly-graph-div\"></div><script type=\"text/javascript\">require([\"plotly\"], function(Plotly) { window.PLOTLYENV=window.PLOTLYENV || {};window.PLOTLYENV.BASE_URL=\"https://plot.ly\";Plotly.newPlot(\"49fff759-11d5-43f0-855a-1695cf8f01fb\", [{\"hoverinfo\": \"none\", \"z\": [[0, 0], [0.5, 0.5], [1, 1], [0.5, 0.5], [1, 1]], \"showscale\": false, \"opacity\": 0.75, \"type\": \"heatmap\", \"colorscale\": [[0, \"#00083e\"], [0.5, \"#ededee\"], [1, \"#ffffff\"]]}], {\"annotations\": [{\"x\": -0.45, \"showarrow\": false, \"xref\": \"x1\", \"font\": {\"color\": \"#ffffff\"}, \"yref\": \"y1\", \"xanchor\": \"left\", \"text\": \"<b>Result</b>\", \"y\": 0, \"align\": \"left\"}, {\"x\": 0.55, \"showarrow\": false, \"xref\": \"x1\", \"font\": {\"color\": \"#ffffff\"}, \"yref\": \"y1\", \"xanchor\": \"left\", \"text\": \"<b>Probability</b>\", \"y\": 0, \"align\": \"left\"}, {\"x\": -0.45, \"showarrow\": false, \"xref\": \"x1\", \"font\": {\"color\": \"#000000\"}, \"yref\": \"y1\", \"xanchor\": \"left\", \"text\": \"Newcastle Win\", \"y\": 1, \"align\": \"left\"}, {\"x\": 0.55, \"showarrow\": false, \"xref\": \"x1\", \"font\": {\"color\": \"#000000\"}, \"yref\": \"y1\", \"xanchor\": \"left\", \"text\": \"0.177344795491\", \"y\": 1, \"align\": \"left\"}, {\"x\": -0.45, \"showarrow\": false, \"xref\": \"x1\", \"font\": {\"color\": \"#000000\"}, \"yref\": \"y1\", \"xanchor\": \"left\", \"text\": \"Chelsea Win\", \"y\": 2, \"align\": \"left\"}, {\"x\": 0.55, \"showarrow\": false, \"xref\": \"x1\", \"font\": {\"color\": \"#000000\"}, \"yref\": \"y1\", \"xanchor\": \"left\", \"text\": \"0.555963506609\", \"y\": 2, \"align\": \"left\"}, {\"x\": -0.45, \"showarrow\": false, \"xref\": \"x1\", \"font\": {\"color\": \"#000000\"}, \"yref\": \"y1\", \"xanchor\": \"left\", \"text\": \"Draw\", \"y\": 3, \"align\": \"left\"}, {\"x\": 0.55, \"showarrow\": false, \"xref\": \"x1\", \"font\": {\"color\": \"#000000\"}, \"yref\": \"y1\", \"xanchor\": \"left\", \"text\": \"0.266691267773\", \"y\": 3, \"align\": \"left\"}, {\"x\": -0.45, \"showarrow\": false, \"xref\": \"x1\", \"font\": {\"color\": \"#000000\"}, \"yref\": \"y1\", \"xanchor\": \"left\", \"text\": \"Most Probable Score: 0 - 1\", \"y\": 4, \"align\": \"left\"}, {\"x\": 0.55, \"showarrow\": false, \"xref\": \"x1\", \"font\": {\"color\": \"#000000\"}, \"yref\": \"y1\", \"xanchor\": \"left\", \"text\": \"0.169136780686\", \"y\": 4, \"align\": \"left\"}], \"margin\": {\"r\": 0, \"t\": 0, \"b\": 0, \"l\": 0}, \"yaxis\": {\"tick0\": 0.5, \"gridwidth\": 2, \"dtick\": 1, \"ticks\": \"\", \"zeroline\": false, \"showticklabels\": false, \"autorange\": \"reversed\"}, \"xaxis\": {\"tick0\": -0.5, \"gridwidth\": 2, \"dtick\": 1, \"ticks\": \"\", \"showticklabels\": false, \"zeroline\": false}, \"height\": 200}, {\"linkText\": \"Export to plot.ly\", \"showLink\": true})});</script>"
      ],
      "text/vnd.plotly.v1+html": [
       "<div id=\"49fff759-11d5-43f0-855a-1695cf8f01fb\" style=\"height: 200px; width: 100%;\" class=\"plotly-graph-div\"></div><script type=\"text/javascript\">require([\"plotly\"], function(Plotly) { window.PLOTLYENV=window.PLOTLYENV || {};window.PLOTLYENV.BASE_URL=\"https://plot.ly\";Plotly.newPlot(\"49fff759-11d5-43f0-855a-1695cf8f01fb\", [{\"hoverinfo\": \"none\", \"z\": [[0, 0], [0.5, 0.5], [1, 1], [0.5, 0.5], [1, 1]], \"showscale\": false, \"opacity\": 0.75, \"type\": \"heatmap\", \"colorscale\": [[0, \"#00083e\"], [0.5, \"#ededee\"], [1, \"#ffffff\"]]}], {\"annotations\": [{\"x\": -0.45, \"showarrow\": false, \"xref\": \"x1\", \"font\": {\"color\": \"#ffffff\"}, \"yref\": \"y1\", \"xanchor\": \"left\", \"text\": \"<b>Result</b>\", \"y\": 0, \"align\": \"left\"}, {\"x\": 0.55, \"showarrow\": false, \"xref\": \"x1\", \"font\": {\"color\": \"#ffffff\"}, \"yref\": \"y1\", \"xanchor\": \"left\", \"text\": \"<b>Probability</b>\", \"y\": 0, \"align\": \"left\"}, {\"x\": -0.45, \"showarrow\": false, \"xref\": \"x1\", \"font\": {\"color\": \"#000000\"}, \"yref\": \"y1\", \"xanchor\": \"left\", \"text\": \"Newcastle Win\", \"y\": 1, \"align\": \"left\"}, {\"x\": 0.55, \"showarrow\": false, \"xref\": \"x1\", \"font\": {\"color\": \"#000000\"}, \"yref\": \"y1\", \"xanchor\": \"left\", \"text\": \"0.177344795491\", \"y\": 1, \"align\": \"left\"}, {\"x\": -0.45, \"showarrow\": false, \"xref\": \"x1\", \"font\": {\"color\": \"#000000\"}, \"yref\": \"y1\", \"xanchor\": \"left\", \"text\": \"Chelsea Win\", \"y\": 2, \"align\": \"left\"}, {\"x\": 0.55, \"showarrow\": false, \"xref\": \"x1\", \"font\": {\"color\": \"#000000\"}, \"yref\": \"y1\", \"xanchor\": \"left\", \"text\": \"0.555963506609\", \"y\": 2, \"align\": \"left\"}, {\"x\": -0.45, \"showarrow\": false, \"xref\": \"x1\", \"font\": {\"color\": \"#000000\"}, \"yref\": \"y1\", \"xanchor\": \"left\", \"text\": \"Draw\", \"y\": 3, \"align\": \"left\"}, {\"x\": 0.55, \"showarrow\": false, \"xref\": \"x1\", \"font\": {\"color\": \"#000000\"}, \"yref\": \"y1\", \"xanchor\": \"left\", \"text\": \"0.266691267773\", \"y\": 3, \"align\": \"left\"}, {\"x\": -0.45, \"showarrow\": false, \"xref\": \"x1\", \"font\": {\"color\": \"#000000\"}, \"yref\": \"y1\", \"xanchor\": \"left\", \"text\": \"Most Probable Score: 0 - 1\", \"y\": 4, \"align\": \"left\"}, {\"x\": 0.55, \"showarrow\": false, \"xref\": \"x1\", \"font\": {\"color\": \"#000000\"}, \"yref\": \"y1\", \"xanchor\": \"left\", \"text\": \"0.169136780686\", \"y\": 4, \"align\": \"left\"}], \"margin\": {\"r\": 0, \"t\": 0, \"b\": 0, \"l\": 0}, \"yaxis\": {\"tick0\": 0.5, \"gridwidth\": 2, \"dtick\": 1, \"ticks\": \"\", \"zeroline\": false, \"showticklabels\": false, \"autorange\": \"reversed\"}, \"xaxis\": {\"tick0\": -0.5, \"gridwidth\": 2, \"dtick\": 1, \"ticks\": \"\", \"showticklabels\": false, \"zeroline\": false}, \"height\": 200}, {\"linkText\": \"Export to plot.ly\", \"showLink\": true})});</script>"
      ]
     },
     "metadata": {},
     "output_type": "display_data"
    },
    {
     "data": {
      "application/vnd.plotly.v1+json": {
       "data": [
        {
         "mode": "lines",
         "name": "Newcastle United FC",
         "type": "scatter",
         "x": [
          0,
          1,
          2,
          3,
          4,
          5,
          6,
          7,
          8,
          9,
          10
         ],
         "y": [
          0.49910503671982975,
          0.34684741084820114,
          0.12051884629610785,
          0.027917737230184467,
          0.004850279080866864,
          0.0006741293384439314,
          7.807976224563131e-05,
          7.75152133235593e-06,
          6.733540303289612e-07,
          5.199330909464213e-08,
          3.613216320040867e-09
         ]
        },
        {
         "mode": "lines",
         "name": "Chelsea FC",
         "type": "scatter",
         "x": [
          0,
          1,
          2,
          3,
          4,
          5,
          6,
          7,
          8,
          9,
          10
         ],
         "y": [
          0.23183522538505477,
          0.33888013192087013,
          0.2476753556755001,
          0.12067803338263046,
          0.04409962701389952,
          0.012892335403569636,
          0.0031408487896762236,
          0.0006558668372092855,
          0.00011983739741601755,
          1.946330295480998e-05,
          2.8450062590734583e-06
         ]
        }
       ],
       "layout": {}
      },
      "text/html": [
       "<div id=\"8952a8cc-fdfd-4df1-80f2-68ae28458dd3\" style=\"height: 525px; width: 100%;\" class=\"plotly-graph-div\"></div><script type=\"text/javascript\">require([\"plotly\"], function(Plotly) { window.PLOTLYENV=window.PLOTLYENV || {};window.PLOTLYENV.BASE_URL=\"https://plot.ly\";Plotly.newPlot(\"8952a8cc-fdfd-4df1-80f2-68ae28458dd3\", [{\"x\": [0, 1, 2, 3, 4, 5, 6, 7, 8, 9, 10], \"type\": \"scatter\", \"y\": [0.49910503671982975, 0.34684741084820114, 0.12051884629610785, 0.027917737230184467, 0.004850279080866864, 0.0006741293384439314, 7.807976224563131e-05, 7.75152133235593e-06, 6.733540303289612e-07, 5.199330909464213e-08, 3.613216320040867e-09], \"mode\": \"lines\", \"name\": \"Newcastle United FC\"}, {\"x\": [0, 1, 2, 3, 4, 5, 6, 7, 8, 9, 10], \"type\": \"scatter\", \"y\": [0.23183522538505477, 0.33888013192087013, 0.2476753556755001, 0.12067803338263046, 0.04409962701389952, 0.012892335403569636, 0.0031408487896762236, 0.0006558668372092855, 0.00011983739741601755, 1.946330295480998e-05, 2.8450062590734583e-06], \"mode\": \"lines\", \"name\": \"Chelsea FC\"}], {}, {\"linkText\": \"Export to plot.ly\", \"showLink\": true})});</script>"
      ],
      "text/vnd.plotly.v1+html": [
       "<div id=\"8952a8cc-fdfd-4df1-80f2-68ae28458dd3\" style=\"height: 525px; width: 100%;\" class=\"plotly-graph-div\"></div><script type=\"text/javascript\">require([\"plotly\"], function(Plotly) { window.PLOTLYENV=window.PLOTLYENV || {};window.PLOTLYENV.BASE_URL=\"https://plot.ly\";Plotly.newPlot(\"8952a8cc-fdfd-4df1-80f2-68ae28458dd3\", [{\"x\": [0, 1, 2, 3, 4, 5, 6, 7, 8, 9, 10], \"type\": \"scatter\", \"y\": [0.49910503671982975, 0.34684741084820114, 0.12051884629610785, 0.027917737230184467, 0.004850279080866864, 0.0006741293384439314, 7.807976224563131e-05, 7.75152133235593e-06, 6.733540303289612e-07, 5.199330909464213e-08, 3.613216320040867e-09], \"mode\": \"lines\", \"name\": \"Newcastle United FC\"}, {\"x\": [0, 1, 2, 3, 4, 5, 6, 7, 8, 9, 10], \"type\": \"scatter\", \"y\": [0.23183522538505477, 0.33888013192087013, 0.2476753556755001, 0.12067803338263046, 0.04409962701389952, 0.012892335403569636, 0.0031408487896762236, 0.0006558668372092855, 0.00011983739741601755, 1.946330295480998e-05, 2.8450062590734583e-06], \"mode\": \"lines\", \"name\": \"Chelsea FC\"}], {}, {\"linkText\": \"Export to plot.ly\", \"showLink\": true})});</script>"
      ]
     },
     "metadata": {},
     "output_type": "display_data"
    },
    {
     "name": "stdout",
     "output_type": "stream",
     "text": [
      "HHHHHH\n"
     ]
    },
    {
     "data": {
      "application/vnd.plotly.v1+json": {
       "data": [
        {
         "colorscale": [
          [
           0,
           "#00083e"
          ],
          [
           0.5,
           "#ededee"
          ],
          [
           1,
           "#ffffff"
          ]
         ],
         "hoverinfo": "none",
         "opacity": 0.75,
         "showscale": false,
         "type": "heatmap",
         "z": [
          [
           0,
           0
          ],
          [
           0.5,
           0.5
          ],
          [
           1,
           1
          ],
          [
           0.5,
           0.5
          ],
          [
           1,
           1
          ]
         ]
        }
       ],
       "layout": {
        "annotations": [
         {
          "align": "left",
          "font": {
           "color": "#ffffff"
          },
          "showarrow": false,
          "text": "<b>Result</b>",
          "x": -0.45,
          "xanchor": "left",
          "xref": "x1",
          "y": 0,
          "yref": "y1"
         },
         {
          "align": "left",
          "font": {
           "color": "#ffffff"
          },
          "showarrow": false,
          "text": "<b>Probability</b>",
          "x": 0.55,
          "xanchor": "left",
          "xref": "x1",
          "y": 0,
          "yref": "y1"
         },
         {
          "align": "left",
          "font": {
           "color": "#000000"
          },
          "showarrow": false,
          "text": "Southampton Win",
          "x": -0.45,
          "xanchor": "left",
          "xref": "x1",
          "y": 1,
          "yref": "y1"
         },
         {
          "align": "left",
          "font": {
           "color": "#000000"
          },
          "showarrow": false,
          "text": "0.0408689689504",
          "x": 0.55,
          "xanchor": "left",
          "xref": "x1",
          "y": 1,
          "yref": "y1"
         },
         {
          "align": "left",
          "font": {
           "color": "#000000"
          },
          "showarrow": false,
          "text": "Manchester Win",
          "x": -0.45,
          "xanchor": "left",
          "xref": "x1",
          "y": 2,
          "yref": "y1"
         },
         {
          "align": "left",
          "font": {
           "color": "#000000"
          },
          "showarrow": false,
          "text": "0.857986692184",
          "x": 0.55,
          "xanchor": "left",
          "xref": "x1",
          "y": 2,
          "yref": "y1"
         },
         {
          "align": "left",
          "font": {
           "color": "#000000"
          },
          "showarrow": false,
          "text": "Draw",
          "x": -0.45,
          "xanchor": "left",
          "xref": "x1",
          "y": 3,
          "yref": "y1"
         },
         {
          "align": "left",
          "font": {
           "color": "#000000"
          },
          "showarrow": false,
          "text": "0.100886086252",
          "x": 0.55,
          "xanchor": "left",
          "xref": "x1",
          "y": 3,
          "yref": "y1"
         },
         {
          "align": "left",
          "font": {
           "color": "#000000"
          },
          "showarrow": false,
          "text": "Most Probable Score: 0 - 2",
          "x": -0.45,
          "xanchor": "left",
          "xref": "x1",
          "y": 4,
          "yref": "y1"
         },
         {
          "align": "left",
          "font": {
           "color": "#000000"
          },
          "showarrow": false,
          "text": "0.134029896049",
          "x": 0.55,
          "xanchor": "left",
          "xref": "x1",
          "y": 4,
          "yref": "y1"
         }
        ],
        "height": 200,
        "margin": {
         "b": 0,
         "l": 0,
         "r": 0,
         "t": 0
        },
        "xaxis": {
         "dtick": 1,
         "gridwidth": 2,
         "showticklabels": false,
         "tick0": -0.5,
         "ticks": "",
         "zeroline": false
        },
        "yaxis": {
         "autorange": "reversed",
         "dtick": 1,
         "gridwidth": 2,
         "showticklabels": false,
         "tick0": 0.5,
         "ticks": "",
         "zeroline": false
        }
       }
      },
      "text/html": [
       "<div id=\"b2b2da09-f036-425b-a9df-9151fd30696f\" style=\"height: 200px; width: 100%;\" class=\"plotly-graph-div\"></div><script type=\"text/javascript\">require([\"plotly\"], function(Plotly) { window.PLOTLYENV=window.PLOTLYENV || {};window.PLOTLYENV.BASE_URL=\"https://plot.ly\";Plotly.newPlot(\"b2b2da09-f036-425b-a9df-9151fd30696f\", [{\"hoverinfo\": \"none\", \"z\": [[0, 0], [0.5, 0.5], [1, 1], [0.5, 0.5], [1, 1]], \"showscale\": false, \"opacity\": 0.75, \"type\": \"heatmap\", \"colorscale\": [[0, \"#00083e\"], [0.5, \"#ededee\"], [1, \"#ffffff\"]]}], {\"annotations\": [{\"x\": -0.45, \"showarrow\": false, \"xref\": \"x1\", \"font\": {\"color\": \"#ffffff\"}, \"yref\": \"y1\", \"xanchor\": \"left\", \"text\": \"<b>Result</b>\", \"y\": 0, \"align\": \"left\"}, {\"x\": 0.55, \"showarrow\": false, \"xref\": \"x1\", \"font\": {\"color\": \"#ffffff\"}, \"yref\": \"y1\", \"xanchor\": \"left\", \"text\": \"<b>Probability</b>\", \"y\": 0, \"align\": \"left\"}, {\"x\": -0.45, \"showarrow\": false, \"xref\": \"x1\", \"font\": {\"color\": \"#000000\"}, \"yref\": \"y1\", \"xanchor\": \"left\", \"text\": \"Southampton Win\", \"y\": 1, \"align\": \"left\"}, {\"x\": 0.55, \"showarrow\": false, \"xref\": \"x1\", \"font\": {\"color\": \"#000000\"}, \"yref\": \"y1\", \"xanchor\": \"left\", \"text\": \"0.0408689689504\", \"y\": 1, \"align\": \"left\"}, {\"x\": -0.45, \"showarrow\": false, \"xref\": \"x1\", \"font\": {\"color\": \"#000000\"}, \"yref\": \"y1\", \"xanchor\": \"left\", \"text\": \"Manchester Win\", \"y\": 2, \"align\": \"left\"}, {\"x\": 0.55, \"showarrow\": false, \"xref\": \"x1\", \"font\": {\"color\": \"#000000\"}, \"yref\": \"y1\", \"xanchor\": \"left\", \"text\": \"0.857986692184\", \"y\": 2, \"align\": \"left\"}, {\"x\": -0.45, \"showarrow\": false, \"xref\": \"x1\", \"font\": {\"color\": \"#000000\"}, \"yref\": \"y1\", \"xanchor\": \"left\", \"text\": \"Draw\", \"y\": 3, \"align\": \"left\"}, {\"x\": 0.55, \"showarrow\": false, \"xref\": \"x1\", \"font\": {\"color\": \"#000000\"}, \"yref\": \"y1\", \"xanchor\": \"left\", \"text\": \"0.100886086252\", \"y\": 3, \"align\": \"left\"}, {\"x\": -0.45, \"showarrow\": false, \"xref\": \"x1\", \"font\": {\"color\": \"#000000\"}, \"yref\": \"y1\", \"xanchor\": \"left\", \"text\": \"Most Probable Score: 0 - 2\", \"y\": 4, \"align\": \"left\"}, {\"x\": 0.55, \"showarrow\": false, \"xref\": \"x1\", \"font\": {\"color\": \"#000000\"}, \"yref\": \"y1\", \"xanchor\": \"left\", \"text\": \"0.134029896049\", \"y\": 4, \"align\": \"left\"}], \"margin\": {\"r\": 0, \"t\": 0, \"b\": 0, \"l\": 0}, \"yaxis\": {\"tick0\": 0.5, \"gridwidth\": 2, \"dtick\": 1, \"ticks\": \"\", \"zeroline\": false, \"showticklabels\": false, \"autorange\": \"reversed\"}, \"xaxis\": {\"tick0\": -0.5, \"gridwidth\": 2, \"dtick\": 1, \"ticks\": \"\", \"showticklabels\": false, \"zeroline\": false}, \"height\": 200}, {\"linkText\": \"Export to plot.ly\", \"showLink\": true})});</script>"
      ],
      "text/vnd.plotly.v1+html": [
       "<div id=\"b2b2da09-f036-425b-a9df-9151fd30696f\" style=\"height: 200px; width: 100%;\" class=\"plotly-graph-div\"></div><script type=\"text/javascript\">require([\"plotly\"], function(Plotly) { window.PLOTLYENV=window.PLOTLYENV || {};window.PLOTLYENV.BASE_URL=\"https://plot.ly\";Plotly.newPlot(\"b2b2da09-f036-425b-a9df-9151fd30696f\", [{\"hoverinfo\": \"none\", \"z\": [[0, 0], [0.5, 0.5], [1, 1], [0.5, 0.5], [1, 1]], \"showscale\": false, \"opacity\": 0.75, \"type\": \"heatmap\", \"colorscale\": [[0, \"#00083e\"], [0.5, \"#ededee\"], [1, \"#ffffff\"]]}], {\"annotations\": [{\"x\": -0.45, \"showarrow\": false, \"xref\": \"x1\", \"font\": {\"color\": \"#ffffff\"}, \"yref\": \"y1\", \"xanchor\": \"left\", \"text\": \"<b>Result</b>\", \"y\": 0, \"align\": \"left\"}, {\"x\": 0.55, \"showarrow\": false, \"xref\": \"x1\", \"font\": {\"color\": \"#ffffff\"}, \"yref\": \"y1\", \"xanchor\": \"left\", \"text\": \"<b>Probability</b>\", \"y\": 0, \"align\": \"left\"}, {\"x\": -0.45, \"showarrow\": false, \"xref\": \"x1\", \"font\": {\"color\": \"#000000\"}, \"yref\": \"y1\", \"xanchor\": \"left\", \"text\": \"Southampton Win\", \"y\": 1, \"align\": \"left\"}, {\"x\": 0.55, \"showarrow\": false, \"xref\": \"x1\", \"font\": {\"color\": \"#000000\"}, \"yref\": \"y1\", \"xanchor\": \"left\", \"text\": \"0.0408689689504\", \"y\": 1, \"align\": \"left\"}, {\"x\": -0.45, \"showarrow\": false, \"xref\": \"x1\", \"font\": {\"color\": \"#000000\"}, \"yref\": \"y1\", \"xanchor\": \"left\", \"text\": \"Manchester Win\", \"y\": 2, \"align\": \"left\"}, {\"x\": 0.55, \"showarrow\": false, \"xref\": \"x1\", \"font\": {\"color\": \"#000000\"}, \"yref\": \"y1\", \"xanchor\": \"left\", \"text\": \"0.857986692184\", \"y\": 2, \"align\": \"left\"}, {\"x\": -0.45, \"showarrow\": false, \"xref\": \"x1\", \"font\": {\"color\": \"#000000\"}, \"yref\": \"y1\", \"xanchor\": \"left\", \"text\": \"Draw\", \"y\": 3, \"align\": \"left\"}, {\"x\": 0.55, \"showarrow\": false, \"xref\": \"x1\", \"font\": {\"color\": \"#000000\"}, \"yref\": \"y1\", \"xanchor\": \"left\", \"text\": \"0.100886086252\", \"y\": 3, \"align\": \"left\"}, {\"x\": -0.45, \"showarrow\": false, \"xref\": \"x1\", \"font\": {\"color\": \"#000000\"}, \"yref\": \"y1\", \"xanchor\": \"left\", \"text\": \"Most Probable Score: 0 - 2\", \"y\": 4, \"align\": \"left\"}, {\"x\": 0.55, \"showarrow\": false, \"xref\": \"x1\", \"font\": {\"color\": \"#000000\"}, \"yref\": \"y1\", \"xanchor\": \"left\", \"text\": \"0.134029896049\", \"y\": 4, \"align\": \"left\"}], \"margin\": {\"r\": 0, \"t\": 0, \"b\": 0, \"l\": 0}, \"yaxis\": {\"tick0\": 0.5, \"gridwidth\": 2, \"dtick\": 1, \"ticks\": \"\", \"zeroline\": false, \"showticklabels\": false, \"autorange\": \"reversed\"}, \"xaxis\": {\"tick0\": -0.5, \"gridwidth\": 2, \"dtick\": 1, \"ticks\": \"\", \"showticklabels\": false, \"zeroline\": false}, \"height\": 200}, {\"linkText\": \"Export to plot.ly\", \"showLink\": true})});</script>"
      ]
     },
     "metadata": {},
     "output_type": "display_data"
    },
    {
     "data": {
      "application/vnd.plotly.v1+json": {
       "data": [
        {
         "mode": "lines",
         "name": "Southampton FC",
         "type": "scatter",
         "x": [
          0,
          1,
          2,
          3,
          4,
          5,
          6,
          7,
          8,
          9,
          10
         ],
         "y": [
          0.5895970278456688,
          0.3114935310330903,
          0.0822835049135124,
          0.014490563487031713,
          0.0019138990590434996,
          0.00020222869105046424,
          1.7806774818635916e-05,
          1.343943381812856e-06,
          8.875334544999997e-08,
          5.209978955407396e-09,
          2.7525151328489056e-10
         ]
        },
        {
         "mode": "lines",
         "name": "Manchester City FC",
         "type": "scatter",
         "x": [
          0,
          1,
          2,
          3,
          4,
          5,
          6,
          7,
          8,
          9,
          10
         ],
         "y": [
          0.052042176696570006,
          0.15382110323532308,
          0.22732457885539756,
          0.22396781310614086,
          0.1654954610279581,
          0.09783101327288152,
          0.04819320068029868,
          0.020349240249903065,
          0.007518283207798244,
          0.0024690884092422208,
          0.0007297886583599011
         ]
        }
       ],
       "layout": {}
      },
      "text/html": [
       "<div id=\"dd585ddb-7e3b-42d1-b084-9ea25a0f5d01\" style=\"height: 525px; width: 100%;\" class=\"plotly-graph-div\"></div><script type=\"text/javascript\">require([\"plotly\"], function(Plotly) { window.PLOTLYENV=window.PLOTLYENV || {};window.PLOTLYENV.BASE_URL=\"https://plot.ly\";Plotly.newPlot(\"dd585ddb-7e3b-42d1-b084-9ea25a0f5d01\", [{\"x\": [0, 1, 2, 3, 4, 5, 6, 7, 8, 9, 10], \"type\": \"scatter\", \"y\": [0.5895970278456688, 0.3114935310330903, 0.0822835049135124, 0.014490563487031713, 0.0019138990590434996, 0.00020222869105046424, 1.7806774818635916e-05, 1.343943381812856e-06, 8.875334544999997e-08, 5.209978955407396e-09, 2.7525151328489056e-10], \"mode\": \"lines\", \"name\": \"Southampton FC\"}, {\"x\": [0, 1, 2, 3, 4, 5, 6, 7, 8, 9, 10], \"type\": \"scatter\", \"y\": [0.052042176696570006, 0.15382110323532308, 0.22732457885539756, 0.22396781310614086, 0.1654954610279581, 0.09783101327288152, 0.04819320068029868, 0.020349240249903065, 0.007518283207798244, 0.0024690884092422208, 0.0007297886583599011], \"mode\": \"lines\", \"name\": \"Manchester City FC\"}], {}, {\"linkText\": \"Export to plot.ly\", \"showLink\": true})});</script>"
      ],
      "text/vnd.plotly.v1+html": [
       "<div id=\"dd585ddb-7e3b-42d1-b084-9ea25a0f5d01\" style=\"height: 525px; width: 100%;\" class=\"plotly-graph-div\"></div><script type=\"text/javascript\">require([\"plotly\"], function(Plotly) { window.PLOTLYENV=window.PLOTLYENV || {};window.PLOTLYENV.BASE_URL=\"https://plot.ly\";Plotly.newPlot(\"dd585ddb-7e3b-42d1-b084-9ea25a0f5d01\", [{\"x\": [0, 1, 2, 3, 4, 5, 6, 7, 8, 9, 10], \"type\": \"scatter\", \"y\": [0.5895970278456688, 0.3114935310330903, 0.0822835049135124, 0.014490563487031713, 0.0019138990590434996, 0.00020222869105046424, 1.7806774818635916e-05, 1.343943381812856e-06, 8.875334544999997e-08, 5.209978955407396e-09, 2.7525151328489056e-10], \"mode\": \"lines\", \"name\": \"Southampton FC\"}, {\"x\": [0, 1, 2, 3, 4, 5, 6, 7, 8, 9, 10], \"type\": \"scatter\", \"y\": [0.052042176696570006, 0.15382110323532308, 0.22732457885539756, 0.22396781310614086, 0.1654954610279581, 0.09783101327288152, 0.04819320068029868, 0.020349240249903065, 0.007518283207798244, 0.0024690884092422208, 0.0007297886583599011], \"mode\": \"lines\", \"name\": \"Manchester City FC\"}], {}, {\"linkText\": \"Export to plot.ly\", \"showLink\": true})});</script>"
      ]
     },
     "metadata": {},
     "output_type": "display_data"
    },
    {
     "name": "stdout",
     "output_type": "stream",
     "text": [
      "HHHHHH\n"
     ]
    },
    {
     "data": {
      "application/vnd.plotly.v1+json": {
       "data": [
        {
         "colorscale": [
          [
           0,
           "#00083e"
          ],
          [
           0.5,
           "#ededee"
          ],
          [
           1,
           "#ffffff"
          ]
         ],
         "hoverinfo": "none",
         "opacity": 0.75,
         "showscale": false,
         "type": "heatmap",
         "z": [
          [
           0,
           0
          ],
          [
           0.5,
           0.5
          ],
          [
           1,
           1
          ],
          [
           0.5,
           0.5
          ],
          [
           1,
           1
          ]
         ]
        }
       ],
       "layout": {
        "annotations": [
         {
          "align": "left",
          "font": {
           "color": "#ffffff"
          },
          "showarrow": false,
          "text": "<b>Result</b>",
          "x": -0.45,
          "xanchor": "left",
          "xref": "x1",
          "y": 0,
          "yref": "y1"
         },
         {
          "align": "left",
          "font": {
           "color": "#ffffff"
          },
          "showarrow": false,
          "text": "<b>Probability</b>",
          "x": 0.55,
          "xanchor": "left",
          "xref": "x1",
          "y": 0,
          "yref": "y1"
         },
         {
          "align": "left",
          "font": {
           "color": "#000000"
          },
          "showarrow": false,
          "text": "Tottenham Win",
          "x": -0.45,
          "xanchor": "left",
          "xref": "x1",
          "y": 1,
          "yref": "y1"
         },
         {
          "align": "left",
          "font": {
           "color": "#000000"
          },
          "showarrow": false,
          "text": "0.703130040498",
          "x": 0.55,
          "xanchor": "left",
          "xref": "x1",
          "y": 1,
          "yref": "y1"
         },
         {
          "align": "left",
          "font": {
           "color": "#000000"
          },
          "showarrow": false,
          "text": "Leicester Win",
          "x": -0.45,
          "xanchor": "left",
          "xref": "x1",
          "y": 2,
          "yref": "y1"
         },
         {
          "align": "left",
          "font": {
           "color": "#000000"
          },
          "showarrow": false,
          "text": "0.12233094118",
          "x": 0.55,
          "xanchor": "left",
          "xref": "x1",
          "y": 2,
          "yref": "y1"
         },
         {
          "align": "left",
          "font": {
           "color": "#000000"
          },
          "showarrow": false,
          "text": "Draw",
          "x": -0.45,
          "xanchor": "left",
          "xref": "x1",
          "y": 3,
          "yref": "y1"
         },
         {
          "align": "left",
          "font": {
           "color": "#000000"
          },
          "showarrow": false,
          "text": "0.174503714747",
          "x": 0.55,
          "xanchor": "left",
          "xref": "x1",
          "y": 3,
          "yref": "y1"
         },
         {
          "align": "left",
          "font": {
           "color": "#000000"
          },
          "showarrow": false,
          "text": "Most Probable Score: 2 - 0",
          "x": -0.45,
          "xanchor": "left",
          "xref": "x1",
          "y": 4,
          "yref": "y1"
         },
         {
          "align": "left",
          "font": {
           "color": "#000000"
          },
          "showarrow": false,
          "text": "0.110311066382",
          "x": 0.55,
          "xanchor": "left",
          "xref": "x1",
          "y": 4,
          "yref": "y1"
         }
        ],
        "height": 200,
        "margin": {
         "b": 0,
         "l": 0,
         "r": 0,
         "t": 0
        },
        "xaxis": {
         "dtick": 1,
         "gridwidth": 2,
         "showticklabels": false,
         "tick0": -0.5,
         "ticks": "",
         "zeroline": false
        },
        "yaxis": {
         "autorange": "reversed",
         "dtick": 1,
         "gridwidth": 2,
         "showticklabels": false,
         "tick0": 0.5,
         "ticks": "",
         "zeroline": false
        }
       }
      },
      "text/html": [
       "<div id=\"fa73b632-69a8-4f34-bd6e-b65c057916e6\" style=\"height: 200px; width: 100%;\" class=\"plotly-graph-div\"></div><script type=\"text/javascript\">require([\"plotly\"], function(Plotly) { window.PLOTLYENV=window.PLOTLYENV || {};window.PLOTLYENV.BASE_URL=\"https://plot.ly\";Plotly.newPlot(\"fa73b632-69a8-4f34-bd6e-b65c057916e6\", [{\"hoverinfo\": \"none\", \"z\": [[0, 0], [0.5, 0.5], [1, 1], [0.5, 0.5], [1, 1]], \"showscale\": false, \"opacity\": 0.75, \"type\": \"heatmap\", \"colorscale\": [[0, \"#00083e\"], [0.5, \"#ededee\"], [1, \"#ffffff\"]]}], {\"annotations\": [{\"x\": -0.45, \"showarrow\": false, \"xref\": \"x1\", \"font\": {\"color\": \"#ffffff\"}, \"yref\": \"y1\", \"xanchor\": \"left\", \"text\": \"<b>Result</b>\", \"y\": 0, \"align\": \"left\"}, {\"x\": 0.55, \"showarrow\": false, \"xref\": \"x1\", \"font\": {\"color\": \"#ffffff\"}, \"yref\": \"y1\", \"xanchor\": \"left\", \"text\": \"<b>Probability</b>\", \"y\": 0, \"align\": \"left\"}, {\"x\": -0.45, \"showarrow\": false, \"xref\": \"x1\", \"font\": {\"color\": \"#000000\"}, \"yref\": \"y1\", \"xanchor\": \"left\", \"text\": \"Tottenham Win\", \"y\": 1, \"align\": \"left\"}, {\"x\": 0.55, \"showarrow\": false, \"xref\": \"x1\", \"font\": {\"color\": \"#000000\"}, \"yref\": \"y1\", \"xanchor\": \"left\", \"text\": \"0.703130040498\", \"y\": 1, \"align\": \"left\"}, {\"x\": -0.45, \"showarrow\": false, \"xref\": \"x1\", \"font\": {\"color\": \"#000000\"}, \"yref\": \"y1\", \"xanchor\": \"left\", \"text\": \"Leicester Win\", \"y\": 2, \"align\": \"left\"}, {\"x\": 0.55, \"showarrow\": false, \"xref\": \"x1\", \"font\": {\"color\": \"#000000\"}, \"yref\": \"y1\", \"xanchor\": \"left\", \"text\": \"0.12233094118\", \"y\": 2, \"align\": \"left\"}, {\"x\": -0.45, \"showarrow\": false, \"xref\": \"x1\", \"font\": {\"color\": \"#000000\"}, \"yref\": \"y1\", \"xanchor\": \"left\", \"text\": \"Draw\", \"y\": 3, \"align\": \"left\"}, {\"x\": 0.55, \"showarrow\": false, \"xref\": \"x1\", \"font\": {\"color\": \"#000000\"}, \"yref\": \"y1\", \"xanchor\": \"left\", \"text\": \"0.174503714747\", \"y\": 3, \"align\": \"left\"}, {\"x\": -0.45, \"showarrow\": false, \"xref\": \"x1\", \"font\": {\"color\": \"#000000\"}, \"yref\": \"y1\", \"xanchor\": \"left\", \"text\": \"Most Probable Score: 2 - 0\", \"y\": 4, \"align\": \"left\"}, {\"x\": 0.55, \"showarrow\": false, \"xref\": \"x1\", \"font\": {\"color\": \"#000000\"}, \"yref\": \"y1\", \"xanchor\": \"left\", \"text\": \"0.110311066382\", \"y\": 4, \"align\": \"left\"}], \"margin\": {\"r\": 0, \"t\": 0, \"b\": 0, \"l\": 0}, \"yaxis\": {\"tick0\": 0.5, \"gridwidth\": 2, \"dtick\": 1, \"ticks\": \"\", \"zeroline\": false, \"showticklabels\": false, \"autorange\": \"reversed\"}, \"xaxis\": {\"tick0\": -0.5, \"gridwidth\": 2, \"dtick\": 1, \"ticks\": \"\", \"showticklabels\": false, \"zeroline\": false}, \"height\": 200}, {\"linkText\": \"Export to plot.ly\", \"showLink\": true})});</script>"
      ],
      "text/vnd.plotly.v1+html": [
       "<div id=\"fa73b632-69a8-4f34-bd6e-b65c057916e6\" style=\"height: 200px; width: 100%;\" class=\"plotly-graph-div\"></div><script type=\"text/javascript\">require([\"plotly\"], function(Plotly) { window.PLOTLYENV=window.PLOTLYENV || {};window.PLOTLYENV.BASE_URL=\"https://plot.ly\";Plotly.newPlot(\"fa73b632-69a8-4f34-bd6e-b65c057916e6\", [{\"hoverinfo\": \"none\", \"z\": [[0, 0], [0.5, 0.5], [1, 1], [0.5, 0.5], [1, 1]], \"showscale\": false, \"opacity\": 0.75, \"type\": \"heatmap\", \"colorscale\": [[0, \"#00083e\"], [0.5, \"#ededee\"], [1, \"#ffffff\"]]}], {\"annotations\": [{\"x\": -0.45, \"showarrow\": false, \"xref\": \"x1\", \"font\": {\"color\": \"#ffffff\"}, \"yref\": \"y1\", \"xanchor\": \"left\", \"text\": \"<b>Result</b>\", \"y\": 0, \"align\": \"left\"}, {\"x\": 0.55, \"showarrow\": false, \"xref\": \"x1\", \"font\": {\"color\": \"#ffffff\"}, \"yref\": \"y1\", \"xanchor\": \"left\", \"text\": \"<b>Probability</b>\", \"y\": 0, \"align\": \"left\"}, {\"x\": -0.45, \"showarrow\": false, \"xref\": \"x1\", \"font\": {\"color\": \"#000000\"}, \"yref\": \"y1\", \"xanchor\": \"left\", \"text\": \"Tottenham Win\", \"y\": 1, \"align\": \"left\"}, {\"x\": 0.55, \"showarrow\": false, \"xref\": \"x1\", \"font\": {\"color\": \"#000000\"}, \"yref\": \"y1\", \"xanchor\": \"left\", \"text\": \"0.703130040498\", \"y\": 1, \"align\": \"left\"}, {\"x\": -0.45, \"showarrow\": false, \"xref\": \"x1\", \"font\": {\"color\": \"#000000\"}, \"yref\": \"y1\", \"xanchor\": \"left\", \"text\": \"Leicester Win\", \"y\": 2, \"align\": \"left\"}, {\"x\": 0.55, \"showarrow\": false, \"xref\": \"x1\", \"font\": {\"color\": \"#000000\"}, \"yref\": \"y1\", \"xanchor\": \"left\", \"text\": \"0.12233094118\", \"y\": 2, \"align\": \"left\"}, {\"x\": -0.45, \"showarrow\": false, \"xref\": \"x1\", \"font\": {\"color\": \"#000000\"}, \"yref\": \"y1\", \"xanchor\": \"left\", \"text\": \"Draw\", \"y\": 3, \"align\": \"left\"}, {\"x\": 0.55, \"showarrow\": false, \"xref\": \"x1\", \"font\": {\"color\": \"#000000\"}, \"yref\": \"y1\", \"xanchor\": \"left\", \"text\": \"0.174503714747\", \"y\": 3, \"align\": \"left\"}, {\"x\": -0.45, \"showarrow\": false, \"xref\": \"x1\", \"font\": {\"color\": \"#000000\"}, \"yref\": \"y1\", \"xanchor\": \"left\", \"text\": \"Most Probable Score: 2 - 0\", \"y\": 4, \"align\": \"left\"}, {\"x\": 0.55, \"showarrow\": false, \"xref\": \"x1\", \"font\": {\"color\": \"#000000\"}, \"yref\": \"y1\", \"xanchor\": \"left\", \"text\": \"0.110311066382\", \"y\": 4, \"align\": \"left\"}], \"margin\": {\"r\": 0, \"t\": 0, \"b\": 0, \"l\": 0}, \"yaxis\": {\"tick0\": 0.5, \"gridwidth\": 2, \"dtick\": 1, \"ticks\": \"\", \"zeroline\": false, \"showticklabels\": false, \"autorange\": \"reversed\"}, \"xaxis\": {\"tick0\": -0.5, \"gridwidth\": 2, \"dtick\": 1, \"ticks\": \"\", \"showticklabels\": false, \"zeroline\": false}, \"height\": 200}, {\"linkText\": \"Export to plot.ly\", \"showLink\": true})});</script>"
      ]
     },
     "metadata": {},
     "output_type": "display_data"
    },
    {
     "data": {
      "application/vnd.plotly.v1+json": {
       "data": [
        {
         "mode": "lines",
         "name": "Tottenham Hotspur FC",
         "type": "scatter",
         "x": [
          0,
          1,
          2,
          3,
          4,
          5,
          6,
          7,
          8,
          9,
          10
         ],
         "y": [
          0.09566123429579754,
          0.22451138172921375,
          0.2634576111055629,
          0.20610658968184303,
          0.12093006005411615,
          0.0567631707351682,
          0.02220331287955469,
          0.007444270085325851,
          0.002183908893614627,
          0.000569500867520839,
          0.00013365855835366993
         ]
        },
        {
         "mode": "lines",
         "name": "Leicester City FC",
         "type": "scatter",
         "x": [
          0,
          1,
          2,
          3,
          4,
          5,
          6,
          7,
          8,
          9,
          10
         ],
         "y": [
          0.418705179628603,
          0.364519803441372,
          0.15867332620389135,
          0.04604637701603121,
          0.01002185852701856,
          0.0017449824258808783,
          0.0002531935284611471,
          3.148961530441157e-05,
          3.426811077244788e-06,
          3.31482378713875e-07,
          2.885846591156088e-08
         ]
        }
       ],
       "layout": {}
      },
      "text/html": [
       "<div id=\"d97cc49f-e547-40e7-8999-90c1d16a8359\" style=\"height: 525px; width: 100%;\" class=\"plotly-graph-div\"></div><script type=\"text/javascript\">require([\"plotly\"], function(Plotly) { window.PLOTLYENV=window.PLOTLYENV || {};window.PLOTLYENV.BASE_URL=\"https://plot.ly\";Plotly.newPlot(\"d97cc49f-e547-40e7-8999-90c1d16a8359\", [{\"x\": [0, 1, 2, 3, 4, 5, 6, 7, 8, 9, 10], \"type\": \"scatter\", \"y\": [0.09566123429579754, 0.22451138172921375, 0.2634576111055629, 0.20610658968184303, 0.12093006005411615, 0.0567631707351682, 0.02220331287955469, 0.007444270085325851, 0.002183908893614627, 0.000569500867520839, 0.00013365855835366993], \"mode\": \"lines\", \"name\": \"Tottenham Hotspur FC\"}, {\"x\": [0, 1, 2, 3, 4, 5, 6, 7, 8, 9, 10], \"type\": \"scatter\", \"y\": [0.418705179628603, 0.364519803441372, 0.15867332620389135, 0.04604637701603121, 0.01002185852701856, 0.0017449824258808783, 0.0002531935284611471, 3.148961530441157e-05, 3.426811077244788e-06, 3.31482378713875e-07, 2.885846591156088e-08], \"mode\": \"lines\", \"name\": \"Leicester City FC\"}], {}, {\"linkText\": \"Export to plot.ly\", \"showLink\": true})});</script>"
      ],
      "text/vnd.plotly.v1+html": [
       "<div id=\"d97cc49f-e547-40e7-8999-90c1d16a8359\" style=\"height: 525px; width: 100%;\" class=\"plotly-graph-div\"></div><script type=\"text/javascript\">require([\"plotly\"], function(Plotly) { window.PLOTLYENV=window.PLOTLYENV || {};window.PLOTLYENV.BASE_URL=\"https://plot.ly\";Plotly.newPlot(\"d97cc49f-e547-40e7-8999-90c1d16a8359\", [{\"x\": [0, 1, 2, 3, 4, 5, 6, 7, 8, 9, 10], \"type\": \"scatter\", \"y\": [0.09566123429579754, 0.22451138172921375, 0.2634576111055629, 0.20610658968184303, 0.12093006005411615, 0.0567631707351682, 0.02220331287955469, 0.007444270085325851, 0.002183908893614627, 0.000569500867520839, 0.00013365855835366993], \"mode\": \"lines\", \"name\": \"Tottenham Hotspur FC\"}, {\"x\": [0, 1, 2, 3, 4, 5, 6, 7, 8, 9, 10], \"type\": \"scatter\", \"y\": [0.418705179628603, 0.364519803441372, 0.15867332620389135, 0.04604637701603121, 0.01002185852701856, 0.0017449824258808783, 0.0002531935284611471, 3.148961530441157e-05, 3.426811077244788e-06, 3.31482378713875e-07, 2.885846591156088e-08], \"mode\": \"lines\", \"name\": \"Leicester City FC\"}], {}, {\"linkText\": \"Export to plot.ly\", \"showLink\": true})});</script>"
      ]
     },
     "metadata": {},
     "output_type": "display_data"
    },
    {
     "name": "stdout",
     "output_type": "stream",
     "text": [
      "HHHHHH\n"
     ]
    },
    {
     "data": {
      "application/vnd.plotly.v1+json": {
       "data": [
        {
         "colorscale": [
          [
           0,
           "#00083e"
          ],
          [
           0.5,
           "#ededee"
          ],
          [
           1,
           "#ffffff"
          ]
         ],
         "hoverinfo": "none",
         "opacity": 0.75,
         "showscale": false,
         "type": "heatmap",
         "z": [
          [
           0,
           0
          ],
          [
           0.5,
           0.5
          ],
          [
           1,
           1
          ],
          [
           0.5,
           0.5
          ],
          [
           1,
           1
          ]
         ]
        }
       ],
       "layout": {
        "annotations": [
         {
          "align": "left",
          "font": {
           "color": "#ffffff"
          },
          "showarrow": false,
          "text": "<b>Result</b>",
          "x": -0.45,
          "xanchor": "left",
          "xref": "x1",
          "y": 0,
          "yref": "y1"
         },
         {
          "align": "left",
          "font": {
           "color": "#ffffff"
          },
          "showarrow": false,
          "text": "<b>Probability</b>",
          "x": 0.55,
          "xanchor": "left",
          "xref": "x1",
          "y": 0,
          "yref": "y1"
         },
         {
          "align": "left",
          "font": {
           "color": "#000000"
          },
          "showarrow": false,
          "text": "West Win",
          "x": -0.45,
          "xanchor": "left",
          "xref": "x1",
          "y": 1,
          "yref": "y1"
         },
         {
          "align": "left",
          "font": {
           "color": "#000000"
          },
          "showarrow": false,
          "text": "0.461842433219",
          "x": 0.55,
          "xanchor": "left",
          "xref": "x1",
          "y": 1,
          "yref": "y1"
         },
         {
          "align": "left",
          "font": {
           "color": "#000000"
          },
          "showarrow": false,
          "text": "Everton Win",
          "x": -0.45,
          "xanchor": "left",
          "xref": "x1",
          "y": 2,
          "yref": "y1"
         },
         {
          "align": "left",
          "font": {
           "color": "#000000"
          },
          "showarrow": false,
          "text": "0.269460890716",
          "x": 0.55,
          "xanchor": "left",
          "xref": "x1",
          "y": 2,
          "yref": "y1"
         },
         {
          "align": "left",
          "font": {
           "color": "#000000"
          },
          "showarrow": false,
          "text": "Draw",
          "x": -0.45,
          "xanchor": "left",
          "xref": "x1",
          "y": 3,
          "yref": "y1"
         },
         {
          "align": "left",
          "font": {
           "color": "#000000"
          },
          "showarrow": false,
          "text": "0.26869636591",
          "x": 0.55,
          "xanchor": "left",
          "xref": "x1",
          "y": 3,
          "yref": "y1"
         },
         {
          "align": "left",
          "font": {
           "color": "#000000"
          },
          "showarrow": false,
          "text": "Most Probable Score: 1 - 1",
          "x": -0.45,
          "xanchor": "left",
          "xref": "x1",
          "y": 4,
          "yref": "y1"
         },
         {
          "align": "left",
          "font": {
           "color": "#000000"
          },
          "showarrow": false,
          "text": "0.126703373133",
          "x": 0.55,
          "xanchor": "left",
          "xref": "x1",
          "y": 4,
          "yref": "y1"
         }
        ],
        "height": 200,
        "margin": {
         "b": 0,
         "l": 0,
         "r": 0,
         "t": 0
        },
        "xaxis": {
         "dtick": 1,
         "gridwidth": 2,
         "showticklabels": false,
         "tick0": -0.5,
         "ticks": "",
         "zeroline": false
        },
        "yaxis": {
         "autorange": "reversed",
         "dtick": 1,
         "gridwidth": 2,
         "showticklabels": false,
         "tick0": 0.5,
         "ticks": "",
         "zeroline": false
        }
       }
      },
      "text/html": [
       "<div id=\"a8154f78-7ef3-4ba0-8907-95b22d9090f1\" style=\"height: 200px; width: 100%;\" class=\"plotly-graph-div\"></div><script type=\"text/javascript\">require([\"plotly\"], function(Plotly) { window.PLOTLYENV=window.PLOTLYENV || {};window.PLOTLYENV.BASE_URL=\"https://plot.ly\";Plotly.newPlot(\"a8154f78-7ef3-4ba0-8907-95b22d9090f1\", [{\"hoverinfo\": \"none\", \"z\": [[0, 0], [0.5, 0.5], [1, 1], [0.5, 0.5], [1, 1]], \"showscale\": false, \"opacity\": 0.75, \"type\": \"heatmap\", \"colorscale\": [[0, \"#00083e\"], [0.5, \"#ededee\"], [1, \"#ffffff\"]]}], {\"annotations\": [{\"x\": -0.45, \"showarrow\": false, \"xref\": \"x1\", \"font\": {\"color\": \"#ffffff\"}, \"yref\": \"y1\", \"xanchor\": \"left\", \"text\": \"<b>Result</b>\", \"y\": 0, \"align\": \"left\"}, {\"x\": 0.55, \"showarrow\": false, \"xref\": \"x1\", \"font\": {\"color\": \"#ffffff\"}, \"yref\": \"y1\", \"xanchor\": \"left\", \"text\": \"<b>Probability</b>\", \"y\": 0, \"align\": \"left\"}, {\"x\": -0.45, \"showarrow\": false, \"xref\": \"x1\", \"font\": {\"color\": \"#000000\"}, \"yref\": \"y1\", \"xanchor\": \"left\", \"text\": \"West Win\", \"y\": 1, \"align\": \"left\"}, {\"x\": 0.55, \"showarrow\": false, \"xref\": \"x1\", \"font\": {\"color\": \"#000000\"}, \"yref\": \"y1\", \"xanchor\": \"left\", \"text\": \"0.461842433219\", \"y\": 1, \"align\": \"left\"}, {\"x\": -0.45, \"showarrow\": false, \"xref\": \"x1\", \"font\": {\"color\": \"#000000\"}, \"yref\": \"y1\", \"xanchor\": \"left\", \"text\": \"Everton Win\", \"y\": 2, \"align\": \"left\"}, {\"x\": 0.55, \"showarrow\": false, \"xref\": \"x1\", \"font\": {\"color\": \"#000000\"}, \"yref\": \"y1\", \"xanchor\": \"left\", \"text\": \"0.269460890716\", \"y\": 2, \"align\": \"left\"}, {\"x\": -0.45, \"showarrow\": false, \"xref\": \"x1\", \"font\": {\"color\": \"#000000\"}, \"yref\": \"y1\", \"xanchor\": \"left\", \"text\": \"Draw\", \"y\": 3, \"align\": \"left\"}, {\"x\": 0.55, \"showarrow\": false, \"xref\": \"x1\", \"font\": {\"color\": \"#000000\"}, \"yref\": \"y1\", \"xanchor\": \"left\", \"text\": \"0.26869636591\", \"y\": 3, \"align\": \"left\"}, {\"x\": -0.45, \"showarrow\": false, \"xref\": \"x1\", \"font\": {\"color\": \"#000000\"}, \"yref\": \"y1\", \"xanchor\": \"left\", \"text\": \"Most Probable Score: 1 - 1\", \"y\": 4, \"align\": \"left\"}, {\"x\": 0.55, \"showarrow\": false, \"xref\": \"x1\", \"font\": {\"color\": \"#000000\"}, \"yref\": \"y1\", \"xanchor\": \"left\", \"text\": \"0.126703373133\", \"y\": 4, \"align\": \"left\"}], \"margin\": {\"r\": 0, \"t\": 0, \"b\": 0, \"l\": 0}, \"yaxis\": {\"tick0\": 0.5, \"gridwidth\": 2, \"dtick\": 1, \"ticks\": \"\", \"zeroline\": false, \"showticklabels\": false, \"autorange\": \"reversed\"}, \"xaxis\": {\"tick0\": -0.5, \"gridwidth\": 2, \"dtick\": 1, \"ticks\": \"\", \"showticklabels\": false, \"zeroline\": false}, \"height\": 200}, {\"linkText\": \"Export to plot.ly\", \"showLink\": true})});</script>"
      ],
      "text/vnd.plotly.v1+html": [
       "<div id=\"a8154f78-7ef3-4ba0-8907-95b22d9090f1\" style=\"height: 200px; width: 100%;\" class=\"plotly-graph-div\"></div><script type=\"text/javascript\">require([\"plotly\"], function(Plotly) { window.PLOTLYENV=window.PLOTLYENV || {};window.PLOTLYENV.BASE_URL=\"https://plot.ly\";Plotly.newPlot(\"a8154f78-7ef3-4ba0-8907-95b22d9090f1\", [{\"hoverinfo\": \"none\", \"z\": [[0, 0], [0.5, 0.5], [1, 1], [0.5, 0.5], [1, 1]], \"showscale\": false, \"opacity\": 0.75, \"type\": \"heatmap\", \"colorscale\": [[0, \"#00083e\"], [0.5, \"#ededee\"], [1, \"#ffffff\"]]}], {\"annotations\": [{\"x\": -0.45, \"showarrow\": false, \"xref\": \"x1\", \"font\": {\"color\": \"#ffffff\"}, \"yref\": \"y1\", \"xanchor\": \"left\", \"text\": \"<b>Result</b>\", \"y\": 0, \"align\": \"left\"}, {\"x\": 0.55, \"showarrow\": false, \"xref\": \"x1\", \"font\": {\"color\": \"#ffffff\"}, \"yref\": \"y1\", \"xanchor\": \"left\", \"text\": \"<b>Probability</b>\", \"y\": 0, \"align\": \"left\"}, {\"x\": -0.45, \"showarrow\": false, \"xref\": \"x1\", \"font\": {\"color\": \"#000000\"}, \"yref\": \"y1\", \"xanchor\": \"left\", \"text\": \"West Win\", \"y\": 1, \"align\": \"left\"}, {\"x\": 0.55, \"showarrow\": false, \"xref\": \"x1\", \"font\": {\"color\": \"#000000\"}, \"yref\": \"y1\", \"xanchor\": \"left\", \"text\": \"0.461842433219\", \"y\": 1, \"align\": \"left\"}, {\"x\": -0.45, \"showarrow\": false, \"xref\": \"x1\", \"font\": {\"color\": \"#000000\"}, \"yref\": \"y1\", \"xanchor\": \"left\", \"text\": \"Everton Win\", \"y\": 2, \"align\": \"left\"}, {\"x\": 0.55, \"showarrow\": false, \"xref\": \"x1\", \"font\": {\"color\": \"#000000\"}, \"yref\": \"y1\", \"xanchor\": \"left\", \"text\": \"0.269460890716\", \"y\": 2, \"align\": \"left\"}, {\"x\": -0.45, \"showarrow\": false, \"xref\": \"x1\", \"font\": {\"color\": \"#000000\"}, \"yref\": \"y1\", \"xanchor\": \"left\", \"text\": \"Draw\", \"y\": 3, \"align\": \"left\"}, {\"x\": 0.55, \"showarrow\": false, \"xref\": \"x1\", \"font\": {\"color\": \"#000000\"}, \"yref\": \"y1\", \"xanchor\": \"left\", \"text\": \"0.26869636591\", \"y\": 3, \"align\": \"left\"}, {\"x\": -0.45, \"showarrow\": false, \"xref\": \"x1\", \"font\": {\"color\": \"#000000\"}, \"yref\": \"y1\", \"xanchor\": \"left\", \"text\": \"Most Probable Score: 1 - 1\", \"y\": 4, \"align\": \"left\"}, {\"x\": 0.55, \"showarrow\": false, \"xref\": \"x1\", \"font\": {\"color\": \"#000000\"}, \"yref\": \"y1\", \"xanchor\": \"left\", \"text\": \"0.126703373133\", \"y\": 4, \"align\": \"left\"}], \"margin\": {\"r\": 0, \"t\": 0, \"b\": 0, \"l\": 0}, \"yaxis\": {\"tick0\": 0.5, \"gridwidth\": 2, \"dtick\": 1, \"ticks\": \"\", \"zeroline\": false, \"showticklabels\": false, \"autorange\": \"reversed\"}, \"xaxis\": {\"tick0\": -0.5, \"gridwidth\": 2, \"dtick\": 1, \"ticks\": \"\", \"showticklabels\": false, \"zeroline\": false}, \"height\": 200}, {\"linkText\": \"Export to plot.ly\", \"showLink\": true})});</script>"
      ]
     },
     "metadata": {},
     "output_type": "display_data"
    },
    {
     "data": {
      "application/vnd.plotly.v1+json": {
       "data": [
        {
         "mode": "lines",
         "name": "West Ham United FC",
         "type": "scatter",
         "x": [
          0,
          1,
          2,
          3,
          4,
          5,
          6,
          7,
          8,
          9,
          10
         ],
         "y": [
          0.24459162822118027,
          0.34442543930513175,
          0.24250397305761176,
          0.11382855859383417,
          0.04007235609848674,
          0.011285700130939968,
          0.0026486885192638695,
          0.0005328273167953711,
          9.378861614954107e-05,
          1.4674430352908622e-05,
          2.0664023366665017e-06
         ]
        },
        {
         "mode": "lines",
         "name": "Everton FC",
         "type": "scatter",
         "x": [
          0,
          1,
          2,
          3,
          4,
          5,
          6,
          7,
          8,
          9,
          10
         ],
         "y": [
          0.36508492824902505,
          0.3678688002509239,
          0.18533695001748612,
          0.06225006491146501,
          0.015681184652261742,
          0.003160151591142072,
          0.0005307081012720437,
          7.639355643894185e-05,
          9.622009763891774e-06,
          1.0772644676349418e-06,
          1.0854789025733344e-07
         ]
        }
       ],
       "layout": {}
      },
      "text/html": [
       "<div id=\"a9281503-0e0b-4214-9ae2-198bacce6dc0\" style=\"height: 525px; width: 100%;\" class=\"plotly-graph-div\"></div><script type=\"text/javascript\">require([\"plotly\"], function(Plotly) { window.PLOTLYENV=window.PLOTLYENV || {};window.PLOTLYENV.BASE_URL=\"https://plot.ly\";Plotly.newPlot(\"a9281503-0e0b-4214-9ae2-198bacce6dc0\", [{\"x\": [0, 1, 2, 3, 4, 5, 6, 7, 8, 9, 10], \"type\": \"scatter\", \"y\": [0.24459162822118027, 0.34442543930513175, 0.24250397305761176, 0.11382855859383417, 0.04007235609848674, 0.011285700130939968, 0.0026486885192638695, 0.0005328273167953711, 9.378861614954107e-05, 1.4674430352908622e-05, 2.0664023366665017e-06], \"mode\": \"lines\", \"name\": \"West Ham United FC\"}, {\"x\": [0, 1, 2, 3, 4, 5, 6, 7, 8, 9, 10], \"type\": \"scatter\", \"y\": [0.36508492824902505, 0.3678688002509239, 0.18533695001748612, 0.06225006491146501, 0.015681184652261742, 0.003160151591142072, 0.0005307081012720437, 7.639355643894185e-05, 9.622009763891774e-06, 1.0772644676349418e-06, 1.0854789025733344e-07], \"mode\": \"lines\", \"name\": \"Everton FC\"}], {}, {\"linkText\": \"Export to plot.ly\", \"showLink\": true})});</script>"
      ],
      "text/vnd.plotly.v1+html": [
       "<div id=\"a9281503-0e0b-4214-9ae2-198bacce6dc0\" style=\"height: 525px; width: 100%;\" class=\"plotly-graph-div\"></div><script type=\"text/javascript\">require([\"plotly\"], function(Plotly) { window.PLOTLYENV=window.PLOTLYENV || {};window.PLOTLYENV.BASE_URL=\"https://plot.ly\";Plotly.newPlot(\"a9281503-0e0b-4214-9ae2-198bacce6dc0\", [{\"x\": [0, 1, 2, 3, 4, 5, 6, 7, 8, 9, 10], \"type\": \"scatter\", \"y\": [0.24459162822118027, 0.34442543930513175, 0.24250397305761176, 0.11382855859383417, 0.04007235609848674, 0.011285700130939968, 0.0026486885192638695, 0.0005328273167953711, 9.378861614954107e-05, 1.4674430352908622e-05, 2.0664023366665017e-06], \"mode\": \"lines\", \"name\": \"West Ham United FC\"}, {\"x\": [0, 1, 2, 3, 4, 5, 6, 7, 8, 9, 10], \"type\": \"scatter\", \"y\": [0.36508492824902505, 0.3678688002509239, 0.18533695001748612, 0.06225006491146501, 0.015681184652261742, 0.003160151591142072, 0.0005307081012720437, 7.639355643894185e-05, 9.622009763891774e-06, 1.0772644676349418e-06, 1.0854789025733344e-07], \"mode\": \"lines\", \"name\": \"Everton FC\"}], {}, {\"linkText\": \"Export to plot.ly\", \"showLink\": true})});</script>"
      ]
     },
     "metadata": {},
     "output_type": "display_data"
    },
    {
     "name": "stdout",
     "output_type": "stream",
     "text": [
      "HHHHHH\n"
     ]
    },
    {
     "data": {
      "application/vnd.plotly.v1+json": {
       "data": [
        {
         "colorscale": [
          [
           0,
           "#00083e"
          ],
          [
           0.5,
           "#ededee"
          ],
          [
           1,
           "#ffffff"
          ]
         ],
         "hoverinfo": "none",
         "opacity": 0.75,
         "showscale": false,
         "type": "heatmap",
         "z": [
          [
           0,
           0
          ],
          [
           0.5,
           0.5
          ],
          [
           1,
           1
          ],
          [
           0.5,
           0.5
          ],
          [
           1,
           1
          ]
         ]
        }
       ],
       "layout": {
        "annotations": [
         {
          "align": "left",
          "font": {
           "color": "#ffffff"
          },
          "showarrow": false,
          "text": "<b>Result</b>",
          "x": -0.45,
          "xanchor": "left",
          "xref": "x1",
          "y": 0,
          "yref": "y1"
         },
         {
          "align": "left",
          "font": {
           "color": "#ffffff"
          },
          "showarrow": false,
          "text": "<b>Probability</b>",
          "x": 0.55,
          "xanchor": "left",
          "xref": "x1",
          "y": 0,
          "yref": "y1"
         },
         {
          "align": "left",
          "font": {
           "color": "#000000"
          },
          "showarrow": false,
          "text": "Swansea Win",
          "x": -0.45,
          "xanchor": "left",
          "xref": "x1",
          "y": 1,
          "yref": "y1"
         },
         {
          "align": "left",
          "font": {
           "color": "#000000"
          },
          "showarrow": false,
          "text": "0.462896695173",
          "x": 0.55,
          "xanchor": "left",
          "xref": "x1",
          "y": 1,
          "yref": "y1"
         },
         {
          "align": "left",
          "font": {
           "color": "#000000"
          },
          "showarrow": false,
          "text": "Stoke Win",
          "x": -0.45,
          "xanchor": "left",
          "xref": "x1",
          "y": 2,
          "yref": "y1"
         },
         {
          "align": "left",
          "font": {
           "color": "#000000"
          },
          "showarrow": false,
          "text": "0.236116504851",
          "x": 0.55,
          "xanchor": "left",
          "xref": "x1",
          "y": 2,
          "yref": "y1"
         },
         {
          "align": "left",
          "font": {
           "color": "#000000"
          },
          "showarrow": false,
          "text": "Draw",
          "x": -0.45,
          "xanchor": "left",
          "xref": "x1",
          "y": 3,
          "yref": "y1"
         },
         {
          "align": "left",
          "font": {
           "color": "#000000"
          },
          "showarrow": false,
          "text": "0.30098673553",
          "x": 0.55,
          "xanchor": "left",
          "xref": "x1",
          "y": 3,
          "yref": "y1"
         },
         {
          "align": "left",
          "font": {
           "color": "#000000"
          },
          "showarrow": false,
          "text": "Most Probable Score: 1 - 0",
          "x": -0.45,
          "xanchor": "left",
          "xref": "x1",
          "y": 4,
          "yref": "y1"
         },
         {
          "align": "left",
          "font": {
           "color": "#000000"
          },
          "showarrow": false,
          "text": "0.167519958842",
          "x": 0.55,
          "xanchor": "left",
          "xref": "x1",
          "y": 4,
          "yref": "y1"
         }
        ],
        "height": 200,
        "margin": {
         "b": 0,
         "l": 0,
         "r": 0,
         "t": 0
        },
        "xaxis": {
         "dtick": 1,
         "gridwidth": 2,
         "showticklabels": false,
         "tick0": -0.5,
         "ticks": "",
         "zeroline": false
        },
        "yaxis": {
         "autorange": "reversed",
         "dtick": 1,
         "gridwidth": 2,
         "showticklabels": false,
         "tick0": 0.5,
         "ticks": "",
         "zeroline": false
        }
       }
      },
      "text/html": [
       "<div id=\"18e64746-be1b-4227-b946-8232b05d57f5\" style=\"height: 200px; width: 100%;\" class=\"plotly-graph-div\"></div><script type=\"text/javascript\">require([\"plotly\"], function(Plotly) { window.PLOTLYENV=window.PLOTLYENV || {};window.PLOTLYENV.BASE_URL=\"https://plot.ly\";Plotly.newPlot(\"18e64746-be1b-4227-b946-8232b05d57f5\", [{\"hoverinfo\": \"none\", \"z\": [[0, 0], [0.5, 0.5], [1, 1], [0.5, 0.5], [1, 1]], \"showscale\": false, \"opacity\": 0.75, \"type\": \"heatmap\", \"colorscale\": [[0, \"#00083e\"], [0.5, \"#ededee\"], [1, \"#ffffff\"]]}], {\"annotations\": [{\"x\": -0.45, \"showarrow\": false, \"xref\": \"x1\", \"font\": {\"color\": \"#ffffff\"}, \"yref\": \"y1\", \"xanchor\": \"left\", \"text\": \"<b>Result</b>\", \"y\": 0, \"align\": \"left\"}, {\"x\": 0.55, \"showarrow\": false, \"xref\": \"x1\", \"font\": {\"color\": \"#ffffff\"}, \"yref\": \"y1\", \"xanchor\": \"left\", \"text\": \"<b>Probability</b>\", \"y\": 0, \"align\": \"left\"}, {\"x\": -0.45, \"showarrow\": false, \"xref\": \"x1\", \"font\": {\"color\": \"#000000\"}, \"yref\": \"y1\", \"xanchor\": \"left\", \"text\": \"Swansea Win\", \"y\": 1, \"align\": \"left\"}, {\"x\": 0.55, \"showarrow\": false, \"xref\": \"x1\", \"font\": {\"color\": \"#000000\"}, \"yref\": \"y1\", \"xanchor\": \"left\", \"text\": \"0.462896695173\", \"y\": 1, \"align\": \"left\"}, {\"x\": -0.45, \"showarrow\": false, \"xref\": \"x1\", \"font\": {\"color\": \"#000000\"}, \"yref\": \"y1\", \"xanchor\": \"left\", \"text\": \"Stoke Win\", \"y\": 2, \"align\": \"left\"}, {\"x\": 0.55, \"showarrow\": false, \"xref\": \"x1\", \"font\": {\"color\": \"#000000\"}, \"yref\": \"y1\", \"xanchor\": \"left\", \"text\": \"0.236116504851\", \"y\": 2, \"align\": \"left\"}, {\"x\": -0.45, \"showarrow\": false, \"xref\": \"x1\", \"font\": {\"color\": \"#000000\"}, \"yref\": \"y1\", \"xanchor\": \"left\", \"text\": \"Draw\", \"y\": 3, \"align\": \"left\"}, {\"x\": 0.55, \"showarrow\": false, \"xref\": \"x1\", \"font\": {\"color\": \"#000000\"}, \"yref\": \"y1\", \"xanchor\": \"left\", \"text\": \"0.30098673553\", \"y\": 3, \"align\": \"left\"}, {\"x\": -0.45, \"showarrow\": false, \"xref\": \"x1\", \"font\": {\"color\": \"#000000\"}, \"yref\": \"y1\", \"xanchor\": \"left\", \"text\": \"Most Probable Score: 1 - 0\", \"y\": 4, \"align\": \"left\"}, {\"x\": 0.55, \"showarrow\": false, \"xref\": \"x1\", \"font\": {\"color\": \"#000000\"}, \"yref\": \"y1\", \"xanchor\": \"left\", \"text\": \"0.167519958842\", \"y\": 4, \"align\": \"left\"}], \"margin\": {\"r\": 0, \"t\": 0, \"b\": 0, \"l\": 0}, \"yaxis\": {\"tick0\": 0.5, \"gridwidth\": 2, \"dtick\": 1, \"ticks\": \"\", \"zeroline\": false, \"showticklabels\": false, \"autorange\": \"reversed\"}, \"xaxis\": {\"tick0\": -0.5, \"gridwidth\": 2, \"dtick\": 1, \"ticks\": \"\", \"showticklabels\": false, \"zeroline\": false}, \"height\": 200}, {\"linkText\": \"Export to plot.ly\", \"showLink\": true})});</script>"
      ],
      "text/vnd.plotly.v1+html": [
       "<div id=\"18e64746-be1b-4227-b946-8232b05d57f5\" style=\"height: 200px; width: 100%;\" class=\"plotly-graph-div\"></div><script type=\"text/javascript\">require([\"plotly\"], function(Plotly) { window.PLOTLYENV=window.PLOTLYENV || {};window.PLOTLYENV.BASE_URL=\"https://plot.ly\";Plotly.newPlot(\"18e64746-be1b-4227-b946-8232b05d57f5\", [{\"hoverinfo\": \"none\", \"z\": [[0, 0], [0.5, 0.5], [1, 1], [0.5, 0.5], [1, 1]], \"showscale\": false, \"opacity\": 0.75, \"type\": \"heatmap\", \"colorscale\": [[0, \"#00083e\"], [0.5, \"#ededee\"], [1, \"#ffffff\"]]}], {\"annotations\": [{\"x\": -0.45, \"showarrow\": false, \"xref\": \"x1\", \"font\": {\"color\": \"#ffffff\"}, \"yref\": \"y1\", \"xanchor\": \"left\", \"text\": \"<b>Result</b>\", \"y\": 0, \"align\": \"left\"}, {\"x\": 0.55, \"showarrow\": false, \"xref\": \"x1\", \"font\": {\"color\": \"#ffffff\"}, \"yref\": \"y1\", \"xanchor\": \"left\", \"text\": \"<b>Probability</b>\", \"y\": 0, \"align\": \"left\"}, {\"x\": -0.45, \"showarrow\": false, \"xref\": \"x1\", \"font\": {\"color\": \"#000000\"}, \"yref\": \"y1\", \"xanchor\": \"left\", \"text\": \"Swansea Win\", \"y\": 1, \"align\": \"left\"}, {\"x\": 0.55, \"showarrow\": false, \"xref\": \"x1\", \"font\": {\"color\": \"#000000\"}, \"yref\": \"y1\", \"xanchor\": \"left\", \"text\": \"0.462896695173\", \"y\": 1, \"align\": \"left\"}, {\"x\": -0.45, \"showarrow\": false, \"xref\": \"x1\", \"font\": {\"color\": \"#000000\"}, \"yref\": \"y1\", \"xanchor\": \"left\", \"text\": \"Stoke Win\", \"y\": 2, \"align\": \"left\"}, {\"x\": 0.55, \"showarrow\": false, \"xref\": \"x1\", \"font\": {\"color\": \"#000000\"}, \"yref\": \"y1\", \"xanchor\": \"left\", \"text\": \"0.236116504851\", \"y\": 2, \"align\": \"left\"}, {\"x\": -0.45, \"showarrow\": false, \"xref\": \"x1\", \"font\": {\"color\": \"#000000\"}, \"yref\": \"y1\", \"xanchor\": \"left\", \"text\": \"Draw\", \"y\": 3, \"align\": \"left\"}, {\"x\": 0.55, \"showarrow\": false, \"xref\": \"x1\", \"font\": {\"color\": \"#000000\"}, \"yref\": \"y1\", \"xanchor\": \"left\", \"text\": \"0.30098673553\", \"y\": 3, \"align\": \"left\"}, {\"x\": -0.45, \"showarrow\": false, \"xref\": \"x1\", \"font\": {\"color\": \"#000000\"}, \"yref\": \"y1\", \"xanchor\": \"left\", \"text\": \"Most Probable Score: 1 - 0\", \"y\": 4, \"align\": \"left\"}, {\"x\": 0.55, \"showarrow\": false, \"xref\": \"x1\", \"font\": {\"color\": \"#000000\"}, \"yref\": \"y1\", \"xanchor\": \"left\", \"text\": \"0.167519958842\", \"y\": 4, \"align\": \"left\"}], \"margin\": {\"r\": 0, \"t\": 0, \"b\": 0, \"l\": 0}, \"yaxis\": {\"tick0\": 0.5, \"gridwidth\": 2, \"dtick\": 1, \"ticks\": \"\", \"zeroline\": false, \"showticklabels\": false, \"autorange\": \"reversed\"}, \"xaxis\": {\"tick0\": -0.5, \"gridwidth\": 2, \"dtick\": 1, \"ticks\": \"\", \"showticklabels\": false, \"zeroline\": false}, \"height\": 200}, {\"linkText\": \"Export to plot.ly\", \"showLink\": true})});</script>"
      ]
     },
     "metadata": {},
     "output_type": "display_data"
    },
    {
     "data": {
      "application/vnd.plotly.v1+json": {
       "data": [
        {
         "mode": "lines",
         "name": "Swansea City FC",
         "type": "scatter",
         "x": [
          0,
          1,
          2,
          3,
          4,
          5,
          6,
          7,
          8,
          9,
          10
         ],
         "y": [
          0.30031154955059514,
          0.3612552272174023,
          0.2172832503231948,
          0.08712586432712494,
          0.026201684518218443,
          0.006303783859310406,
          0.0012638402096269855,
          0.00021718820375446002,
          3.265790726899693e-05,
          4.365037178727433e-06,
          5.250855320660652e-07
         ]
        },
        {
         "mode": "lines",
         "name": "Stoke City FC",
         "type": "scatter",
         "x": [
          0,
          1,
          2,
          3,
          4,
          5,
          6,
          7,
          8,
          9,
          10
         ],
         "y": [
          0.46371635957210233,
          0.35635777174959965,
          0.13692730358221727,
          0.03507539885032736,
          0.006738704986095936,
          0.0010357149769479623,
          0.0001326547553384572,
          1.4563259892017369e-05,
          1.3989507641369627e-06,
          1.1945208574273653e-07,
          9.179680256569629e-09
         ]
        }
       ],
       "layout": {}
      },
      "text/html": [
       "<div id=\"defe1f46-698d-4af7-bf4e-b0a825473457\" style=\"height: 525px; width: 100%;\" class=\"plotly-graph-div\"></div><script type=\"text/javascript\">require([\"plotly\"], function(Plotly) { window.PLOTLYENV=window.PLOTLYENV || {};window.PLOTLYENV.BASE_URL=\"https://plot.ly\";Plotly.newPlot(\"defe1f46-698d-4af7-bf4e-b0a825473457\", [{\"x\": [0, 1, 2, 3, 4, 5, 6, 7, 8, 9, 10], \"type\": \"scatter\", \"y\": [0.30031154955059514, 0.3612552272174023, 0.2172832503231948, 0.08712586432712494, 0.026201684518218443, 0.006303783859310406, 0.0012638402096269855, 0.00021718820375446002, 3.265790726899693e-05, 4.365037178727433e-06, 5.250855320660652e-07], \"mode\": \"lines\", \"name\": \"Swansea City FC\"}, {\"x\": [0, 1, 2, 3, 4, 5, 6, 7, 8, 9, 10], \"type\": \"scatter\", \"y\": [0.46371635957210233, 0.35635777174959965, 0.13692730358221727, 0.03507539885032736, 0.006738704986095936, 0.0010357149769479623, 0.0001326547553384572, 1.4563259892017369e-05, 1.3989507641369627e-06, 1.1945208574273653e-07, 9.179680256569629e-09], \"mode\": \"lines\", \"name\": \"Stoke City FC\"}], {}, {\"linkText\": \"Export to plot.ly\", \"showLink\": true})});</script>"
      ],
      "text/vnd.plotly.v1+html": [
       "<div id=\"defe1f46-698d-4af7-bf4e-b0a825473457\" style=\"height: 525px; width: 100%;\" class=\"plotly-graph-div\"></div><script type=\"text/javascript\">require([\"plotly\"], function(Plotly) { window.PLOTLYENV=window.PLOTLYENV || {};window.PLOTLYENV.BASE_URL=\"https://plot.ly\";Plotly.newPlot(\"defe1f46-698d-4af7-bf4e-b0a825473457\", [{\"x\": [0, 1, 2, 3, 4, 5, 6, 7, 8, 9, 10], \"type\": \"scatter\", \"y\": [0.30031154955059514, 0.3612552272174023, 0.2172832503231948, 0.08712586432712494, 0.026201684518218443, 0.006303783859310406, 0.0012638402096269855, 0.00021718820375446002, 3.265790726899693e-05, 4.365037178727433e-06, 5.250855320660652e-07], \"mode\": \"lines\", \"name\": \"Swansea City FC\"}, {\"x\": [0, 1, 2, 3, 4, 5, 6, 7, 8, 9, 10], \"type\": \"scatter\", \"y\": [0.46371635957210233, 0.35635777174959965, 0.13692730358221727, 0.03507539885032736, 0.006738704986095936, 0.0010357149769479623, 0.0001326547553384572, 1.4563259892017369e-05, 1.3989507641369627e-06, 1.1945208574273653e-07, 9.179680256569629e-09], \"mode\": \"lines\", \"name\": \"Stoke City FC\"}], {}, {\"linkText\": \"Export to plot.ly\", \"showLink\": true})});</script>"
      ]
     },
     "metadata": {},
     "output_type": "display_data"
    }
   ],
   "source": [
    "matchday(day='13', month='05', year='2018')"
   ]
  },
  {
   "cell_type": "code",
   "execution_count": null,
   "metadata": {
    "collapsed": true
   },
   "outputs": [],
   "source": []
  }
 ],
 "metadata": {
  "kernelspec": {
   "display_name": "Python 3",
   "language": "python",
   "name": "python3"
  },
  "language_info": {
   "codemirror_mode": {
    "name": "ipython",
    "version": 3
   },
   "file_extension": ".py",
   "mimetype": "text/x-python",
   "name": "python",
   "nbconvert_exporter": "python",
   "pygments_lexer": "ipython3",
   "version": "3.5.2"
  }
 },
 "nbformat": 4,
 "nbformat_minor": 2
}
